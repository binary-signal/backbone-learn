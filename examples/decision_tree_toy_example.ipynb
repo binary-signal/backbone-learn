{
 "cells": [
  {
   "cell_type": "code",
   "execution_count": 1,
   "metadata": {},
   "outputs": [],
   "source": [
    "%%capture\n",
    "!pip install backbone-learn\n",
    "!pip install git+https://github.com/D3M-Research-Group/odtlearn.git#egg=odtlearn\n"
   ]
  },
  {
   "cell_type": "code",
   "execution_count": 2,
   "metadata": {},
   "outputs": [
    {
     "name": "stdout",
     "output_type": "stream",
     "text": [
      "DYLD_LIBRARY_PATH: 'os.environ.get('DYLD_LIBRARY_PATH')'\n",
      "PMIP_CBC_LIBRARY: 'os.environ.get('PMIP_CBC_LIBRARY')'\n"
     ]
    }
   ],
   "source": [
    "import os\n",
    "# Manually replace '~' with your actual home directory path\n",
    "home_directory = os.path.expanduser('~')\n",
    "os.environ['DYLD_LIBRARY_PATH'] = os.path.join(home_directory, 'CBC/dist/lib')\n",
    "os.environ['PMIP_CBC_LIBRARY'] = os.path.join(home_directory, 'CBC/dist/lib/libCbc.dylib')\n",
    "\n",
    "# Verify if the environment variables are set\n",
    "print(f\"DYLD_LIBRARY_PATH: 'os.environ.get('DYLD_LIBRARY_PATH')'\")\n",
    "print(f\"PMIP_CBC_LIBRARY: 'os.environ.get('PMIP_CBC_LIBRARY')'\")"
   ]
  },
  {
   "cell_type": "code",
   "execution_count": 3,
   "metadata": {},
   "outputs": [
    {
     "name": "stderr",
     "output_type": "stream",
     "text": [
      "2023-11-22 21:18:59,819 - INFO - Screen selection started.\n",
      "2023-11-22 21:18:59,819 - INFO - Number of variables included in the heuristic solver: 2\n",
      "2023-11-22 21:18:59,819 - INFO - Backbone construction with heuristic solver started for iterations:1,\n",
      "            subproblems:5 , and beta:0.5\n",
      "2023-11-22 21:18:59,820 - INFO - Iteration 1 started.\n"
     ]
    },
    {
     "name": "stdout",
     "output_type": "stream",
     "text": [
      "Fitting 5 folds for each of 12 candidates, totalling 60 fits\n",
      "Fitting 5 folds for each of 12 candidates, totalling 60 fits\n",
      "Fitting 5 folds for each of 12 candidates, totalling 60 fits\n",
      "Fitting 5 folds for each of 12 candidates, totalling 60 fits\n"
     ]
    },
    {
     "name": "stderr",
     "output_type": "stream",
     "text": [
      "2023-11-22 21:19:00,098 - INFO - Iteration 1 completed.\n",
      "2023-11-22 21:19:00,099 - INFO - Backbone set idx: [0 1]\n",
      "2023-11-22 21:19:00,099 - INFO - Number of variables included in the exact solver: 2\n"
     ]
    },
    {
     "name": "stdout",
     "output_type": "stream",
     "text": [
      "Fitting 5 folds for each of 12 candidates, totalling 60 fits\n",
      "Cbc0045I May be able to increase cutoff increment to 0.0999 - but we have lazy constraints\n",
      "Cbc0031I 11 added rows had average density of 5.4545455\n",
      "Cbc0013I At root node, 11 cuts changed objective from 90 to 89.65 in 8 passes\n",
      "Cbc0014I Cut generator 0 (LazyConstraints) - 331 row cuts average 4.3 elements, 0 column cuts (0 active)  in 0.019 seconds - new frequency is 1\n",
      "Cbc0014I Cut generator 1 (Probing) - 0 row cuts average 0.0 elements, 0 column cuts (0 active)  in 0.000 seconds - new frequency is -100\n",
      "Cbc0014I Cut generator 2 (Gomory) - 0 row cuts average 0.0 elements, 0 column cuts (0 active)  in 0.000 seconds - new frequency is -100\n",
      "Cbc0014I Cut generator 3 (Knapsack) - 0 row cuts average 0.0 elements, 0 column cuts (0 active)  in 0.000 seconds - new frequency is -100\n",
      "Cbc0014I Cut generator 4 (MixedIntegerRounding2) - 0 row cuts average 0.0 elements, 0 column cuts (0 active)  in 0.000 seconds - new frequency is -100\n",
      "Cbc0014I Cut generator 7 (ZeroHalf) - 0 row cuts average 0.0 elements, 0 column cuts (0 active)  in 0.000 seconds - new frequency is -100\n",
      "Cbc0004I Integer solution of 80 found after 56 iterations and 5 nodes (0.16 seconds)\n",
      "Cbc0004I Integer solution of 81.7 found after 249 iterations and 25 nodes (0.41 seconds)\n",
      "Cbc0016I Integer solution of 81.8 found by strong branching after 275 iterations and 28 nodes (0.45 seconds)\n",
      "Cbc0010I After 48 nodes, 2 on tree, 81.8 best solution, best possible 88.866667 (0.69 seconds)\n",
      "Cbc0010I After 119 nodes, 1 on tree, 81.8 best solution, best possible 87.75 (1.40 seconds)\n"
     ]
    },
    {
     "name": "stderr",
     "output_type": "stream",
     "text": [
      "2023-11-22 21:19:01,791 - INFO - Exact problem solved.\n"
     ]
    },
    {
     "name": "stdout",
     "output_type": "stream",
     "text": [
      "Cbc0001I Search completed - best objective 81.80000000000004, took 1293 iterations and 146 nodes (1.66 seconds)\n",
      "Cbc0032I Strong branching done 260 times (560 iterations), fathomed 0 nodes and fixed 0 variables\n",
      "Cbc0035I Maximum depth 7, 7 variables fixed on reduced cost\n"
     ]
    }
   ],
   "source": [
    "from sklearn.datasets import make_classification\n",
    "from backbone_learn.backbone.backbone_decision_tree import BackboneDecisionTree\n",
    "\n",
    "# Generate synhetic data. \n",
    "X, y = make_classification(n_samples=100, n_features=5, n_classes=2, random_state=17)\n",
    "\n",
    "# Run backbone for decision tress\n",
    "backbone = BackboneDecisionTree(alpha=0.5, beta=0.5, num_subproblems=5, num_iterations=1, depth=3, time_limit=100, _lambda=0.1, num_threads=None, obj_mode=\"acc\")\n",
    "backbone.fit(X, y)\n",
    "\n",
    "# Make predictions\n",
    "y_pred = backbone.predict(X)"
   ]
  }
 ],
 "metadata": {
  "kernelspec": {
   "display_name": "Python 3",
   "language": "python",
   "name": "python3"
  },
  "language_info": {
   "codemirror_mode": {
    "name": "ipython",
    "version": 3
   },
   "file_extension": ".py",
   "mimetype": "text/x-python",
   "name": "python",
   "nbconvert_exporter": "python",
   "pygments_lexer": "ipython3",
   "version": "3.9.7"
  },
  "orig_nbformat": 4
 },
 "nbformat": 4,
 "nbformat_minor": 2
}
