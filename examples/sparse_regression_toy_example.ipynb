{
 "cells": [
  {
   "cell_type": "code",
   "execution_count": 9,
   "metadata": {},
   "outputs": [],
   "source": [
    "%%capture\n",
    "!pip install backbone-learn;\n"
   ]
  },
  {
   "cell_type": "code",
   "execution_count": 8,
   "metadata": {},
   "outputs": [
    {
     "name": "stderr",
     "output_type": "stream",
     "text": [
      "2023-11-22 21:39:29,435 - INFO - Iteration 1 completed.\n",
      "2023-11-22 21:39:29,437 - INFO - Backbone set idx: [  7  13  14  26  30  45  54  62  63  79  83  97  98 106 113 132 136 138\n",
      " 143 145 153 154 156 167 174 192 209 211 212 216 223 241 243 244 251 255\n",
      " 256 261 267 274 284 296 299 311 357 360 365 367 381 391 394 398 409 419\n",
      " 425 442 446 448 463 465 469 470 476 481 483 493]\n",
      "2023-11-22 21:39:29,440 - INFO - Number of variables included in the exact solver: 66\n"
     ]
    },
    {
     "name": "stdout",
     "output_type": "stream",
     "text": [
      "Preprocessing Data.\n",
      "BnB Started.\n",
      "Iteration: 1. Number of non-zeros:  1\n",
      "Iteration: 2. Number of non-zeros:  1\n",
      "Iteration: 3. Number of non-zeros:  2\n",
      "Iteration: 4. Number of non-zeros:  3\n",
      "Iteration: 5. Number of non-zeros:  4\n",
      "Iteration: 6. Number of non-zeros:  4\n",
      "Iteration: 7. Number of non-zeros:  4\n",
      "Iteration: 8. Number of non-zeros:  4\n",
      "Iteration: 9. Number of non-zeros:  4\n",
      "Iteration: 10. Number of non-zeros:  4\n",
      "Iteration: 11. Number of non-zeros:  4\n",
      "Iteration: 12. Number of non-zeros:  4\n",
      "Iteration: 13. Number of non-zeros:  4\n",
      "Iteration: 14. Number of non-zeros:  4\n",
      "Iteration: 15. Number of non-zeros:  4\n"
     ]
    },
    {
     "name": "stderr",
     "output_type": "stream",
     "text": [
      "2023-11-22 21:39:30,987 - INFO - Exact problem solved.\n"
     ]
    },
    {
     "name": "stdout",
     "output_type": "stream",
     "text": [
      "Iteration: 16. Number of non-zeros:  4\n",
      "Iteration: 17. Number of non-zeros:  65\n"
     ]
    }
   ],
   "source": [
    "# Import libraries\n",
    "from sklearn.datasets import make_regression\n",
    "from backbone_learn.backbone.backbone_sparse_regression import BackboneSparseRegression\n",
    "    \n",
    "# Generate fake data\n",
    "X, y = make_regression(\n",
    "        n_samples=100, n_features=500, n_informative=5, noise=0.1, random_state=42\n",
    ")\n",
    "\n",
    "# Run BackboneSparseRegression\n",
    "backbone = BackboneSparseRegression(alpha=0.5, beta=0.5, num_subproblems=5, num_iterations= 1, lambda_2 = 0.001, max_nonzeros= 10)\n",
    "backbone.fit(X, y)\n",
    "\n",
    "# Make predicitons\n",
    "y_pred = backbone.predict(X)"
   ]
  }
 ],
 "metadata": {
  "kernelspec": {
   "display_name": "Python 3",
   "language": "python",
   "name": "python3"
  },
  "language_info": {
   "codemirror_mode": {
    "name": "ipython",
    "version": 3
   },
   "file_extension": ".py",
   "mimetype": "text/x-python",
   "name": "python",
   "nbconvert_exporter": "python",
   "pygments_lexer": "ipython3",
   "version": "3.9.7"
  },
  "orig_nbformat": 4
 },
 "nbformat": 4,
 "nbformat_minor": 2
}
