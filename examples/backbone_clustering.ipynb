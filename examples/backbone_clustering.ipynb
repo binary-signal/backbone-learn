{
 "cells": [
  {
   "attachments": {},
   "cell_type": "markdown",
   "metadata": {},
   "source": [
    "### Load libraries"
   ]
  },
  {
   "cell_type": "code",
   "execution_count": 1,
   "metadata": {},
   "outputs": [
    {
     "name": "stdout",
     "output_type": "stream",
     "text": [
      "Requirement already satisfied: backbone-learn in /Users/christosziakas/.pyenv/versions/3.9.7/lib/python3.9/site-packages (0.1.0)\n",
      "Requirement already satisfied: pytest<8.0.0,>=7.4.3 in /Users/christosziakas/.pyenv/versions/3.9.7/lib/python3.9/site-packages (from backbone-learn) (7.4.3)\n",
      "Requirement already satisfied: ipykernel<7.0.0,>=6.26.0 in /Users/christosziakas/.pyenv/versions/3.9.7/lib/python3.9/site-packages (from backbone-learn) (6.26.0)\n",
      "Requirement already satisfied: pre-commit<4.0.0,>=3.5.0 in /Users/christosziakas/.pyenv/versions/3.9.7/lib/python3.9/site-packages (from backbone-learn) (3.5.0)\n",
      "Requirement already satisfied: pulp<3.0.0,>=2.7.0 in /Users/christosziakas/.pyenv/versions/3.9.7/lib/python3.9/site-packages (from backbone-learn) (2.7.0)\n",
      "Requirement already satisfied: l0bnb<2.0.0,>=1.0.0 in /Users/christosziakas/.pyenv/versions/3.9.7/lib/python3.9/site-packages (from backbone-learn) (1.0.0)\n",
      "Requirement already satisfied: numpy<2.0.0,>=1.26.1 in /Users/christosziakas/.pyenv/versions/3.9.7/lib/python3.9/site-packages (from backbone-learn) (1.26.2)\n",
      "Requirement already satisfied: scikit-learn<2.0.0,>=1.3.2 in /Users/christosziakas/.pyenv/versions/3.9.7/lib/python3.9/site-packages (from backbone-learn) (1.3.2)\n",
      "Requirement already satisfied: seaborn<0.14.0,>=0.13.0 in /Users/christosziakas/.pyenv/versions/3.9.7/lib/python3.9/site-packages (from backbone-learn) (0.13.0)\n",
      "Requirement already satisfied: jupyter<2.0.0,>=1.0.0 in /Users/christosziakas/.pyenv/versions/3.9.7/lib/python3.9/site-packages (from backbone-learn) (1.0.0)\n",
      "Requirement already satisfied: appnope in /Users/christosziakas/.pyenv/versions/3.9.7/lib/python3.9/site-packages (from ipykernel<7.0.0,>=6.26.0->backbone-learn) (0.1.3)\n",
      "Requirement already satisfied: debugpy>=1.6.5 in /Users/christosziakas/.pyenv/versions/3.9.7/lib/python3.9/site-packages (from ipykernel<7.0.0,>=6.26.0->backbone-learn) (1.8.0)\n",
      "Requirement already satisfied: tornado>=6.1 in /Users/christosziakas/.pyenv/versions/3.9.7/lib/python3.9/site-packages (from ipykernel<7.0.0,>=6.26.0->backbone-learn) (6.3.3)\n",
      "Requirement already satisfied: packaging in /Users/christosziakas/.pyenv/versions/3.9.7/lib/python3.9/site-packages (from ipykernel<7.0.0,>=6.26.0->backbone-learn) (23.2)\n",
      "Requirement already satisfied: jupyter-core!=5.0.*,>=4.12 in /Users/christosziakas/.pyenv/versions/3.9.7/lib/python3.9/site-packages (from ipykernel<7.0.0,>=6.26.0->backbone-learn) (5.5.0)\n",
      "Requirement already satisfied: nest-asyncio in /Users/christosziakas/.pyenv/versions/3.9.7/lib/python3.9/site-packages (from ipykernel<7.0.0,>=6.26.0->backbone-learn) (1.5.8)\n",
      "Requirement already satisfied: psutil in /Users/christosziakas/.pyenv/versions/3.9.7/lib/python3.9/site-packages (from ipykernel<7.0.0,>=6.26.0->backbone-learn) (5.9.6)\n",
      "Requirement already satisfied: traitlets>=5.4.0 in /Users/christosziakas/.pyenv/versions/3.9.7/lib/python3.9/site-packages (from ipykernel<7.0.0,>=6.26.0->backbone-learn) (5.13.0)\n",
      "Requirement already satisfied: ipython>=7.23.1 in /Users/christosziakas/.pyenv/versions/3.9.7/lib/python3.9/site-packages (from ipykernel<7.0.0,>=6.26.0->backbone-learn) (8.17.2)\n",
      "Requirement already satisfied: pyzmq>=20 in /Users/christosziakas/.pyenv/versions/3.9.7/lib/python3.9/site-packages (from ipykernel<7.0.0,>=6.26.0->backbone-learn) (25.1.1)\n",
      "Requirement already satisfied: comm>=0.1.1 in /Users/christosziakas/.pyenv/versions/3.9.7/lib/python3.9/site-packages (from ipykernel<7.0.0,>=6.26.0->backbone-learn) (0.2.0)\n",
      "Requirement already satisfied: matplotlib-inline>=0.1 in /Users/christosziakas/.pyenv/versions/3.9.7/lib/python3.9/site-packages (from ipykernel<7.0.0,>=6.26.0->backbone-learn) (0.1.6)\n",
      "Requirement already satisfied: jupyter-client>=6.1.12 in /Users/christosziakas/.pyenv/versions/3.9.7/lib/python3.9/site-packages (from ipykernel<7.0.0,>=6.26.0->backbone-learn) (8.6.0)\n",
      "Requirement already satisfied: decorator in /Users/christosziakas/.pyenv/versions/3.9.7/lib/python3.9/site-packages (from ipython>=7.23.1->ipykernel<7.0.0,>=6.26.0->backbone-learn) (5.1.1)\n",
      "Requirement already satisfied: pygments>=2.4.0 in /Users/christosziakas/.pyenv/versions/3.9.7/lib/python3.9/site-packages (from ipython>=7.23.1->ipykernel<7.0.0,>=6.26.0->backbone-learn) (2.17.0)\n",
      "Requirement already satisfied: stack-data in /Users/christosziakas/.pyenv/versions/3.9.7/lib/python3.9/site-packages (from ipython>=7.23.1->ipykernel<7.0.0,>=6.26.0->backbone-learn) (0.6.3)\n",
      "Requirement already satisfied: jedi>=0.16 in /Users/christosziakas/.pyenv/versions/3.9.7/lib/python3.9/site-packages (from ipython>=7.23.1->ipykernel<7.0.0,>=6.26.0->backbone-learn) (0.19.1)\n",
      "Requirement already satisfied: pexpect>4.3 in /Users/christosziakas/.pyenv/versions/3.9.7/lib/python3.9/site-packages (from ipython>=7.23.1->ipykernel<7.0.0,>=6.26.0->backbone-learn) (4.8.0)\n",
      "Requirement already satisfied: exceptiongroup in /Users/christosziakas/.pyenv/versions/3.9.7/lib/python3.9/site-packages (from ipython>=7.23.1->ipykernel<7.0.0,>=6.26.0->backbone-learn) (1.1.3)\n",
      "Requirement already satisfied: prompt-toolkit!=3.0.37,<3.1.0,>=3.0.30 in /Users/christosziakas/.pyenv/versions/3.9.7/lib/python3.9/site-packages (from ipython>=7.23.1->ipykernel<7.0.0,>=6.26.0->backbone-learn) (3.0.41)\n",
      "Requirement already satisfied: typing-extensions in /Users/christosziakas/.pyenv/versions/3.9.7/lib/python3.9/site-packages (from ipython>=7.23.1->ipykernel<7.0.0,>=6.26.0->backbone-learn) (4.8.0)\n",
      "Requirement already satisfied: parso<0.9.0,>=0.8.3 in /Users/christosziakas/.pyenv/versions/3.9.7/lib/python3.9/site-packages (from jedi>=0.16->ipython>=7.23.1->ipykernel<7.0.0,>=6.26.0->backbone-learn) (0.8.3)\n",
      "Requirement already satisfied: qtconsole in /Users/christosziakas/.pyenv/versions/3.9.7/lib/python3.9/site-packages (from jupyter<2.0.0,>=1.0.0->backbone-learn) (5.5.1)\n",
      "Requirement already satisfied: ipywidgets in /Users/christosziakas/.pyenv/versions/3.9.7/lib/python3.9/site-packages (from jupyter<2.0.0,>=1.0.0->backbone-learn) (8.1.1)\n",
      "Requirement already satisfied: jupyter-console in /Users/christosziakas/.pyenv/versions/3.9.7/lib/python3.9/site-packages (from jupyter<2.0.0,>=1.0.0->backbone-learn) (6.6.3)\n",
      "Requirement already satisfied: nbconvert in /Users/christosziakas/.pyenv/versions/3.9.7/lib/python3.9/site-packages (from jupyter<2.0.0,>=1.0.0->backbone-learn) (7.11.0)\n",
      "Requirement already satisfied: notebook in /Users/christosziakas/.pyenv/versions/3.9.7/lib/python3.9/site-packages (from jupyter<2.0.0,>=1.0.0->backbone-learn) (7.0.6)\n",
      "Requirement already satisfied: python-dateutil>=2.8.2 in /Users/christosziakas/.pyenv/versions/3.9.7/lib/python3.9/site-packages (from jupyter-client>=6.1.12->ipykernel<7.0.0,>=6.26.0->backbone-learn) (2.8.2)\n",
      "Requirement already satisfied: importlib-metadata>=4.8.3 in /Users/christosziakas/.pyenv/versions/3.9.7/lib/python3.9/site-packages (from jupyter-client>=6.1.12->ipykernel<7.0.0,>=6.26.0->backbone-learn) (6.8.0)\n",
      "Requirement already satisfied: zipp>=0.5 in /Users/christosziakas/.pyenv/versions/3.9.7/lib/python3.9/site-packages (from importlib-metadata>=4.8.3->jupyter-client>=6.1.12->ipykernel<7.0.0,>=6.26.0->backbone-learn) (3.17.0)\n",
      "Requirement already satisfied: platformdirs>=2.5 in /Users/christosziakas/.pyenv/versions/3.9.7/lib/python3.9/site-packages (from jupyter-core!=5.0.*,>=4.12->ipykernel<7.0.0,>=6.26.0->backbone-learn) (3.11.0)\n",
      "Requirement already satisfied: scipy>=1.4.1 in /Users/christosziakas/.pyenv/versions/3.9.7/lib/python3.9/site-packages (from l0bnb<2.0.0,>=1.0.0->backbone-learn) (1.11.4)\n",
      "Requirement already satisfied: numba>=0.53.1 in /Users/christosziakas/.pyenv/versions/3.9.7/lib/python3.9/site-packages (from l0bnb<2.0.0,>=1.0.0->backbone-learn) (0.58.1)\n",
      "Requirement already satisfied: llvmlite<0.42,>=0.41.0dev0 in /Users/christosziakas/.pyenv/versions/3.9.7/lib/python3.9/site-packages (from numba>=0.53.1->l0bnb<2.0.0,>=1.0.0->backbone-learn) (0.41.1)\n",
      "Requirement already satisfied: ptyprocess>=0.5 in /Users/christosziakas/.pyenv/versions/3.9.7/lib/python3.9/site-packages (from pexpect>4.3->ipython>=7.23.1->ipykernel<7.0.0,>=6.26.0->backbone-learn) (0.7.0)\n",
      "Requirement already satisfied: identify>=1.0.0 in /Users/christosziakas/.pyenv/versions/3.9.7/lib/python3.9/site-packages (from pre-commit<4.0.0,>=3.5.0->backbone-learn) (2.5.32)\n",
      "Requirement already satisfied: cfgv>=2.0.0 in /Users/christosziakas/.pyenv/versions/3.9.7/lib/python3.9/site-packages (from pre-commit<4.0.0,>=3.5.0->backbone-learn) (3.4.0)\n",
      "Requirement already satisfied: virtualenv>=20.10.0 in /Users/christosziakas/.pyenv/versions/3.9.7/lib/python3.9/site-packages (from pre-commit<4.0.0,>=3.5.0->backbone-learn) (20.24.6)\n",
      "Requirement already satisfied: pyyaml>=5.1 in /Users/christosziakas/.pyenv/versions/3.9.7/lib/python3.9/site-packages (from pre-commit<4.0.0,>=3.5.0->backbone-learn) (6.0.1)\n",
      "Requirement already satisfied: nodeenv>=0.11.1 in /Users/christosziakas/.pyenv/versions/3.9.7/lib/python3.9/site-packages (from pre-commit<4.0.0,>=3.5.0->backbone-learn) (1.8.0)\n",
      "Requirement already satisfied: setuptools in /Users/christosziakas/.pyenv/versions/3.9.7/lib/python3.9/site-packages (from nodeenv>=0.11.1->pre-commit<4.0.0,>=3.5.0->backbone-learn) (68.2.2)\n",
      "Requirement already satisfied: wcwidth in /Users/christosziakas/.pyenv/versions/3.9.7/lib/python3.9/site-packages (from prompt-toolkit!=3.0.37,<3.1.0,>=3.0.30->ipython>=7.23.1->ipykernel<7.0.0,>=6.26.0->backbone-learn) (0.2.10)\n",
      "Requirement already satisfied: tomli>=1.0.0 in /Users/christosziakas/.pyenv/versions/3.9.7/lib/python3.9/site-packages (from pytest<8.0.0,>=7.4.3->backbone-learn) (2.0.1)\n",
      "Requirement already satisfied: pluggy<2.0,>=0.12 in /Users/christosziakas/.pyenv/versions/3.9.7/lib/python3.9/site-packages (from pytest<8.0.0,>=7.4.3->backbone-learn) (1.3.0)\n",
      "Requirement already satisfied: iniconfig in /Users/christosziakas/.pyenv/versions/3.9.7/lib/python3.9/site-packages (from pytest<8.0.0,>=7.4.3->backbone-learn) (2.0.0)\n",
      "Requirement already satisfied: six>=1.5 in /Users/christosziakas/.pyenv/versions/3.9.7/lib/python3.9/site-packages (from python-dateutil>=2.8.2->jupyter-client>=6.1.12->ipykernel<7.0.0,>=6.26.0->backbone-learn) (1.16.0)\n",
      "Requirement already satisfied: threadpoolctl>=2.0.0 in /Users/christosziakas/.pyenv/versions/3.9.7/lib/python3.9/site-packages (from scikit-learn<2.0.0,>=1.3.2->backbone-learn) (3.2.0)\n",
      "Requirement already satisfied: joblib>=1.1.1 in /Users/christosziakas/.pyenv/versions/3.9.7/lib/python3.9/site-packages (from scikit-learn<2.0.0,>=1.3.2->backbone-learn) (1.3.2)\n",
      "Requirement already satisfied: pandas>=1.2 in /Users/christosziakas/.pyenv/versions/3.9.7/lib/python3.9/site-packages (from seaborn<0.14.0,>=0.13.0->backbone-learn) (2.1.3)\n",
      "Requirement already satisfied: matplotlib!=3.6.1,>=3.3 in /Users/christosziakas/.pyenv/versions/3.9.7/lib/python3.9/site-packages (from seaborn<0.14.0,>=0.13.0->backbone-learn) (3.8.2)\n",
      "Requirement already satisfied: pyparsing>=2.3.1 in /Users/christosziakas/.pyenv/versions/3.9.7/lib/python3.9/site-packages (from matplotlib!=3.6.1,>=3.3->seaborn<0.14.0,>=0.13.0->backbone-learn) (3.1.1)\n",
      "Requirement already satisfied: kiwisolver>=1.3.1 in /Users/christosziakas/.pyenv/versions/3.9.7/lib/python3.9/site-packages (from matplotlib!=3.6.1,>=3.3->seaborn<0.14.0,>=0.13.0->backbone-learn) (1.4.5)\n",
      "Requirement already satisfied: fonttools>=4.22.0 in /Users/christosziakas/.pyenv/versions/3.9.7/lib/python3.9/site-packages (from matplotlib!=3.6.1,>=3.3->seaborn<0.14.0,>=0.13.0->backbone-learn) (4.44.3)\n",
      "Requirement already satisfied: cycler>=0.10 in /Users/christosziakas/.pyenv/versions/3.9.7/lib/python3.9/site-packages (from matplotlib!=3.6.1,>=3.3->seaborn<0.14.0,>=0.13.0->backbone-learn) (0.12.1)\n",
      "Requirement already satisfied: pillow>=8 in /Users/christosziakas/.pyenv/versions/3.9.7/lib/python3.9/site-packages (from matplotlib!=3.6.1,>=3.3->seaborn<0.14.0,>=0.13.0->backbone-learn) (10.1.0)\n",
      "Requirement already satisfied: importlib-resources>=3.2.0 in /Users/christosziakas/.pyenv/versions/3.9.7/lib/python3.9/site-packages (from matplotlib!=3.6.1,>=3.3->seaborn<0.14.0,>=0.13.0->backbone-learn) (6.1.1)\n",
      "Requirement already satisfied: contourpy>=1.0.1 in /Users/christosziakas/.pyenv/versions/3.9.7/lib/python3.9/site-packages (from matplotlib!=3.6.1,>=3.3->seaborn<0.14.0,>=0.13.0->backbone-learn) (1.2.0)\n",
      "Requirement already satisfied: tzdata>=2022.1 in /Users/christosziakas/.pyenv/versions/3.9.7/lib/python3.9/site-packages (from pandas>=1.2->seaborn<0.14.0,>=0.13.0->backbone-learn) (2023.3)\n",
      "Requirement already satisfied: pytz>=2020.1 in /Users/christosziakas/.pyenv/versions/3.9.7/lib/python3.9/site-packages (from pandas>=1.2->seaborn<0.14.0,>=0.13.0->backbone-learn) (2023.3.post1)\n",
      "Requirement already satisfied: distlib<1,>=0.3.7 in /Users/christosziakas/.pyenv/versions/3.9.7/lib/python3.9/site-packages (from virtualenv>=20.10.0->pre-commit<4.0.0,>=3.5.0->backbone-learn) (0.3.7)\n",
      "Requirement already satisfied: filelock<4,>=3.12.2 in /Users/christosziakas/.pyenv/versions/3.9.7/lib/python3.9/site-packages (from virtualenv>=20.10.0->pre-commit<4.0.0,>=3.5.0->backbone-learn) (3.13.1)\n",
      "Requirement already satisfied: widgetsnbextension~=4.0.9 in /Users/christosziakas/.pyenv/versions/3.9.7/lib/python3.9/site-packages (from ipywidgets->jupyter<2.0.0,>=1.0.0->backbone-learn) (4.0.9)\n",
      "Requirement already satisfied: jupyterlab-widgets~=3.0.9 in /Users/christosziakas/.pyenv/versions/3.9.7/lib/python3.9/site-packages (from ipywidgets->jupyter<2.0.0,>=1.0.0->backbone-learn) (3.0.9)\n",
      "Requirement already satisfied: bleach!=5.0.0 in /Users/christosziakas/.pyenv/versions/3.9.7/lib/python3.9/site-packages (from nbconvert->jupyter<2.0.0,>=1.0.0->backbone-learn) (6.1.0)\n",
      "Requirement already satisfied: jupyterlab-pygments in /Users/christosziakas/.pyenv/versions/3.9.7/lib/python3.9/site-packages (from nbconvert->jupyter<2.0.0,>=1.0.0->backbone-learn) (0.2.2)\n",
      "Requirement already satisfied: markupsafe>=2.0 in /Users/christosziakas/.pyenv/versions/3.9.7/lib/python3.9/site-packages (from nbconvert->jupyter<2.0.0,>=1.0.0->backbone-learn) (2.1.3)\n",
      "Requirement already satisfied: pandocfilters>=1.4.1 in /Users/christosziakas/.pyenv/versions/3.9.7/lib/python3.9/site-packages (from nbconvert->jupyter<2.0.0,>=1.0.0->backbone-learn) (1.5.0)\n",
      "Requirement already satisfied: nbclient>=0.5.0 in /Users/christosziakas/.pyenv/versions/3.9.7/lib/python3.9/site-packages (from nbconvert->jupyter<2.0.0,>=1.0.0->backbone-learn) (0.9.0)\n",
      "Requirement already satisfied: mistune<4,>=2.0.3 in /Users/christosziakas/.pyenv/versions/3.9.7/lib/python3.9/site-packages (from nbconvert->jupyter<2.0.0,>=1.0.0->backbone-learn) (3.0.2)\n",
      "Requirement already satisfied: jinja2>=3.0 in /Users/christosziakas/.pyenv/versions/3.9.7/lib/python3.9/site-packages (from nbconvert->jupyter<2.0.0,>=1.0.0->backbone-learn) (3.1.2)\n",
      "Requirement already satisfied: beautifulsoup4 in /Users/christosziakas/.pyenv/versions/3.9.7/lib/python3.9/site-packages (from nbconvert->jupyter<2.0.0,>=1.0.0->backbone-learn) (4.12.2)\n",
      "Requirement already satisfied: nbformat>=5.7 in /Users/christosziakas/.pyenv/versions/3.9.7/lib/python3.9/site-packages (from nbconvert->jupyter<2.0.0,>=1.0.0->backbone-learn) (5.9.2)\n",
      "Requirement already satisfied: defusedxml in /Users/christosziakas/.pyenv/versions/3.9.7/lib/python3.9/site-packages (from nbconvert->jupyter<2.0.0,>=1.0.0->backbone-learn) (0.7.1)\n",
      "Requirement already satisfied: tinycss2 in /Users/christosziakas/.pyenv/versions/3.9.7/lib/python3.9/site-packages (from nbconvert->jupyter<2.0.0,>=1.0.0->backbone-learn) (1.2.1)\n",
      "Requirement already satisfied: webencodings in /Users/christosziakas/.pyenv/versions/3.9.7/lib/python3.9/site-packages (from bleach!=5.0.0->nbconvert->jupyter<2.0.0,>=1.0.0->backbone-learn) (0.5.1)\n",
      "Requirement already satisfied: fastjsonschema in /Users/christosziakas/.pyenv/versions/3.9.7/lib/python3.9/site-packages (from nbformat>=5.7->nbconvert->jupyter<2.0.0,>=1.0.0->backbone-learn) (2.19.0)\n",
      "Requirement already satisfied: jsonschema>=2.6 in /Users/christosziakas/.pyenv/versions/3.9.7/lib/python3.9/site-packages (from nbformat>=5.7->nbconvert->jupyter<2.0.0,>=1.0.0->backbone-learn) (4.20.0)\n",
      "Requirement already satisfied: jsonschema-specifications>=2023.03.6 in /Users/christosziakas/.pyenv/versions/3.9.7/lib/python3.9/site-packages (from jsonschema>=2.6->nbformat>=5.7->nbconvert->jupyter<2.0.0,>=1.0.0->backbone-learn) (2023.11.1)\n",
      "Requirement already satisfied: attrs>=22.2.0 in /Users/christosziakas/.pyenv/versions/3.9.7/lib/python3.9/site-packages (from jsonschema>=2.6->nbformat>=5.7->nbconvert->jupyter<2.0.0,>=1.0.0->backbone-learn) (23.1.0)\n",
      "Requirement already satisfied: referencing>=0.28.4 in /Users/christosziakas/.pyenv/versions/3.9.7/lib/python3.9/site-packages (from jsonschema>=2.6->nbformat>=5.7->nbconvert->jupyter<2.0.0,>=1.0.0->backbone-learn) (0.31.0)\n",
      "Requirement already satisfied: rpds-py>=0.7.1 in /Users/christosziakas/.pyenv/versions/3.9.7/lib/python3.9/site-packages (from jsonschema>=2.6->nbformat>=5.7->nbconvert->jupyter<2.0.0,>=1.0.0->backbone-learn) (0.13.0)\n",
      "Requirement already satisfied: soupsieve>1.2 in /Users/christosziakas/.pyenv/versions/3.9.7/lib/python3.9/site-packages (from beautifulsoup4->nbconvert->jupyter<2.0.0,>=1.0.0->backbone-learn) (2.5)\n",
      "Requirement already satisfied: jupyter-server<3,>=2.4.0 in /Users/christosziakas/.pyenv/versions/3.9.7/lib/python3.9/site-packages (from notebook->jupyter<2.0.0,>=1.0.0->backbone-learn) (2.10.1)\n",
      "Requirement already satisfied: jupyterlab<5,>=4.0.2 in /Users/christosziakas/.pyenv/versions/3.9.7/lib/python3.9/site-packages (from notebook->jupyter<2.0.0,>=1.0.0->backbone-learn) (4.0.9)\n",
      "Requirement already satisfied: notebook-shim<0.3,>=0.2 in /Users/christosziakas/.pyenv/versions/3.9.7/lib/python3.9/site-packages (from notebook->jupyter<2.0.0,>=1.0.0->backbone-learn) (0.2.3)\n",
      "Requirement already satisfied: jupyterlab-server<3,>=2.22.1 in /Users/christosziakas/.pyenv/versions/3.9.7/lib/python3.9/site-packages (from notebook->jupyter<2.0.0,>=1.0.0->backbone-learn) (2.25.2)\n",
      "Requirement already satisfied: websocket-client in /Users/christosziakas/.pyenv/versions/3.9.7/lib/python3.9/site-packages (from jupyter-server<3,>=2.4.0->notebook->jupyter<2.0.0,>=1.0.0->backbone-learn) (1.6.4)\n",
      "Requirement already satisfied: terminado>=0.8.3 in /Users/christosziakas/.pyenv/versions/3.9.7/lib/python3.9/site-packages (from jupyter-server<3,>=2.4.0->notebook->jupyter<2.0.0,>=1.0.0->backbone-learn) (0.18.0)\n",
      "Requirement already satisfied: argon2-cffi in /Users/christosziakas/.pyenv/versions/3.9.7/lib/python3.9/site-packages (from jupyter-server<3,>=2.4.0->notebook->jupyter<2.0.0,>=1.0.0->backbone-learn) (23.1.0)\n",
      "Requirement already satisfied: anyio>=3.1.0 in /Users/christosziakas/.pyenv/versions/3.9.7/lib/python3.9/site-packages (from jupyter-server<3,>=2.4.0->notebook->jupyter<2.0.0,>=1.0.0->backbone-learn) (4.0.0)\n",
      "Requirement already satisfied: jupyter-events>=0.9.0 in /Users/christosziakas/.pyenv/versions/3.9.7/lib/python3.9/site-packages (from jupyter-server<3,>=2.4.0->notebook->jupyter<2.0.0,>=1.0.0->backbone-learn) (0.9.0)\n",
      "Requirement already satisfied: jupyter-server-terminals in /Users/christosziakas/.pyenv/versions/3.9.7/lib/python3.9/site-packages (from jupyter-server<3,>=2.4.0->notebook->jupyter<2.0.0,>=1.0.0->backbone-learn) (0.4.4)\n",
      "Requirement already satisfied: prometheus-client in /Users/christosziakas/.pyenv/versions/3.9.7/lib/python3.9/site-packages (from jupyter-server<3,>=2.4.0->notebook->jupyter<2.0.0,>=1.0.0->backbone-learn) (0.18.0)\n",
      "Requirement already satisfied: overrides in /Users/christosziakas/.pyenv/versions/3.9.7/lib/python3.9/site-packages (from jupyter-server<3,>=2.4.0->notebook->jupyter<2.0.0,>=1.0.0->backbone-learn) (7.4.0)\n",
      "Requirement already satisfied: send2trash>=1.8.2 in /Users/christosziakas/.pyenv/versions/3.9.7/lib/python3.9/site-packages (from jupyter-server<3,>=2.4.0->notebook->jupyter<2.0.0,>=1.0.0->backbone-learn) (1.8.2)\n",
      "Requirement already satisfied: sniffio>=1.1 in /Users/christosziakas/.pyenv/versions/3.9.7/lib/python3.9/site-packages (from anyio>=3.1.0->jupyter-server<3,>=2.4.0->notebook->jupyter<2.0.0,>=1.0.0->backbone-learn) (1.3.0)\n",
      "Requirement already satisfied: idna>=2.8 in /Users/christosziakas/.pyenv/versions/3.9.7/lib/python3.9/site-packages (from anyio>=3.1.0->jupyter-server<3,>=2.4.0->notebook->jupyter<2.0.0,>=1.0.0->backbone-learn) (3.4)\n",
      "Requirement already satisfied: rfc3339-validator in /Users/christosziakas/.pyenv/versions/3.9.7/lib/python3.9/site-packages (from jupyter-events>=0.9.0->jupyter-server<3,>=2.4.0->notebook->jupyter<2.0.0,>=1.0.0->backbone-learn) (0.1.4)\n",
      "Requirement already satisfied: python-json-logger>=2.0.4 in /Users/christosziakas/.pyenv/versions/3.9.7/lib/python3.9/site-packages (from jupyter-events>=0.9.0->jupyter-server<3,>=2.4.0->notebook->jupyter<2.0.0,>=1.0.0->backbone-learn) (2.0.7)\n",
      "Requirement already satisfied: rfc3986-validator>=0.1.1 in /Users/christosziakas/.pyenv/versions/3.9.7/lib/python3.9/site-packages (from jupyter-events>=0.9.0->jupyter-server<3,>=2.4.0->notebook->jupyter<2.0.0,>=1.0.0->backbone-learn) (0.1.1)\n",
      "Requirement already satisfied: fqdn in /Users/christosziakas/.pyenv/versions/3.9.7/lib/python3.9/site-packages (from jsonschema>=2.6->nbformat>=5.7->nbconvert->jupyter<2.0.0,>=1.0.0->backbone-learn) (1.5.1)\n",
      "Requirement already satisfied: webcolors>=1.11 in /Users/christosziakas/.pyenv/versions/3.9.7/lib/python3.9/site-packages (from jsonschema>=2.6->nbformat>=5.7->nbconvert->jupyter<2.0.0,>=1.0.0->backbone-learn) (1.13)\n",
      "Requirement already satisfied: isoduration in /Users/christosziakas/.pyenv/versions/3.9.7/lib/python3.9/site-packages (from jsonschema>=2.6->nbformat>=5.7->nbconvert->jupyter<2.0.0,>=1.0.0->backbone-learn) (20.11.0)\n",
      "Requirement already satisfied: uri-template in /Users/christosziakas/.pyenv/versions/3.9.7/lib/python3.9/site-packages (from jsonschema>=2.6->nbformat>=5.7->nbconvert->jupyter<2.0.0,>=1.0.0->backbone-learn) (1.3.0)\n",
      "Requirement already satisfied: jsonpointer>1.13 in /Users/christosziakas/.pyenv/versions/3.9.7/lib/python3.9/site-packages (from jsonschema>=2.6->nbformat>=5.7->nbconvert->jupyter<2.0.0,>=1.0.0->backbone-learn) (2.4)\n",
      "Requirement already satisfied: jupyter-lsp>=2.0.0 in /Users/christosziakas/.pyenv/versions/3.9.7/lib/python3.9/site-packages (from jupyterlab<5,>=4.0.2->notebook->jupyter<2.0.0,>=1.0.0->backbone-learn) (2.2.0)\n",
      "Requirement already satisfied: async-lru>=1.0.0 in /Users/christosziakas/.pyenv/versions/3.9.7/lib/python3.9/site-packages (from jupyterlab<5,>=4.0.2->notebook->jupyter<2.0.0,>=1.0.0->backbone-learn) (2.0.4)\n",
      "Requirement already satisfied: babel>=2.10 in /Users/christosziakas/.pyenv/versions/3.9.7/lib/python3.9/site-packages (from jupyterlab-server<3,>=2.22.1->notebook->jupyter<2.0.0,>=1.0.0->backbone-learn) (2.13.1)\n",
      "Requirement already satisfied: requests>=2.31 in /Users/christosziakas/.pyenv/versions/3.9.7/lib/python3.9/site-packages (from jupyterlab-server<3,>=2.22.1->notebook->jupyter<2.0.0,>=1.0.0->backbone-learn) (2.31.0)\n",
      "Requirement already satisfied: json5>=0.9.0 in /Users/christosziakas/.pyenv/versions/3.9.7/lib/python3.9/site-packages (from jupyterlab-server<3,>=2.22.1->notebook->jupyter<2.0.0,>=1.0.0->backbone-learn) (0.9.14)\n",
      "Requirement already satisfied: charset-normalizer<4,>=2 in /Users/christosziakas/.pyenv/versions/3.9.7/lib/python3.9/site-packages (from requests>=2.31->jupyterlab-server<3,>=2.22.1->notebook->jupyter<2.0.0,>=1.0.0->backbone-learn) (3.3.2)\n",
      "Requirement already satisfied: certifi>=2017.4.17 in /Users/christosziakas/.pyenv/versions/3.9.7/lib/python3.9/site-packages (from requests>=2.31->jupyterlab-server<3,>=2.22.1->notebook->jupyter<2.0.0,>=1.0.0->backbone-learn) (2023.11.17)\n",
      "Requirement already satisfied: urllib3<3,>=1.21.1 in /Users/christosziakas/.pyenv/versions/3.9.7/lib/python3.9/site-packages (from requests>=2.31->jupyterlab-server<3,>=2.22.1->notebook->jupyter<2.0.0,>=1.0.0->backbone-learn) (2.1.0)\n",
      "Requirement already satisfied: argon2-cffi-bindings in /Users/christosziakas/.pyenv/versions/3.9.7/lib/python3.9/site-packages (from argon2-cffi->jupyter-server<3,>=2.4.0->notebook->jupyter<2.0.0,>=1.0.0->backbone-learn) (21.2.0)\n",
      "Requirement already satisfied: cffi>=1.0.1 in /Users/christosziakas/.pyenv/versions/3.9.7/lib/python3.9/site-packages (from argon2-cffi-bindings->argon2-cffi->jupyter-server<3,>=2.4.0->notebook->jupyter<2.0.0,>=1.0.0->backbone-learn) (1.15.1)\n",
      "Requirement already satisfied: pycparser in /Users/christosziakas/.pyenv/versions/3.9.7/lib/python3.9/site-packages (from cffi>=1.0.1->argon2-cffi-bindings->argon2-cffi->jupyter-server<3,>=2.4.0->notebook->jupyter<2.0.0,>=1.0.0->backbone-learn) (2.21)\n",
      "Requirement already satisfied: arrow>=0.15.0 in /Users/christosziakas/.pyenv/versions/3.9.7/lib/python3.9/site-packages (from isoduration->jsonschema>=2.6->nbformat>=5.7->nbconvert->jupyter<2.0.0,>=1.0.0->backbone-learn) (1.3.0)\n",
      "Requirement already satisfied: types-python-dateutil>=2.8.10 in /Users/christosziakas/.pyenv/versions/3.9.7/lib/python3.9/site-packages (from arrow>=0.15.0->isoduration->jsonschema>=2.6->nbformat>=5.7->nbconvert->jupyter<2.0.0,>=1.0.0->backbone-learn) (2.8.19.14)\n",
      "Requirement already satisfied: qtpy>=2.4.0 in /Users/christosziakas/.pyenv/versions/3.9.7/lib/python3.9/site-packages (from qtconsole->jupyter<2.0.0,>=1.0.0->backbone-learn) (2.4.1)\n",
      "Requirement already satisfied: pure-eval in /Users/christosziakas/.pyenv/versions/3.9.7/lib/python3.9/site-packages (from stack-data->ipython>=7.23.1->ipykernel<7.0.0,>=6.26.0->backbone-learn) (0.2.2)\n",
      "Requirement already satisfied: asttokens>=2.1.0 in /Users/christosziakas/.pyenv/versions/3.9.7/lib/python3.9/site-packages (from stack-data->ipython>=7.23.1->ipykernel<7.0.0,>=6.26.0->backbone-learn) (2.4.1)\n",
      "Requirement already satisfied: executing>=1.2.0 in /Users/christosziakas/.pyenv/versions/3.9.7/lib/python3.9/site-packages (from stack-data->ipython>=7.23.1->ipykernel<7.0.0,>=6.26.0->backbone-learn) (2.0.1)\n",
      "\u001b[33mWARNING: You are using pip version 21.2.3; however, version 23.3.1 is available.\n",
      "You should consider upgrading via the '/Users/christosziakas/.pyenv/versions/3.9.7/bin/python3.9 -m pip install --upgrade pip' command.\u001b[0m\n"
     ]
    }
   ],
   "source": [
    "!pip install backbone-learn\n",
    "!pip install scikit-learn==1.3.2\n",
    "\n"
   ]
  },
  {
   "cell_type": "code",
   "execution_count": 2,
   "metadata": {},
   "outputs": [],
   "source": [
    "from backbone_learn.backbone.backbone_clustering import BackboneClustering\n",
    "from sklearn.datasets import make_blobs"
   ]
  },
  {
   "cell_type": "code",
   "execution_count": 3,
   "metadata": {},
   "outputs": [],
   "source": [
    "# Generate synhetic data\n",
    "X, _ = make_blobs(n_samples=50, centers=5, n_features=5, random_state=42)\n"
   ]
  },
  {
   "cell_type": "code",
   "execution_count": 4,
   "metadata": {},
   "outputs": [
    {
     "name": "stderr",
     "output_type": "stream",
     "text": [
      "/Users/christosziakas/.pyenv/versions/3.9.7/lib/python3.9/site-packages/pulp/pulp.py:1352: UserWarning: Spaces are not permitted in the name. Converted to '_'\n",
      "  warnings.warn(\"Spaces are not permitted in the name. Converted to '_'\")\n",
      "2023-11-20 01:10:21,597 - INFO - Screen selection skipped. Using all features.\n",
      "2023-11-20 01:10:21,597 - INFO - Backbone construction with heuristic solver started for iterations:1, subproblems:5 , and beta:1.0\n",
      "2023-11-20 01:10:21,598 - INFO - Iteration 1 started.\n",
      "2023-11-20 01:10:21,781 - INFO - Iteration 1 completed.\n",
      "2023-11-20 01:10:21,784 - INFO - Backbone set idx: [(0, 2), (0, 3), (0, 4), (0, 5), (0, 7), (0, 8), (0, 9), (0, 10), (0, 11), (0, 13), (0, 15), (0, 16), (0, 17), (0, 18), (0, 19), (0, 20), (0, 21), (0, 22), (0, 24), (0, 25), (0, 26), (0, 27), (0, 28), (0, 30), (0, 31), (0, 32), (0, 33), (0, 34), (0, 35), (0, 36), (0, 37), (0, 38), (0, 39), (0, 40), (0, 41), (0, 42), (0, 43), (0, 44), (0, 46), (0, 47), (1, 2), (1, 3), (1, 4), (1, 5), (1, 7), (1, 8), (1, 9), (1, 10), (1, 11), (1, 13), (1, 15), (1, 16), (1, 17), (1, 18), (1, 19), (1, 20), (1, 21), (1, 22), (1, 24), (1, 25), (1, 26), (1, 27), (1, 28), (1, 30), (1, 31), (1, 32), (1, 33), (1, 34), (1, 35), (1, 36), (1, 37), (1, 38), (1, 39), (1, 40), (1, 41), (1, 42), (1, 43), (1, 44), (1, 46), (1, 47), (2, 3), (2, 4), (2, 5), (2, 6), (2, 7), (2, 8), (2, 9), (2, 10), (2, 11), (2, 12), (2, 13), (2, 14), (2, 15), (2, 17), (2, 19), (2, 20), (2, 21), (2, 23), (2, 25), (2, 27), (2, 29), (2, 30), (2, 31), (2, 32), (2, 34), (2, 35), (2, 37), (2, 38), (2, 40), (2, 41), (2, 42), (2, 43), (2, 44), (2, 45), (2, 46), (2, 47), (2, 48), (2, 49), (3, 5), (3, 6), (3, 7), (3, 9), (3, 10), (3, 11), (3, 12), (3, 13), (3, 14), (3, 15), (3, 16), (3, 17), (3, 18), (3, 20), (3, 21), (3, 22), (3, 23), (3, 24), (3, 25), (3, 26), (3, 27), (3, 28), (3, 29), (3, 31), (3, 32), (3, 33), (3, 34), (3, 35), (3, 36), (3, 37), (3, 39), (3, 40), (3, 41), (3, 45), (3, 46), (3, 48), (3, 49), (4, 5), (4, 6), (4, 7), (4, 9), (4, 10), (4, 11), (4, 12), (4, 13), (4, 14), (4, 15), (4, 16), (4, 17), (4, 18), (4, 20), (4, 21), (4, 22), (4, 23), (4, 24), (4, 25), (4, 26), (4, 27), (4, 28), (4, 29), (4, 31), (4, 32), (4, 33), (4, 34), (4, 35), (4, 36), (4, 37), (4, 39), (4, 40), (4, 41), (4, 45), (4, 46), (4, 48), (4, 49), (5, 6), (5, 8), (5, 9), (5, 10), (5, 12), (5, 13), (5, 14), (5, 15), (5, 16), (5, 18), (5, 19), (5, 22), (5, 23), (5, 24), (5, 25), (5, 26), (5, 28), (5, 29), (5, 30), (5, 31), (5, 32), (5, 33), (5, 34), (5, 36), (5, 38), (5, 39), (5, 41), (5, 42), (5, 43), (5, 44), (5, 45), (5, 46), (5, 47), (5, 48), (5, 49), (6, 7), (6, 8), (6, 9), (6, 10), (6, 11), (6, 13), (6, 15), (6, 16), (6, 17), (6, 18), (6, 19), (6, 20), (6, 21), (6, 22), (6, 24), (6, 25), (6, 26), (6, 27), (6, 28), (6, 30), (6, 31), (6, 32), (6, 33), (6, 34), (6, 35), (6, 36), (6, 37), (6, 38), (6, 39), (6, 40), (6, 41), (6, 42), (6, 43), (6, 44), (6, 46), (6, 47), (7, 8), (7, 9), (7, 10), (7, 12), (7, 13), (7, 14), (7, 15), (7, 16), (7, 18), (7, 19), (7, 22), (7, 23), (7, 24), (7, 25), (7, 26), (7, 28), (7, 29), (7, 30), (7, 31), (7, 32), (7, 33), (7, 34), (7, 36), (7, 38), (7, 39), (7, 41), (7, 42), (7, 43), (7, 44), (7, 45), (7, 46), (7, 47), (7, 48), (7, 49), (8, 9), (8, 10), (8, 11), (8, 12), (8, 13), (8, 14), (8, 15), (8, 16), (8, 17), (8, 18), (8, 20), (8, 21), (8, 22), (8, 23), (8, 24), (8, 25), (8, 26), (8, 27), (8, 28), (8, 29), (8, 31), (8, 32), (8, 33), (8, 34), (8, 35), (8, 36), (8, 37), (8, 39), (8, 40), (8, 41), (8, 45), (8, 46), (8, 48), (8, 49), (9, 11), (9, 12), (9, 14), (9, 16), (9, 17), (9, 18), (9, 19), (9, 20), (9, 21), (9, 22), (9, 23), (9, 24), (9, 26), (9, 27), (9, 28), (9, 29), (9, 30), (9, 33), (9, 35), (9, 36), (9, 37), (9, 38), (9, 39), (9, 40), (9, 42), (9, 43), (9, 44), (9, 45), (9, 47), (9, 48), (9, 49), (10, 11), (10, 12), (10, 14), (10, 16), (10, 17), (10, 18), (10, 19), (10, 20), (10, 21), (10, 22), (10, 23), (10, 24), (10, 26), (10, 27), (10, 28), (10, 29), (10, 30), (10, 33), (10, 35), (10, 36), (10, 37), (10, 38), (10, 39), (10, 40), (10, 42), (10, 43), (10, 44), (10, 45), (10, 47), (10, 48), (10, 49), (11, 12), (11, 13), (11, 14), (11, 15), (11, 16), (11, 18), (11, 19), (11, 22), (11, 23), (11, 24), (11, 25), (11, 26), (11, 28), (11, 29), (11, 30), (11, 31), (11, 32), (11, 33), (11, 34), (11, 36), (11, 38), (11, 39), (11, 41), (11, 42), (11, 43), (11, 44), (11, 45), (11, 46), (11, 47), (11, 48), (11, 49), (12, 13), (12, 15), (12, 16), (12, 17), (12, 18), (12, 19), (12, 20), (12, 21), (12, 22), (12, 24), (12, 25), (12, 26), (12, 27), (12, 28), (12, 30), (12, 31), (12, 32), (12, 33), (12, 34), (12, 35), (12, 36), (12, 37), (12, 38), (12, 39), (12, 40), (12, 41), (12, 42), (12, 43), (12, 44), (12, 46), (12, 47), (13, 14), (13, 16), (13, 17), (13, 18), (13, 19), (13, 20), (13, 21), (13, 22), (13, 23), (13, 24), (13, 26), (13, 27), (13, 28), (13, 29), (13, 30), (13, 33), (13, 35), (13, 36), (13, 37), (13, 38), (13, 39), (13, 40), (13, 42), (13, 43), (13, 44), (13, 45), (13, 47), (13, 48), (13, 49), (14, 15), (14, 16), (14, 17), (14, 18), (14, 19), (14, 20), (14, 21), (14, 22), (14, 24), (14, 25), (14, 26), (14, 27), (14, 28), (14, 30), (14, 31), (14, 32), (14, 33), (14, 34), (14, 35), (14, 36), (14, 37), (14, 38), (14, 39), (14, 40), (14, 41), (14, 42), (14, 43), (14, 44), (14, 46), (14, 47), (15, 16), (15, 17), (15, 18), (15, 19), (15, 20), (15, 21), (15, 22), (15, 23), (15, 24), (15, 26), (15, 27), (15, 28), (15, 29), (15, 30), (15, 33), (15, 35), (15, 36), (15, 37), (15, 38), (15, 39), (15, 40), (15, 42), (15, 43), (15, 44), (15, 45), (15, 47), (15, 48), (15, 49), (16, 17), (16, 19), (16, 20), (16, 21), (16, 23), (16, 25), (16, 27), (16, 29), (16, 30), (16, 31), (16, 32), (16, 34), (16, 35), (16, 37), (16, 38), (16, 40), (16, 41), (16, 42), (16, 43), (16, 44), (16, 45), (16, 46), (16, 47), (16, 48), (16, 49), (17, 18), (17, 19), (17, 22), (17, 23), (17, 24), (17, 25), (17, 26), (17, 28), (17, 29), (17, 30), (17, 31), (17, 32), (17, 33), (17, 34), (17, 36), (17, 38), (17, 39), (17, 41), (17, 42), (17, 43), (17, 44), (17, 45), (17, 46), (17, 47), (17, 48), (17, 49), (18, 19), (18, 20), (18, 21), (18, 23), (18, 25), (18, 27), (18, 29), (18, 30), (18, 31), (18, 32), (18, 34), (18, 35), (18, 37), (18, 38), (18, 40), (18, 41), (18, 42), (18, 43), (18, 44), (18, 45), (18, 46), (18, 47), (18, 48), (18, 49), (19, 20), (19, 21), (19, 22), (19, 23), (19, 24), (19, 25), (19, 26), (19, 27), (19, 28), (19, 29), (19, 31), (19, 32), (19, 33), (19, 34), (19, 35), (19, 36), (19, 37), (19, 39), (19, 40), (19, 41), (19, 45), (19, 46), (19, 48), (19, 49), (20, 22), (20, 23), (20, 24), (20, 25), (20, 26), (20, 28), (20, 29), (20, 30), (20, 31), (20, 32), (20, 33), (20, 34), (20, 36), (20, 38), (20, 39), (20, 41), (20, 42), (20, 43), (20, 44), (20, 45), (20, 46), (20, 47), (20, 48), (20, 49), (21, 22), (21, 23), (21, 24), (21, 25), (21, 26), (21, 28), (21, 29), (21, 30), (21, 31), (21, 32), (21, 33), (21, 34), (21, 36), (21, 38), (21, 39), (21, 41), (21, 42), (21, 43), (21, 44), (21, 45), (21, 46), (21, 47), (21, 48), (21, 49), (22, 23), (22, 25), (22, 27), (22, 29), (22, 30), (22, 31), (22, 32), (22, 34), (22, 35), (22, 37), (22, 38), (22, 40), (22, 41), (22, 42), (22, 43), (22, 44), (22, 45), (22, 46), (22, 47), (22, 48), (22, 49), (23, 24), (23, 25), (23, 26), (23, 27), (23, 28), (23, 30), (23, 31), (23, 32), (23, 33), (23, 34), (23, 35), (23, 36), (23, 37), (23, 38), (23, 39), (23, 40), (23, 41), (23, 42), (23, 43), (23, 44), (23, 46), (23, 47), (24, 25), (24, 27), (24, 29), (24, 30), (24, 31), (24, 32), (24, 34), (24, 35), (24, 37), (24, 38), (24, 40), (24, 41), (24, 42), (24, 43), (24, 44), (24, 45), (24, 46), (24, 47), (24, 48), (24, 49), (25, 26), (25, 27), (25, 28), (25, 29), (25, 30), (25, 33), (25, 35), (25, 36), (25, 37), (25, 38), (25, 39), (25, 40), (25, 42), (25, 43), (25, 44), (25, 45), (25, 47), (25, 48), (25, 49), (26, 27), (26, 29), (26, 30), (26, 31), (26, 32), (26, 34), (26, 35), (26, 37), (26, 38), (26, 40), (26, 41), (26, 42), (26, 43), (26, 44), (26, 45), (26, 46), (26, 47), (26, 48), (26, 49), (27, 28), (27, 29), (27, 30), (27, 31), (27, 32), (27, 33), (27, 34), (27, 36), (27, 38), (27, 39), (27, 41), (27, 42), (27, 43), (27, 44), (27, 45), (27, 46), (27, 47), (27, 48), (27, 49), (28, 29), (28, 30), (28, 31), (28, 32), (28, 34), (28, 35), (28, 37), (28, 38), (28, 40), (28, 41), (28, 42), (28, 43), (28, 44), (28, 45), (28, 46), (28, 47), (28, 48), (28, 49), (29, 30), (29, 31), (29, 32), (29, 33), (29, 34), (29, 35), (29, 36), (29, 37), (29, 38), (29, 39), (29, 40), (29, 41), (29, 42), (29, 43), (29, 44), (29, 46), (29, 47), (30, 31), (30, 32), (30, 33), (30, 34), (30, 35), (30, 36), (30, 37), (30, 39), (30, 40), (30, 41), (30, 45), (30, 46), (30, 48), (30, 49), (31, 33), (31, 35), (31, 36), (31, 37), (31, 38), (31, 39), (31, 40), (31, 42), (31, 43), (31, 44), (31, 45), (31, 47), (31, 48), (31, 49), (32, 33), (32, 35), (32, 36), (32, 37), (32, 38), (32, 39), (32, 40), (32, 42), (32, 43), (32, 44), (32, 45), (32, 47), (32, 48), (32, 49), (33, 34), (33, 35), (33, 37), (33, 38), (33, 40), (33, 41), (33, 42), (33, 43), (33, 44), (33, 45), (33, 46), (33, 47), (33, 48), (33, 49), (34, 35), (34, 36), (34, 37), (34, 38), (34, 39), (34, 40), (34, 42), (34, 43), (34, 44), (34, 45), (34, 47), (34, 48), (34, 49), (35, 36), (35, 38), (35, 39), (35, 41), (35, 42), (35, 43), (35, 44), (35, 45), (35, 46), (35, 47), (35, 48), (35, 49), (36, 37), (36, 38), (36, 40), (36, 41), (36, 42), (36, 43), (36, 44), (36, 45), (36, 46), (36, 47), (36, 48), (36, 49), (37, 38), (37, 39), (37, 41), (37, 42), (37, 43), (37, 44), (37, 45), (37, 46), (37, 47), (37, 48), (37, 49), (38, 39), (38, 40), (38, 41), (38, 45), (38, 46), (38, 48), (38, 49), (39, 40), (39, 41), (39, 42), (39, 43), (39, 44), (39, 45), (39, 46), (39, 47), (39, 48), (39, 49), (40, 41), (40, 42), (40, 43), (40, 44), (40, 45), (40, 46), (40, 47), (40, 48), (40, 49), (41, 42), (41, 43), (41, 44), (41, 45), (41, 47), (41, 48), (41, 49), (42, 45), (42, 46), (42, 48), (42, 49), (43, 45), (43, 46), (43, 48), (43, 49), (44, 45), (44, 46), (44, 48), (44, 49), (45, 46), (45, 47), (46, 47), (46, 48), (46, 49), (47, 48), (47, 49)]\n",
      "2023-11-20 01:10:21,785 - INFO - Number of variables included in the exact solver: 5\n"
     ]
    },
    {
     "name": "stdout",
     "output_type": "stream",
     "text": [
      "n_clusters_backbone:5\n"
     ]
    }
   ],
   "source": [
    "# Run backbone for decision tress\n",
    "backbone = BackboneClustering(beta=1.0, num_subproblems=5, num_iterations=1, n_clusters = 5)\n",
    "backbone.fit(X)"
   ]
  },
  {
   "cell_type": "code",
   "execution_count": null,
   "metadata": {},
   "outputs": [],
   "source": [
    "y_pred = backbone.predict(X)"
   ]
  },
  {
   "cell_type": "code",
   "execution_count": null,
   "metadata": {},
   "outputs": [],
   "source": []
  }
 ],
 "metadata": {
  "kernelspec": {
   "display_name": "backbone-XyLFsdvc-py3.9",
   "language": "python",
   "name": "python3"
  },
  "language_info": {
   "codemirror_mode": {
    "name": "ipython",
    "version": 3
   },
   "file_extension": ".py",
   "mimetype": "text/x-python",
   "name": "python",
   "nbconvert_exporter": "python",
   "pygments_lexer": "ipython3",
   "version": "3.9.7"
  },
  "orig_nbformat": 4
 },
 "nbformat": 4,
 "nbformat_minor": 2
}
