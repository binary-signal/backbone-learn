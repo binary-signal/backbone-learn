{
 "cells": [
  {
   "attachments": {},
   "cell_type": "markdown",
   "metadata": {},
   "source": [
    "### Set up CBC binaries \n",
    "Note: Follow the instructions described in ODT libary https://github.com/D3M-Research-Group/odtlearn"
   ]
  },
  {
   "cell_type": "code",
   "execution_count": 2,
   "metadata": {},
   "outputs": [
    {
     "name": "stdout",
     "output_type": "stream",
     "text": [
      "Requirement already satisfied: backbone-learn in /Users/christosziakas/.pyenv/versions/3.9.7/lib/python3.9/site-packages (0.1.0)\n",
      "Requirement already satisfied: pytest<8.0.0,>=7.4.3 in /Users/christosziakas/.pyenv/versions/3.9.7/lib/python3.9/site-packages (from backbone-learn) (7.4.3)\n",
      "Requirement already satisfied: pre-commit<4.0.0,>=3.5.0 in /Users/christosziakas/.pyenv/versions/3.9.7/lib/python3.9/site-packages (from backbone-learn) (3.5.0)\n",
      "Requirement already satisfied: jupyter<2.0.0,>=1.0.0 in /Users/christosziakas/.pyenv/versions/3.9.7/lib/python3.9/site-packages (from backbone-learn) (1.0.0)\n",
      "Requirement already satisfied: ipykernel<7.0.0,>=6.26.0 in /Users/christosziakas/.pyenv/versions/3.9.7/lib/python3.9/site-packages (from backbone-learn) (6.26.0)\n",
      "Requirement already satisfied: scikit-learn<2.0.0,>=1.3.2 in /Users/christosziakas/.pyenv/versions/3.9.7/lib/python3.9/site-packages (from backbone-learn) (1.3.2)\n",
      "Requirement already satisfied: numpy<2.0.0,>=1.26.1 in /Users/christosziakas/.pyenv/versions/3.9.7/lib/python3.9/site-packages (from backbone-learn) (1.26.2)\n",
      "Requirement already satisfied: pulp<3.0.0,>=2.7.0 in /Users/christosziakas/.pyenv/versions/3.9.7/lib/python3.9/site-packages (from backbone-learn) (2.7.0)\n",
      "Requirement already satisfied: seaborn<0.14.0,>=0.13.0 in /Users/christosziakas/.pyenv/versions/3.9.7/lib/python3.9/site-packages (from backbone-learn) (0.13.0)\n",
      "Requirement already satisfied: l0bnb<2.0.0,>=1.0.0 in /Users/christosziakas/.pyenv/versions/3.9.7/lib/python3.9/site-packages (from backbone-learn) (1.0.0)\n",
      "Requirement already satisfied: jupyter-client>=6.1.12 in /Users/christosziakas/.pyenv/versions/3.9.7/lib/python3.9/site-packages (from ipykernel<7.0.0,>=6.26.0->backbone-learn) (8.3.0)\n",
      "Requirement already satisfied: comm>=0.1.1 in /Users/christosziakas/.pyenv/versions/3.9.7/lib/python3.9/site-packages (from ipykernel<7.0.0,>=6.26.0->backbone-learn) (0.1.3)\n",
      "Requirement already satisfied: appnope in /Users/christosziakas/.pyenv/versions/3.9.7/lib/python3.9/site-packages (from ipykernel<7.0.0,>=6.26.0->backbone-learn) (0.1.3)\n",
      "Requirement already satisfied: matplotlib-inline>=0.1 in /Users/christosziakas/.pyenv/versions/3.9.7/lib/python3.9/site-packages (from ipykernel<7.0.0,>=6.26.0->backbone-learn) (0.1.6)\n",
      "Requirement already satisfied: traitlets>=5.4.0 in /Users/christosziakas/.pyenv/versions/3.9.7/lib/python3.9/site-packages (from ipykernel<7.0.0,>=6.26.0->backbone-learn) (5.9.0)\n",
      "Requirement already satisfied: pyzmq>=20 in /Users/christosziakas/.pyenv/versions/3.9.7/lib/python3.9/site-packages (from ipykernel<7.0.0,>=6.26.0->backbone-learn) (25.1.0)\n",
      "Requirement already satisfied: nest-asyncio in /Users/christosziakas/.pyenv/versions/3.9.7/lib/python3.9/site-packages (from ipykernel<7.0.0,>=6.26.0->backbone-learn) (1.5.6)\n",
      "Requirement already satisfied: packaging in /Users/christosziakas/.pyenv/versions/3.9.7/lib/python3.9/site-packages (from ipykernel<7.0.0,>=6.26.0->backbone-learn) (23.1)\n",
      "Requirement already satisfied: tornado>=6.1 in /Users/christosziakas/.pyenv/versions/3.9.7/lib/python3.9/site-packages (from ipykernel<7.0.0,>=6.26.0->backbone-learn) (6.3.2)\n",
      "Requirement already satisfied: ipython>=7.23.1 in /Users/christosziakas/.pyenv/versions/3.9.7/lib/python3.9/site-packages (from ipykernel<7.0.0,>=6.26.0->backbone-learn) (8.14.0)\n",
      "Requirement already satisfied: psutil in /Users/christosziakas/.pyenv/versions/3.9.7/lib/python3.9/site-packages (from ipykernel<7.0.0,>=6.26.0->backbone-learn) (5.9.5)\n",
      "Requirement already satisfied: jupyter-core!=5.0.*,>=4.12 in /Users/christosziakas/.pyenv/versions/3.9.7/lib/python3.9/site-packages (from ipykernel<7.0.0,>=6.26.0->backbone-learn) (5.3.1)\n",
      "Requirement already satisfied: debugpy>=1.6.5 in /Users/christosziakas/.pyenv/versions/3.9.7/lib/python3.9/site-packages (from ipykernel<7.0.0,>=6.26.0->backbone-learn) (1.6.7)\n",
      "Requirement already satisfied: stack-data in /Users/christosziakas/.pyenv/versions/3.9.7/lib/python3.9/site-packages (from ipython>=7.23.1->ipykernel<7.0.0,>=6.26.0->backbone-learn) (0.6.2)\n",
      "Requirement already satisfied: backcall in /Users/christosziakas/.pyenv/versions/3.9.7/lib/python3.9/site-packages (from ipython>=7.23.1->ipykernel<7.0.0,>=6.26.0->backbone-learn) (0.2.0)\n",
      "Requirement already satisfied: prompt-toolkit!=3.0.37,<3.1.0,>=3.0.30 in /Users/christosziakas/.pyenv/versions/3.9.7/lib/python3.9/site-packages (from ipython>=7.23.1->ipykernel<7.0.0,>=6.26.0->backbone-learn) (3.0.38)\n",
      "Requirement already satisfied: pexpect>4.3 in /Users/christosziakas/.pyenv/versions/3.9.7/lib/python3.9/site-packages (from ipython>=7.23.1->ipykernel<7.0.0,>=6.26.0->backbone-learn) (4.8.0)\n",
      "Requirement already satisfied: typing-extensions in /Users/christosziakas/.pyenv/versions/3.9.7/lib/python3.9/site-packages (from ipython>=7.23.1->ipykernel<7.0.0,>=6.26.0->backbone-learn) (4.6.3)\n",
      "Requirement already satisfied: decorator in /Users/christosziakas/.pyenv/versions/3.9.7/lib/python3.9/site-packages (from ipython>=7.23.1->ipykernel<7.0.0,>=6.26.0->backbone-learn) (5.1.1)\n",
      "Requirement already satisfied: pygments>=2.4.0 in /Users/christosziakas/.pyenv/versions/3.9.7/lib/python3.9/site-packages (from ipython>=7.23.1->ipykernel<7.0.0,>=6.26.0->backbone-learn) (2.16.1)\n",
      "Requirement already satisfied: jedi>=0.16 in /Users/christosziakas/.pyenv/versions/3.9.7/lib/python3.9/site-packages (from ipython>=7.23.1->ipykernel<7.0.0,>=6.26.0->backbone-learn) (0.18.2)\n",
      "Requirement already satisfied: pickleshare in /Users/christosziakas/.pyenv/versions/3.9.7/lib/python3.9/site-packages (from ipython>=7.23.1->ipykernel<7.0.0,>=6.26.0->backbone-learn) (0.7.5)\n",
      "Requirement already satisfied: parso<0.9.0,>=0.8.0 in /Users/christosziakas/.pyenv/versions/3.9.7/lib/python3.9/site-packages (from jedi>=0.16->ipython>=7.23.1->ipykernel<7.0.0,>=6.26.0->backbone-learn) (0.8.3)\n",
      "Requirement already satisfied: qtconsole in /Users/christosziakas/.pyenv/versions/3.9.7/lib/python3.9/site-packages (from jupyter<2.0.0,>=1.0.0->backbone-learn) (5.5.1)\n",
      "Requirement already satisfied: nbconvert in /Users/christosziakas/.pyenv/versions/3.9.7/lib/python3.9/site-packages (from jupyter<2.0.0,>=1.0.0->backbone-learn) (7.11.0)\n",
      "Requirement already satisfied: jupyter-console in /Users/christosziakas/.pyenv/versions/3.9.7/lib/python3.9/site-packages (from jupyter<2.0.0,>=1.0.0->backbone-learn) (6.6.3)\n",
      "Requirement already satisfied: notebook in /Users/christosziakas/.pyenv/versions/3.9.7/lib/python3.9/site-packages (from jupyter<2.0.0,>=1.0.0->backbone-learn) (7.0.6)\n",
      "Requirement already satisfied: ipywidgets in /Users/christosziakas/.pyenv/versions/3.9.7/lib/python3.9/site-packages (from jupyter<2.0.0,>=1.0.0->backbone-learn) (8.0.7)\n",
      "Requirement already satisfied: importlib-metadata>=4.8.3 in /Users/christosziakas/.pyenv/versions/3.9.7/lib/python3.9/site-packages (from jupyter-client>=6.1.12->ipykernel<7.0.0,>=6.26.0->backbone-learn) (6.8.0)\n",
      "Requirement already satisfied: python-dateutil>=2.8.2 in /Users/christosziakas/.pyenv/versions/3.9.7/lib/python3.9/site-packages (from jupyter-client>=6.1.12->ipykernel<7.0.0,>=6.26.0->backbone-learn) (2.8.2)\n",
      "Requirement already satisfied: zipp>=0.5 in /Users/christosziakas/.pyenv/versions/3.9.7/lib/python3.9/site-packages (from importlib-metadata>=4.8.3->jupyter-client>=6.1.12->ipykernel<7.0.0,>=6.26.0->backbone-learn) (3.16.2)\n",
      "Requirement already satisfied: platformdirs>=2.5 in /Users/christosziakas/.pyenv/versions/3.9.7/lib/python3.9/site-packages (from jupyter-core!=5.0.*,>=4.12->ipykernel<7.0.0,>=6.26.0->backbone-learn) (3.11.0)\n",
      "Requirement already satisfied: numba>=0.53.1 in /Users/christosziakas/.pyenv/versions/3.9.7/lib/python3.9/site-packages (from l0bnb<2.0.0,>=1.0.0->backbone-learn) (0.58.1)\n",
      "Requirement already satisfied: scipy>=1.4.1 in /Users/christosziakas/.pyenv/versions/3.9.7/lib/python3.9/site-packages (from l0bnb<2.0.0,>=1.0.0->backbone-learn) (1.11.2)\n",
      "Requirement already satisfied: llvmlite<0.42,>=0.41.0dev0 in /Users/christosziakas/.pyenv/versions/3.9.7/lib/python3.9/site-packages (from numba>=0.53.1->l0bnb<2.0.0,>=1.0.0->backbone-learn) (0.41.1)\n",
      "Requirement already satisfied: ptyprocess>=0.5 in /Users/christosziakas/.pyenv/versions/3.9.7/lib/python3.9/site-packages (from pexpect>4.3->ipython>=7.23.1->ipykernel<7.0.0,>=6.26.0->backbone-learn) (0.7.0)\n",
      "Requirement already satisfied: virtualenv>=20.10.0 in /Users/christosziakas/.pyenv/versions/3.9.7/lib/python3.9/site-packages (from pre-commit<4.0.0,>=3.5.0->backbone-learn) (20.24.6)\n",
      "Requirement already satisfied: nodeenv>=0.11.1 in /Users/christosziakas/.pyenv/versions/3.9.7/lib/python3.9/site-packages (from pre-commit<4.0.0,>=3.5.0->backbone-learn) (1.8.0)\n",
      "Requirement already satisfied: cfgv>=2.0.0 in /Users/christosziakas/.pyenv/versions/3.9.7/lib/python3.9/site-packages (from pre-commit<4.0.0,>=3.5.0->backbone-learn) (3.4.0)\n",
      "Requirement already satisfied: identify>=1.0.0 in /Users/christosziakas/.pyenv/versions/3.9.7/lib/python3.9/site-packages (from pre-commit<4.0.0,>=3.5.0->backbone-learn) (2.5.30)\n",
      "Requirement already satisfied: pyyaml>=5.1 in /Users/christosziakas/.pyenv/versions/3.9.7/lib/python3.9/site-packages (from pre-commit<4.0.0,>=3.5.0->backbone-learn) (6.0)\n",
      "Requirement already satisfied: setuptools in /Users/christosziakas/.pyenv/versions/3.9.7/lib/python3.9/site-packages (from nodeenv>=0.11.1->pre-commit<4.0.0,>=3.5.0->backbone-learn) (57.4.0)\n",
      "Requirement already satisfied: wcwidth in /Users/christosziakas/.pyenv/versions/3.9.7/lib/python3.9/site-packages (from prompt-toolkit!=3.0.37,<3.1.0,>=3.0.30->ipython>=7.23.1->ipykernel<7.0.0,>=6.26.0->backbone-learn) (0.2.6)\n",
      "Requirement already satisfied: tomli>=1.0.0 in /Users/christosziakas/.pyenv/versions/3.9.7/lib/python3.9/site-packages (from pytest<8.0.0,>=7.4.3->backbone-learn) (2.0.1)\n",
      "Requirement already satisfied: exceptiongroup>=1.0.0rc8 in /Users/christosziakas/.pyenv/versions/3.9.7/lib/python3.9/site-packages (from pytest<8.0.0,>=7.4.3->backbone-learn) (1.1.3)\n",
      "Requirement already satisfied: iniconfig in /Users/christosziakas/.pyenv/versions/3.9.7/lib/python3.9/site-packages (from pytest<8.0.0,>=7.4.3->backbone-learn) (2.0.0)\n",
      "Requirement already satisfied: pluggy<2.0,>=0.12 in /Users/christosziakas/.pyenv/versions/3.9.7/lib/python3.9/site-packages (from pytest<8.0.0,>=7.4.3->backbone-learn) (1.2.0)\n",
      "Requirement already satisfied: six>=1.5 in /Users/christosziakas/.pyenv/versions/3.9.7/lib/python3.9/site-packages (from python-dateutil>=2.8.2->jupyter-client>=6.1.12->ipykernel<7.0.0,>=6.26.0->backbone-learn) (1.16.0)\n",
      "Requirement already satisfied: threadpoolctl>=2.0.0 in /Users/christosziakas/.pyenv/versions/3.9.7/lib/python3.9/site-packages (from scikit-learn<2.0.0,>=1.3.2->backbone-learn) (3.2.0)\n",
      "Requirement already satisfied: joblib>=1.1.1 in /Users/christosziakas/.pyenv/versions/3.9.7/lib/python3.9/site-packages (from scikit-learn<2.0.0,>=1.3.2->backbone-learn) (1.3.2)\n",
      "Requirement already satisfied: matplotlib!=3.6.1,>=3.3 in /Users/christosziakas/.pyenv/versions/3.9.7/lib/python3.9/site-packages (from seaborn<0.14.0,>=0.13.0->backbone-learn) (3.8.2)\n",
      "Requirement already satisfied: pandas>=1.2 in /Users/christosziakas/.pyenv/versions/3.9.7/lib/python3.9/site-packages (from seaborn<0.14.0,>=0.13.0->backbone-learn) (2.1.0)\n",
      "Requirement already satisfied: importlib-resources>=3.2.0 in /Users/christosziakas/.pyenv/versions/3.9.7/lib/python3.9/site-packages (from matplotlib!=3.6.1,>=3.3->seaborn<0.14.0,>=0.13.0->backbone-learn) (6.1.1)\n",
      "Requirement already satisfied: kiwisolver>=1.3.1 in /Users/christosziakas/.pyenv/versions/3.9.7/lib/python3.9/site-packages (from matplotlib!=3.6.1,>=3.3->seaborn<0.14.0,>=0.13.0->backbone-learn) (1.4.5)\n",
      "Requirement already satisfied: pillow>=8 in /Users/christosziakas/.pyenv/versions/3.9.7/lib/python3.9/site-packages (from matplotlib!=3.6.1,>=3.3->seaborn<0.14.0,>=0.13.0->backbone-learn) (9.5.0)\n",
      "Requirement already satisfied: contourpy>=1.0.1 in /Users/christosziakas/.pyenv/versions/3.9.7/lib/python3.9/site-packages (from matplotlib!=3.6.1,>=3.3->seaborn<0.14.0,>=0.13.0->backbone-learn) (1.1.0)\n",
      "Requirement already satisfied: cycler>=0.10 in /Users/christosziakas/.pyenv/versions/3.9.7/lib/python3.9/site-packages (from matplotlib!=3.6.1,>=3.3->seaborn<0.14.0,>=0.13.0->backbone-learn) (0.12.1)\n",
      "Requirement already satisfied: pyparsing>=2.3.1 in /Users/christosziakas/.pyenv/versions/3.9.7/lib/python3.9/site-packages (from matplotlib!=3.6.1,>=3.3->seaborn<0.14.0,>=0.13.0->backbone-learn) (3.1.1)\n",
      "Requirement already satisfied: fonttools>=4.22.0 in /Users/christosziakas/.pyenv/versions/3.9.7/lib/python3.9/site-packages (from matplotlib!=3.6.1,>=3.3->seaborn<0.14.0,>=0.13.0->backbone-learn) (4.44.3)\n",
      "Requirement already satisfied: tzdata>=2022.1 in /Users/christosziakas/.pyenv/versions/3.9.7/lib/python3.9/site-packages (from pandas>=1.2->seaborn<0.14.0,>=0.13.0->backbone-learn) (2023.3)\n",
      "Requirement already satisfied: pytz>=2020.1 in /Users/christosziakas/.pyenv/versions/3.9.7/lib/python3.9/site-packages (from pandas>=1.2->seaborn<0.14.0,>=0.13.0->backbone-learn) (2023.3)\n",
      "Requirement already satisfied: filelock<4,>=3.12.2 in /Users/christosziakas/.pyenv/versions/3.9.7/lib/python3.9/site-packages (from virtualenv>=20.10.0->pre-commit<4.0.0,>=3.5.0->backbone-learn) (3.12.2)\n",
      "Requirement already satisfied: distlib<1,>=0.3.7 in /Users/christosziakas/.pyenv/versions/3.9.7/lib/python3.9/site-packages (from virtualenv>=20.10.0->pre-commit<4.0.0,>=3.5.0->backbone-learn) (0.3.7)\n",
      "Requirement already satisfied: widgetsnbextension~=4.0.7 in /Users/christosziakas/.pyenv/versions/3.9.7/lib/python3.9/site-packages (from ipywidgets->jupyter<2.0.0,>=1.0.0->backbone-learn) (4.0.8)\n",
      "Requirement already satisfied: jupyterlab-widgets~=3.0.7 in /Users/christosziakas/.pyenv/versions/3.9.7/lib/python3.9/site-packages (from ipywidgets->jupyter<2.0.0,>=1.0.0->backbone-learn) (3.0.8)\n",
      "Requirement already satisfied: defusedxml in /Users/christosziakas/.pyenv/versions/3.9.7/lib/python3.9/site-packages (from nbconvert->jupyter<2.0.0,>=1.0.0->backbone-learn) (0.7.1)\n",
      "Requirement already satisfied: tinycss2 in /Users/christosziakas/.pyenv/versions/3.9.7/lib/python3.9/site-packages (from nbconvert->jupyter<2.0.0,>=1.0.0->backbone-learn) (1.2.1)\n",
      "Requirement already satisfied: bleach!=5.0.0 in /Users/christosziakas/.pyenv/versions/3.9.7/lib/python3.9/site-packages (from nbconvert->jupyter<2.0.0,>=1.0.0->backbone-learn) (6.0.0)\n",
      "Requirement already satisfied: markupsafe>=2.0 in /Users/christosziakas/.pyenv/versions/3.9.7/lib/python3.9/site-packages (from nbconvert->jupyter<2.0.0,>=1.0.0->backbone-learn) (2.1.3)\n",
      "Requirement already satisfied: nbclient>=0.5.0 in /Users/christosziakas/.pyenv/versions/3.9.7/lib/python3.9/site-packages (from nbconvert->jupyter<2.0.0,>=1.0.0->backbone-learn) (0.9.0)\n",
      "Requirement already satisfied: jupyterlab-pygments in /Users/christosziakas/.pyenv/versions/3.9.7/lib/python3.9/site-packages (from nbconvert->jupyter<2.0.0,>=1.0.0->backbone-learn) (0.2.2)\n",
      "Requirement already satisfied: beautifulsoup4 in /Users/christosziakas/.pyenv/versions/3.9.7/lib/python3.9/site-packages (from nbconvert->jupyter<2.0.0,>=1.0.0->backbone-learn) (4.12.2)\n",
      "Requirement already satisfied: jinja2>=3.0 in /Users/christosziakas/.pyenv/versions/3.9.7/lib/python3.9/site-packages (from nbconvert->jupyter<2.0.0,>=1.0.0->backbone-learn) (3.1.2)\n",
      "Requirement already satisfied: nbformat>=5.7 in /Users/christosziakas/.pyenv/versions/3.9.7/lib/python3.9/site-packages (from nbconvert->jupyter<2.0.0,>=1.0.0->backbone-learn) (5.9.2)\n",
      "Requirement already satisfied: pandocfilters>=1.4.1 in /Users/christosziakas/.pyenv/versions/3.9.7/lib/python3.9/site-packages (from nbconvert->jupyter<2.0.0,>=1.0.0->backbone-learn) (1.5.0)\n",
      "Requirement already satisfied: mistune<4,>=2.0.3 in /Users/christosziakas/.pyenv/versions/3.9.7/lib/python3.9/site-packages (from nbconvert->jupyter<2.0.0,>=1.0.0->backbone-learn) (3.0.2)\n",
      "Requirement already satisfied: webencodings in /Users/christosziakas/.pyenv/versions/3.9.7/lib/python3.9/site-packages (from bleach!=5.0.0->nbconvert->jupyter<2.0.0,>=1.0.0->backbone-learn) (0.5.1)\n",
      "Requirement already satisfied: jsonschema>=2.6 in /Users/christosziakas/.pyenv/versions/3.9.7/lib/python3.9/site-packages (from nbformat>=5.7->nbconvert->jupyter<2.0.0,>=1.0.0->backbone-learn) (4.20.0)\n",
      "Requirement already satisfied: fastjsonschema in /Users/christosziakas/.pyenv/versions/3.9.7/lib/python3.9/site-packages (from nbformat>=5.7->nbconvert->jupyter<2.0.0,>=1.0.0->backbone-learn) (2.19.0)\n",
      "Requirement already satisfied: attrs>=22.2.0 in /Users/christosziakas/.pyenv/versions/3.9.7/lib/python3.9/site-packages (from jsonschema>=2.6->nbformat>=5.7->nbconvert->jupyter<2.0.0,>=1.0.0->backbone-learn) (23.1.0)\n",
      "Requirement already satisfied: rpds-py>=0.7.1 in /Users/christosziakas/.pyenv/versions/3.9.7/lib/python3.9/site-packages (from jsonschema>=2.6->nbformat>=5.7->nbconvert->jupyter<2.0.0,>=1.0.0->backbone-learn) (0.13.0)\n",
      "Requirement already satisfied: referencing>=0.28.4 in /Users/christosziakas/.pyenv/versions/3.9.7/lib/python3.9/site-packages (from jsonschema>=2.6->nbformat>=5.7->nbconvert->jupyter<2.0.0,>=1.0.0->backbone-learn) (0.31.0)\n",
      "Requirement already satisfied: jsonschema-specifications>=2023.03.6 in /Users/christosziakas/.pyenv/versions/3.9.7/lib/python3.9/site-packages (from jsonschema>=2.6->nbformat>=5.7->nbconvert->jupyter<2.0.0,>=1.0.0->backbone-learn) (2023.11.1)\n",
      "Requirement already satisfied: soupsieve>1.2 in /Users/christosziakas/.pyenv/versions/3.9.7/lib/python3.9/site-packages (from beautifulsoup4->nbconvert->jupyter<2.0.0,>=1.0.0->backbone-learn) (2.5)\n",
      "Requirement already satisfied: notebook-shim<0.3,>=0.2 in /Users/christosziakas/.pyenv/versions/3.9.7/lib/python3.9/site-packages (from notebook->jupyter<2.0.0,>=1.0.0->backbone-learn) (0.2.3)\n",
      "Requirement already satisfied: jupyterlab<5,>=4.0.2 in /Users/christosziakas/.pyenv/versions/3.9.7/lib/python3.9/site-packages (from notebook->jupyter<2.0.0,>=1.0.0->backbone-learn) (4.0.9)\n",
      "Requirement already satisfied: jupyter-server<3,>=2.4.0 in /Users/christosziakas/.pyenv/versions/3.9.7/lib/python3.9/site-packages (from notebook->jupyter<2.0.0,>=1.0.0->backbone-learn) (2.10.1)\n",
      "Requirement already satisfied: jupyterlab-server<3,>=2.22.1 in /Users/christosziakas/.pyenv/versions/3.9.7/lib/python3.9/site-packages (from notebook->jupyter<2.0.0,>=1.0.0->backbone-learn) (2.25.2)\n",
      "Requirement already satisfied: argon2-cffi in /Users/christosziakas/.pyenv/versions/3.9.7/lib/python3.9/site-packages (from jupyter-server<3,>=2.4.0->notebook->jupyter<2.0.0,>=1.0.0->backbone-learn) (23.1.0)\n",
      "Requirement already satisfied: prometheus-client in /Users/christosziakas/.pyenv/versions/3.9.7/lib/python3.9/site-packages (from jupyter-server<3,>=2.4.0->notebook->jupyter<2.0.0,>=1.0.0->backbone-learn) (0.18.0)\n",
      "Requirement already satisfied: terminado>=0.8.3 in /Users/christosziakas/.pyenv/versions/3.9.7/lib/python3.9/site-packages (from jupyter-server<3,>=2.4.0->notebook->jupyter<2.0.0,>=1.0.0->backbone-learn) (0.18.0)\n",
      "Requirement already satisfied: overrides in /Users/christosziakas/.pyenv/versions/3.9.7/lib/python3.9/site-packages (from jupyter-server<3,>=2.4.0->notebook->jupyter<2.0.0,>=1.0.0->backbone-learn) (7.4.0)\n",
      "Requirement already satisfied: jupyter-server-terminals in /Users/christosziakas/.pyenv/versions/3.9.7/lib/python3.9/site-packages (from jupyter-server<3,>=2.4.0->notebook->jupyter<2.0.0,>=1.0.0->backbone-learn) (0.4.4)\n",
      "Requirement already satisfied: anyio>=3.1.0 in /Users/christosziakas/.pyenv/versions/3.9.7/lib/python3.9/site-packages (from jupyter-server<3,>=2.4.0->notebook->jupyter<2.0.0,>=1.0.0->backbone-learn) (3.7.1)\n",
      "Requirement already satisfied: websocket-client in /Users/christosziakas/.pyenv/versions/3.9.7/lib/python3.9/site-packages (from jupyter-server<3,>=2.4.0->notebook->jupyter<2.0.0,>=1.0.0->backbone-learn) (1.6.4)\n",
      "Requirement already satisfied: send2trash>=1.8.2 in /Users/christosziakas/.pyenv/versions/3.9.7/lib/python3.9/site-packages (from jupyter-server<3,>=2.4.0->notebook->jupyter<2.0.0,>=1.0.0->backbone-learn) (1.8.2)\n",
      "Requirement already satisfied: jupyter-events>=0.9.0 in /Users/christosziakas/.pyenv/versions/3.9.7/lib/python3.9/site-packages (from jupyter-server<3,>=2.4.0->notebook->jupyter<2.0.0,>=1.0.0->backbone-learn) (0.9.0)\n",
      "Requirement already satisfied: sniffio>=1.1 in /Users/christosziakas/.pyenv/versions/3.9.7/lib/python3.9/site-packages (from anyio>=3.1.0->jupyter-server<3,>=2.4.0->notebook->jupyter<2.0.0,>=1.0.0->backbone-learn) (1.3.0)\n",
      "Requirement already satisfied: idna>=2.8 in /Users/christosziakas/.pyenv/versions/3.9.7/lib/python3.9/site-packages (from anyio>=3.1.0->jupyter-server<3,>=2.4.0->notebook->jupyter<2.0.0,>=1.0.0->backbone-learn) (3.4)\n",
      "Requirement already satisfied: rfc3339-validator in /Users/christosziakas/.pyenv/versions/3.9.7/lib/python3.9/site-packages (from jupyter-events>=0.9.0->jupyter-server<3,>=2.4.0->notebook->jupyter<2.0.0,>=1.0.0->backbone-learn) (0.1.4)\n",
      "Requirement already satisfied: rfc3986-validator>=0.1.1 in /Users/christosziakas/.pyenv/versions/3.9.7/lib/python3.9/site-packages (from jupyter-events>=0.9.0->jupyter-server<3,>=2.4.0->notebook->jupyter<2.0.0,>=1.0.0->backbone-learn) (0.1.1)\n",
      "Requirement already satisfied: python-json-logger>=2.0.4 in /Users/christosziakas/.pyenv/versions/3.9.7/lib/python3.9/site-packages (from jupyter-events>=0.9.0->jupyter-server<3,>=2.4.0->notebook->jupyter<2.0.0,>=1.0.0->backbone-learn) (2.0.7)\n",
      "Requirement already satisfied: fqdn in /Users/christosziakas/.pyenv/versions/3.9.7/lib/python3.9/site-packages (from jsonschema>=2.6->nbformat>=5.7->nbconvert->jupyter<2.0.0,>=1.0.0->backbone-learn) (1.5.1)\n",
      "Requirement already satisfied: uri-template in /Users/christosziakas/.pyenv/versions/3.9.7/lib/python3.9/site-packages (from jsonschema>=2.6->nbformat>=5.7->nbconvert->jupyter<2.0.0,>=1.0.0->backbone-learn) (1.3.0)\n",
      "Requirement already satisfied: webcolors>=1.11 in /Users/christosziakas/.pyenv/versions/3.9.7/lib/python3.9/site-packages (from jsonschema>=2.6->nbformat>=5.7->nbconvert->jupyter<2.0.0,>=1.0.0->backbone-learn) (1.13)\n",
      "Requirement already satisfied: jsonpointer>1.13 in /Users/christosziakas/.pyenv/versions/3.9.7/lib/python3.9/site-packages (from jsonschema>=2.6->nbformat>=5.7->nbconvert->jupyter<2.0.0,>=1.0.0->backbone-learn) (2.4)\n",
      "Requirement already satisfied: isoduration in /Users/christosziakas/.pyenv/versions/3.9.7/lib/python3.9/site-packages (from jsonschema>=2.6->nbformat>=5.7->nbconvert->jupyter<2.0.0,>=1.0.0->backbone-learn) (20.11.0)\n",
      "Requirement already satisfied: jupyter-lsp>=2.0.0 in /Users/christosziakas/.pyenv/versions/3.9.7/lib/python3.9/site-packages (from jupyterlab<5,>=4.0.2->notebook->jupyter<2.0.0,>=1.0.0->backbone-learn) (2.2.0)\n",
      "Requirement already satisfied: async-lru>=1.0.0 in /Users/christosziakas/.pyenv/versions/3.9.7/lib/python3.9/site-packages (from jupyterlab<5,>=4.0.2->notebook->jupyter<2.0.0,>=1.0.0->backbone-learn) (2.0.4)\n",
      "Requirement already satisfied: babel>=2.10 in /Users/christosziakas/.pyenv/versions/3.9.7/lib/python3.9/site-packages (from jupyterlab-server<3,>=2.22.1->notebook->jupyter<2.0.0,>=1.0.0->backbone-learn) (2.13.1)\n",
      "Requirement already satisfied: json5>=0.9.0 in /Users/christosziakas/.pyenv/versions/3.9.7/lib/python3.9/site-packages (from jupyterlab-server<3,>=2.22.1->notebook->jupyter<2.0.0,>=1.0.0->backbone-learn) (0.9.14)\n",
      "Requirement already satisfied: requests>=2.31 in /Users/christosziakas/.pyenv/versions/3.9.7/lib/python3.9/site-packages (from jupyterlab-server<3,>=2.22.1->notebook->jupyter<2.0.0,>=1.0.0->backbone-learn) (2.31.0)\n",
      "Requirement already satisfied: charset-normalizer<4,>=2 in /Users/christosziakas/.pyenv/versions/3.9.7/lib/python3.9/site-packages (from requests>=2.31->jupyterlab-server<3,>=2.22.1->notebook->jupyter<2.0.0,>=1.0.0->backbone-learn) (3.2.0)\n",
      "Requirement already satisfied: urllib3<3,>=1.21.1 in /Users/christosziakas/.pyenv/versions/3.9.7/lib/python3.9/site-packages (from requests>=2.31->jupyterlab-server<3,>=2.22.1->notebook->jupyter<2.0.0,>=1.0.0->backbone-learn) (1.26.17)\n",
      "Requirement already satisfied: certifi>=2017.4.17 in /Users/christosziakas/.pyenv/versions/3.9.7/lib/python3.9/site-packages (from requests>=2.31->jupyterlab-server<3,>=2.22.1->notebook->jupyter<2.0.0,>=1.0.0->backbone-learn) (2023.7.22)\n",
      "Requirement already satisfied: argon2-cffi-bindings in /Users/christosziakas/.pyenv/versions/3.9.7/lib/python3.9/site-packages (from argon2-cffi->jupyter-server<3,>=2.4.0->notebook->jupyter<2.0.0,>=1.0.0->backbone-learn) (21.2.0)\n",
      "Requirement already satisfied: cffi>=1.0.1 in /Users/christosziakas/.pyenv/versions/3.9.7/lib/python3.9/site-packages (from argon2-cffi-bindings->argon2-cffi->jupyter-server<3,>=2.4.0->notebook->jupyter<2.0.0,>=1.0.0->backbone-learn) (1.15.1)\n",
      "Requirement already satisfied: pycparser in /Users/christosziakas/.pyenv/versions/3.9.7/lib/python3.9/site-packages (from cffi>=1.0.1->argon2-cffi-bindings->argon2-cffi->jupyter-server<3,>=2.4.0->notebook->jupyter<2.0.0,>=1.0.0->backbone-learn) (2.21)\n",
      "Requirement already satisfied: arrow>=0.15.0 in /Users/christosziakas/.pyenv/versions/3.9.7/lib/python3.9/site-packages (from isoduration->jsonschema>=2.6->nbformat>=5.7->nbconvert->jupyter<2.0.0,>=1.0.0->backbone-learn) (1.3.0)\n",
      "Requirement already satisfied: types-python-dateutil>=2.8.10 in /Users/christosziakas/.pyenv/versions/3.9.7/lib/python3.9/site-packages (from arrow>=0.15.0->isoduration->jsonschema>=2.6->nbformat>=5.7->nbconvert->jupyter<2.0.0,>=1.0.0->backbone-learn) (2.8.19.14)\n",
      "Requirement already satisfied: qtpy>=2.4.0 in /Users/christosziakas/.pyenv/versions/3.9.7/lib/python3.9/site-packages (from qtconsole->jupyter<2.0.0,>=1.0.0->backbone-learn) (2.4.1)\n",
      "Requirement already satisfied: executing>=1.2.0 in /Users/christosziakas/.pyenv/versions/3.9.7/lib/python3.9/site-packages (from stack-data->ipython>=7.23.1->ipykernel<7.0.0,>=6.26.0->backbone-learn) (1.2.0)\n",
      "Requirement already satisfied: asttokens>=2.1.0 in /Users/christosziakas/.pyenv/versions/3.9.7/lib/python3.9/site-packages (from stack-data->ipython>=7.23.1->ipykernel<7.0.0,>=6.26.0->backbone-learn) (2.2.1)\n",
      "Requirement already satisfied: pure-eval in /Users/christosziakas/.pyenv/versions/3.9.7/lib/python3.9/site-packages (from stack-data->ipython>=7.23.1->ipykernel<7.0.0,>=6.26.0->backbone-learn) (0.2.2)\n",
      "\u001b[33mWARNING: You are using pip version 21.2.3; however, version 23.3.1 is available.\n",
      "You should consider upgrading via the '/Users/christosziakas/.pyenv/versions/3.9.7/bin/python3.9 -m pip install --upgrade pip' command.\u001b[0m\n",
      "Collecting odtlearn\n",
      "  Cloning https://github.com/D3M-Research-Group/odtlearn.git to /private/var/folders/3s/fj6w40551rx8ls24_r7pp17m0000gp/T/pip-install-hyk84xke/odtlearn_b0903164fab24678aa712612f1ec3fd8\n",
      "  Running command git clone -q https://github.com/D3M-Research-Group/odtlearn.git /private/var/folders/3s/fj6w40551rx8ls24_r7pp17m0000gp/T/pip-install-hyk84xke/odtlearn_b0903164fab24678aa712612f1ec3fd8\n",
      "  Resolved https://github.com/D3M-Research-Group/odtlearn.git to commit 5c743a3ab4a19dda123b84626fcef83913f530fe\n",
      "  Installing build dependencies ... \u001b[?25ldone\n",
      "\u001b[?25h  Getting requirements to build wheel ... \u001b[?25ldone\n",
      "\u001b[?25h    Preparing wheel metadata ... \u001b[?25ldone\n",
      "\u001b[?25hRequirement already satisfied: scikit-learn in /Users/christosziakas/.pyenv/versions/3.9.7/lib/python3.9/site-packages (from odtlearn) (1.3.2)\n",
      "Requirement already satisfied: mip in /Users/christosziakas/.pyenv/versions/3.9.7/lib/python3.9/site-packages (from odtlearn) (1.15.0)\n",
      "Requirement already satisfied: pandas in /Users/christosziakas/.pyenv/versions/3.9.7/lib/python3.9/site-packages (from odtlearn) (2.1.0)\n",
      "Requirement already satisfied: numpy in /Users/christosziakas/.pyenv/versions/3.9.7/lib/python3.9/site-packages (from odtlearn) (1.26.2)\n",
      "Requirement already satisfied: scipy in /Users/christosziakas/.pyenv/versions/3.9.7/lib/python3.9/site-packages (from odtlearn) (1.11.2)\n",
      "Requirement already satisfied: gurobipy in /Users/christosziakas/.pyenv/versions/3.9.7/lib/python3.9/site-packages (from odtlearn) (10.0.3)\n",
      "Requirement already satisfied: cffi==1.15.* in /Users/christosziakas/.pyenv/versions/3.9.7/lib/python3.9/site-packages (from mip->odtlearn) (1.15.1)\n",
      "Requirement already satisfied: pycparser in /Users/christosziakas/.pyenv/versions/3.9.7/lib/python3.9/site-packages (from cffi==1.15.*->mip->odtlearn) (2.21)\n",
      "Requirement already satisfied: pytz>=2020.1 in /Users/christosziakas/.pyenv/versions/3.9.7/lib/python3.9/site-packages (from pandas->odtlearn) (2023.3)\n",
      "Requirement already satisfied: python-dateutil>=2.8.2 in /Users/christosziakas/.pyenv/versions/3.9.7/lib/python3.9/site-packages (from pandas->odtlearn) (2.8.2)\n",
      "Requirement already satisfied: tzdata>=2022.1 in /Users/christosziakas/.pyenv/versions/3.9.7/lib/python3.9/site-packages (from pandas->odtlearn) (2023.3)\n",
      "Requirement already satisfied: six>=1.5 in /Users/christosziakas/.pyenv/versions/3.9.7/lib/python3.9/site-packages (from python-dateutil>=2.8.2->pandas->odtlearn) (1.16.0)\n",
      "Requirement already satisfied: threadpoolctl>=2.0.0 in /Users/christosziakas/.pyenv/versions/3.9.7/lib/python3.9/site-packages (from scikit-learn->odtlearn) (3.2.0)\n",
      "Requirement already satisfied: joblib>=1.1.1 in /Users/christosziakas/.pyenv/versions/3.9.7/lib/python3.9/site-packages (from scikit-learn->odtlearn) (1.3.2)\n",
      "\u001b[33mWARNING: You are using pip version 21.2.3; however, version 23.3.1 is available.\n",
      "You should consider upgrading via the '/Users/christosziakas/.pyenv/versions/3.9.7/bin/python3.9 -m pip install --upgrade pip' command.\u001b[0m\n"
     ]
    }
   ],
   "source": [
    "!pip install backbone-learn\n",
    "!pip install git+https://github.com/D3M-Research-Group/odtlearn.git#egg=odtlearn"
   ]
  },
  {
   "cell_type": "code",
   "execution_count": 3,
   "metadata": {},
   "outputs": [
    {
     "name": "stdout",
     "output_type": "stream",
     "text": [
      "DYLD_LIBRARY_PATH: /Users/christosziakas/CBC/dist/lib\n",
      "PMIP_CBC_LIBRARY: /Users/christosziakas/CBC/dist/lib/libCbc.dylib\n"
     ]
    }
   ],
   "source": [
    "import os\n",
    "# Manually replace '~' with your actual home directory path\n",
    "home_directory = os.path.expanduser('~')\n",
    "os.environ['DYLD_LIBRARY_PATH'] = os.path.join(home_directory, 'CBC/dist/lib')\n",
    "os.environ['PMIP_CBC_LIBRARY'] = os.path.join(home_directory, 'CBC/dist/lib/libCbc.dylib')\n",
    "\n",
    "# Verify if the environment variables are set\n",
    "print(f\"DYLD_LIBRARY_PATH: {os.environ.get('DYLD_LIBRARY_PATH')}\")\n",
    "print(f\"PMIP_CBC_LIBRARY: {os.environ.get('PMIP_CBC_LIBRARY')}\")"
   ]
  },
  {
   "attachments": {},
   "cell_type": "markdown",
   "metadata": {},
   "source": [
    "### Load libraries"
   ]
  },
  {
   "cell_type": "code",
   "execution_count": 5,
   "metadata": {},
   "outputs": [],
   "source": [
    "from sklearn.datasets import make_classification\n",
    "from sklearn.preprocessing import KBinsDiscretizer\n",
    "from backbone_learn.backbone.backbone_decision_tree import BackboneDecisionTree"
   ]
  },
  {
   "attachments": {},
   "cell_type": "markdown",
   "metadata": {},
   "source": [
    "### Generate synthetic data\n",
    "Note: FlowOCT supports only binary features. Follow the instructions described in ReadMe to replace the FlowOCT exact solver with your custom one in case you want to support continuous features.\n"
   ]
  },
  {
   "cell_type": "code",
   "execution_count": 6,
   "metadata": {},
   "outputs": [],
   "source": [
    "# Generate synhetic data\n",
    "X, y = make_classification(n_samples=1000, n_features=50, n_classes=2, random_state=42)\n"
   ]
  },
  {
   "cell_type": "code",
   "execution_count": 7,
   "metadata": {},
   "outputs": [
    {
     "name": "stderr",
     "output_type": "stream",
     "text": [
      "2023-11-19 04:18:33,722 - INFO - Screen selection started.\n",
      "2023-11-19 04:18:33,727 - INFO - Number of variables included in the heuristic solver: 5\n",
      "2023-11-19 04:18:33,736 - INFO - Backbone construction with heuristic solver started for iterations:1, subproblems:5 , and beta:0.5\n",
      "2023-11-19 04:18:33,739 - INFO - Iteration 1 started.\n"
     ]
    },
    {
     "name": "stdout",
     "output_type": "stream",
     "text": [
      "Fitting 5 folds for each of 12 candidates, totalling 60 fits\n",
      "Fitting 5 folds for each of 12 candidates, totalling 60 fits\n",
      "Fitting 5 folds for each of 12 candidates, totalling 60 fits\n",
      "Fitting 5 folds for each of 12 candidates, totalling 60 fits\n"
     ]
    },
    {
     "name": "stderr",
     "output_type": "stream",
     "text": [
      "2023-11-19 04:18:34,046 - INFO - Iteration 1 completed.\n",
      "2023-11-19 04:18:34,046 - INFO - Backbone set idx: [0 1 2 3]\n",
      "2023-11-19 04:18:34,047 - INFO - Number of variables included in the exact solver: 4\n"
     ]
    },
    {
     "name": "stdout",
     "output_type": "stream",
     "text": [
      "Fitting 5 folds for each of 12 candidates, totalling 60 fits\n",
      "Cbc0045I May be able to increase cutoff increment to 0.0999 - but we have lazy constraints\n",
      "Cbc0031I 6 added rows had average density of 9.5\n",
      "Cbc0013I At root node, 6 cuts changed objective from 90 to 89.8 in 6 passes\n",
      "Cbc0014I Cut generator 0 (LazyConstraints) - 262 row cuts average 5.8 elements, 0 column cuts (0 active)  in 0.018 seconds - new frequency is 1\n",
      "Cbc0014I Cut generator 1 (Probing) - 0 row cuts average 0.0 elements, 0 column cuts (0 active)  in 0.000 seconds - new frequency is -100\n",
      "Cbc0014I Cut generator 2 (Gomory) - 5 row cuts average 22.4 elements, 0 column cuts (0 active)  in 0.000 seconds - new frequency is -100\n",
      "Cbc0014I Cut generator 3 (Knapsack) - 0 row cuts average 0.0 elements, 0 column cuts (0 active)  in 0.000 seconds - new frequency is -100\n",
      "Cbc0014I Cut generator 4 (MixedIntegerRounding2) - 0 row cuts average 0.0 elements, 0 column cuts (0 active)  in 0.000 seconds - new frequency is -100\n",
      "Cbc0014I Cut generator 7 (ZeroHalf) - 0 row cuts average 0.0 elements, 0 column cuts (0 active)  in 0.000 seconds - new frequency is -100\n",
      "Cbc0016I Integer solution of 84.200001 found by strong branching after 52 iterations and 7 nodes (0.18 seconds)\n",
      "Cbc3008W Strong branching is fixing too many variables, too expensively!\n",
      "Cbc0004I Integer solution of 84.500001 found after 93 iterations and 11 nodes (0.29 seconds)\n",
      "Cbc0010I After 43 nodes, 2 on tree, 84.500001 best solution, best possible 89.8 (0.69 seconds)\n",
      "Cbc0010I After 73 nodes, 9 on tree, 84.500001 best solution, best possible 89.8 (1.40 seconds)\n",
      "Cbc0010I After 99 nodes, 6 on tree, 84.500001 best solution, best possible 89.8 (2.11 seconds)\n",
      "Cbc0010I After 123 nodes, 5 on tree, 84.500001 best solution, best possible 89.8 (2.83 seconds)\n"
     ]
    },
    {
     "name": "stderr",
     "output_type": "stream",
     "text": [
      "2023-11-19 04:18:37,584 - INFO - Exact problem solved.\n"
     ]
    },
    {
     "name": "stdout",
     "output_type": "stream",
     "text": [
      "Cbc0001I Search completed - best objective 84.50000127800006, took 1367 iterations and 160 nodes (3.50 seconds)\n",
      "Cbc0032I Strong branching done 420 times (899 iterations), fathomed 1 nodes and fixed 4 variables\n",
      "Cbc0035I Maximum depth 11, 2 variables fixed on reduced cost\n"
     ]
    }
   ],
   "source": [
    "# Run backbone for decision tress\n",
    "backbone = BackboneDecisionTree(alpha=0.5, beta=0.5, num_subproblems=5, num_iterations=1, depth=3, time_limit=100, _lambda=0.1, num_threads=None, obj_mode=\"acc\")\n",
    "backbone.fit(X, y)"
   ]
  },
  {
   "cell_type": "code",
   "execution_count": 8,
   "metadata": {},
   "outputs": [],
   "source": [
    "y_pred = backbone.predict(X)"
   ]
  }
 ],
 "metadata": {
  "kernelspec": {
   "display_name": "backbone-XyLFsdvc-py3.9",
   "language": "python",
   "name": "python3"
  },
  "language_info": {
   "codemirror_mode": {
    "name": "ipython",
    "version": 3
   },
   "file_extension": ".py",
   "mimetype": "text/x-python",
   "name": "python",
   "nbconvert_exporter": "python",
   "pygments_lexer": "ipython3",
   "version": "3.9.7"
  },
  "orig_nbformat": 4
 },
 "nbformat": 4,
 "nbformat_minor": 2
}
