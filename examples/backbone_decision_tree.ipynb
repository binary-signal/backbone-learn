{
 "cells": [
  {
   "attachments": {},
   "cell_type": "markdown",
   "metadata": {},
   "source": [
    "### Set up CBC binaries \n",
    "Note: Follow the instructions described in ODT libary https://github.com/D3M-Research-Group/odtlearn"
   ]
  },
  {
   "cell_type": "code",
   "execution_count": 15,
   "metadata": {},
   "outputs": [
    {
     "name": "stdout",
     "output_type": "stream",
     "text": [
      "Requirement already satisfied: backbone-learn in /Users/christosziakas/.pyenv/versions/3.9.7/lib/python3.9/site-packages (0.1.0)\n",
      "Requirement already satisfied: pre-commit<4.0.0,>=3.5.0 in /Users/christosziakas/.pyenv/versions/3.9.7/lib/python3.9/site-packages (from backbone-learn) (3.5.0)\n",
      "Requirement already satisfied: seaborn<0.14.0,>=0.13.0 in /Users/christosziakas/.pyenv/versions/3.9.7/lib/python3.9/site-packages (from backbone-learn) (0.13.0)\n",
      "Requirement already satisfied: ipykernel<7.0.0,>=6.26.0 in /Users/christosziakas/.pyenv/versions/3.9.7/lib/python3.9/site-packages (from backbone-learn) (6.26.0)\n",
      "Requirement already satisfied: l0bnb<2.0.0,>=1.0.0 in /Users/christosziakas/.pyenv/versions/3.9.7/lib/python3.9/site-packages (from backbone-learn) (1.0.0)\n",
      "Requirement already satisfied: scikit-learn<2.0.0,>=1.3.2 in /Users/christosziakas/.pyenv/versions/3.9.7/lib/python3.9/site-packages (from backbone-learn) (1.3.2)\n",
      "Requirement already satisfied: pytest<8.0.0,>=7.4.3 in /Users/christosziakas/.pyenv/versions/3.9.7/lib/python3.9/site-packages (from backbone-learn) (7.4.3)\n",
      "Requirement already satisfied: pulp<3.0.0,>=2.7.0 in /Users/christosziakas/.pyenv/versions/3.9.7/lib/python3.9/site-packages (from backbone-learn) (2.7.0)\n",
      "Requirement already satisfied: jupyter<2.0.0,>=1.0.0 in /Users/christosziakas/.pyenv/versions/3.9.7/lib/python3.9/site-packages (from backbone-learn) (1.0.0)\n",
      "Requirement already satisfied: numpy<2.0.0,>=1.26.1 in /Users/christosziakas/.pyenv/versions/3.9.7/lib/python3.9/site-packages (from backbone-learn) (1.26.2)\n",
      "Requirement already satisfied: jupyter-core!=5.0.*,>=4.12 in /Users/christosziakas/.pyenv/versions/3.9.7/lib/python3.9/site-packages (from ipykernel<7.0.0,>=6.26.0->backbone-learn) (5.5.0)\n",
      "Requirement already satisfied: traitlets>=5.4.0 in /Users/christosziakas/.pyenv/versions/3.9.7/lib/python3.9/site-packages (from ipykernel<7.0.0,>=6.26.0->backbone-learn) (5.13.0)\n",
      "Requirement already satisfied: pyzmq>=20 in /Users/christosziakas/.pyenv/versions/3.9.7/lib/python3.9/site-packages (from ipykernel<7.0.0,>=6.26.0->backbone-learn) (25.1.1)\n",
      "Requirement already satisfied: jupyter-client>=6.1.12 in /Users/christosziakas/.pyenv/versions/3.9.7/lib/python3.9/site-packages (from ipykernel<7.0.0,>=6.26.0->backbone-learn) (8.6.0)\n",
      "Requirement already satisfied: debugpy>=1.6.5 in /Users/christosziakas/.pyenv/versions/3.9.7/lib/python3.9/site-packages (from ipykernel<7.0.0,>=6.26.0->backbone-learn) (1.8.0)\n",
      "Requirement already satisfied: ipython>=7.23.1 in /Users/christosziakas/.pyenv/versions/3.9.7/lib/python3.9/site-packages (from ipykernel<7.0.0,>=6.26.0->backbone-learn) (8.17.2)\n",
      "Requirement already satisfied: psutil in /Users/christosziakas/.pyenv/versions/3.9.7/lib/python3.9/site-packages (from ipykernel<7.0.0,>=6.26.0->backbone-learn) (5.9.6)\n",
      "Requirement already satisfied: comm>=0.1.1 in /Users/christosziakas/.pyenv/versions/3.9.7/lib/python3.9/site-packages (from ipykernel<7.0.0,>=6.26.0->backbone-learn) (0.2.0)\n",
      "Requirement already satisfied: packaging in /Users/christosziakas/.pyenv/versions/3.9.7/lib/python3.9/site-packages (from ipykernel<7.0.0,>=6.26.0->backbone-learn) (23.2)\n",
      "Requirement already satisfied: matplotlib-inline>=0.1 in /Users/christosziakas/.pyenv/versions/3.9.7/lib/python3.9/site-packages (from ipykernel<7.0.0,>=6.26.0->backbone-learn) (0.1.6)\n",
      "Requirement already satisfied: nest-asyncio in /Users/christosziakas/.pyenv/versions/3.9.7/lib/python3.9/site-packages (from ipykernel<7.0.0,>=6.26.0->backbone-learn) (1.5.8)\n",
      "Requirement already satisfied: appnope in /Users/christosziakas/.pyenv/versions/3.9.7/lib/python3.9/site-packages (from ipykernel<7.0.0,>=6.26.0->backbone-learn) (0.1.3)\n",
      "Requirement already satisfied: tornado>=6.1 in /Users/christosziakas/.pyenv/versions/3.9.7/lib/python3.9/site-packages (from ipykernel<7.0.0,>=6.26.0->backbone-learn) (6.3.3)\n",
      "Requirement already satisfied: prompt-toolkit!=3.0.37,<3.1.0,>=3.0.30 in /Users/christosziakas/.pyenv/versions/3.9.7/lib/python3.9/site-packages (from ipython>=7.23.1->ipykernel<7.0.0,>=6.26.0->backbone-learn) (3.0.41)\n",
      "Requirement already satisfied: jedi>=0.16 in /Users/christosziakas/.pyenv/versions/3.9.7/lib/python3.9/site-packages (from ipython>=7.23.1->ipykernel<7.0.0,>=6.26.0->backbone-learn) (0.19.1)\n",
      "Requirement already satisfied: pygments>=2.4.0 in /Users/christosziakas/.pyenv/versions/3.9.7/lib/python3.9/site-packages (from ipython>=7.23.1->ipykernel<7.0.0,>=6.26.0->backbone-learn) (2.17.0)\n",
      "Requirement already satisfied: typing-extensions in /Users/christosziakas/.pyenv/versions/3.9.7/lib/python3.9/site-packages (from ipython>=7.23.1->ipykernel<7.0.0,>=6.26.0->backbone-learn) (4.8.0)\n",
      "Requirement already satisfied: exceptiongroup in /Users/christosziakas/.pyenv/versions/3.9.7/lib/python3.9/site-packages (from ipython>=7.23.1->ipykernel<7.0.0,>=6.26.0->backbone-learn) (1.1.3)\n",
      "Requirement already satisfied: stack-data in /Users/christosziakas/.pyenv/versions/3.9.7/lib/python3.9/site-packages (from ipython>=7.23.1->ipykernel<7.0.0,>=6.26.0->backbone-learn) (0.6.3)\n",
      "Requirement already satisfied: pexpect>4.3 in /Users/christosziakas/.pyenv/versions/3.9.7/lib/python3.9/site-packages (from ipython>=7.23.1->ipykernel<7.0.0,>=6.26.0->backbone-learn) (4.8.0)\n",
      "Requirement already satisfied: decorator in /Users/christosziakas/.pyenv/versions/3.9.7/lib/python3.9/site-packages (from ipython>=7.23.1->ipykernel<7.0.0,>=6.26.0->backbone-learn) (5.1.1)\n",
      "Requirement already satisfied: parso<0.9.0,>=0.8.3 in /Users/christosziakas/.pyenv/versions/3.9.7/lib/python3.9/site-packages (from jedi>=0.16->ipython>=7.23.1->ipykernel<7.0.0,>=6.26.0->backbone-learn) (0.8.3)\n",
      "Requirement already satisfied: qtconsole in /Users/christosziakas/.pyenv/versions/3.9.7/lib/python3.9/site-packages (from jupyter<2.0.0,>=1.0.0->backbone-learn) (5.5.1)\n",
      "Requirement already satisfied: notebook in /Users/christosziakas/.pyenv/versions/3.9.7/lib/python3.9/site-packages (from jupyter<2.0.0,>=1.0.0->backbone-learn) (7.0.6)\n",
      "Requirement already satisfied: nbconvert in /Users/christosziakas/.pyenv/versions/3.9.7/lib/python3.9/site-packages (from jupyter<2.0.0,>=1.0.0->backbone-learn) (7.11.0)\n",
      "Requirement already satisfied: ipywidgets in /Users/christosziakas/.pyenv/versions/3.9.7/lib/python3.9/site-packages (from jupyter<2.0.0,>=1.0.0->backbone-learn) (8.1.1)\n",
      "Requirement already satisfied: jupyter-console in /Users/christosziakas/.pyenv/versions/3.9.7/lib/python3.9/site-packages (from jupyter<2.0.0,>=1.0.0->backbone-learn) (6.6.3)\n",
      "Requirement already satisfied: python-dateutil>=2.8.2 in /Users/christosziakas/.pyenv/versions/3.9.7/lib/python3.9/site-packages (from jupyter-client>=6.1.12->ipykernel<7.0.0,>=6.26.0->backbone-learn) (2.8.2)\n",
      "Requirement already satisfied: importlib-metadata>=4.8.3 in /Users/christosziakas/.pyenv/versions/3.9.7/lib/python3.9/site-packages (from jupyter-client>=6.1.12->ipykernel<7.0.0,>=6.26.0->backbone-learn) (6.8.0)\n",
      "Requirement already satisfied: zipp>=0.5 in /Users/christosziakas/.pyenv/versions/3.9.7/lib/python3.9/site-packages (from importlib-metadata>=4.8.3->jupyter-client>=6.1.12->ipykernel<7.0.0,>=6.26.0->backbone-learn) (3.17.0)\n",
      "Requirement already satisfied: platformdirs>=2.5 in /Users/christosziakas/.pyenv/versions/3.9.7/lib/python3.9/site-packages (from jupyter-core!=5.0.*,>=4.12->ipykernel<7.0.0,>=6.26.0->backbone-learn) (3.11.0)\n",
      "Requirement already satisfied: scipy>=1.4.1 in /Users/christosziakas/.pyenv/versions/3.9.7/lib/python3.9/site-packages (from l0bnb<2.0.0,>=1.0.0->backbone-learn) (1.11.4)\n",
      "Requirement already satisfied: numba>=0.53.1 in /Users/christosziakas/.pyenv/versions/3.9.7/lib/python3.9/site-packages (from l0bnb<2.0.0,>=1.0.0->backbone-learn) (0.58.1)\n",
      "Requirement already satisfied: llvmlite<0.42,>=0.41.0dev0 in /Users/christosziakas/.pyenv/versions/3.9.7/lib/python3.9/site-packages (from numba>=0.53.1->l0bnb<2.0.0,>=1.0.0->backbone-learn) (0.41.1)\n",
      "Requirement already satisfied: ptyprocess>=0.5 in /Users/christosziakas/.pyenv/versions/3.9.7/lib/python3.9/site-packages (from pexpect>4.3->ipython>=7.23.1->ipykernel<7.0.0,>=6.26.0->backbone-learn) (0.7.0)\n",
      "Requirement already satisfied: cfgv>=2.0.0 in /Users/christosziakas/.pyenv/versions/3.9.7/lib/python3.9/site-packages (from pre-commit<4.0.0,>=3.5.0->backbone-learn) (3.4.0)\n",
      "Requirement already satisfied: identify>=1.0.0 in /Users/christosziakas/.pyenv/versions/3.9.7/lib/python3.9/site-packages (from pre-commit<4.0.0,>=3.5.0->backbone-learn) (2.5.32)\n",
      "Requirement already satisfied: nodeenv>=0.11.1 in /Users/christosziakas/.pyenv/versions/3.9.7/lib/python3.9/site-packages (from pre-commit<4.0.0,>=3.5.0->backbone-learn) (1.8.0)\n",
      "Requirement already satisfied: pyyaml>=5.1 in /Users/christosziakas/.pyenv/versions/3.9.7/lib/python3.9/site-packages (from pre-commit<4.0.0,>=3.5.0->backbone-learn) (6.0.1)\n",
      "Requirement already satisfied: virtualenv>=20.10.0 in /Users/christosziakas/.pyenv/versions/3.9.7/lib/python3.9/site-packages (from pre-commit<4.0.0,>=3.5.0->backbone-learn) (20.24.6)\n",
      "Requirement already satisfied: setuptools in /Users/christosziakas/.pyenv/versions/3.9.7/lib/python3.9/site-packages (from nodeenv>=0.11.1->pre-commit<4.0.0,>=3.5.0->backbone-learn) (68.2.2)\n",
      "Requirement already satisfied: wcwidth in /Users/christosziakas/.pyenv/versions/3.9.7/lib/python3.9/site-packages (from prompt-toolkit!=3.0.37,<3.1.0,>=3.0.30->ipython>=7.23.1->ipykernel<7.0.0,>=6.26.0->backbone-learn) (0.2.10)\n",
      "Requirement already satisfied: iniconfig in /Users/christosziakas/.pyenv/versions/3.9.7/lib/python3.9/site-packages (from pytest<8.0.0,>=7.4.3->backbone-learn) (2.0.0)\n",
      "Requirement already satisfied: tomli>=1.0.0 in /Users/christosziakas/.pyenv/versions/3.9.7/lib/python3.9/site-packages (from pytest<8.0.0,>=7.4.3->backbone-learn) (2.0.1)\n",
      "Requirement already satisfied: pluggy<2.0,>=0.12 in /Users/christosziakas/.pyenv/versions/3.9.7/lib/python3.9/site-packages (from pytest<8.0.0,>=7.4.3->backbone-learn) (1.3.0)\n",
      "Requirement already satisfied: six>=1.5 in /Users/christosziakas/.pyenv/versions/3.9.7/lib/python3.9/site-packages (from python-dateutil>=2.8.2->jupyter-client>=6.1.12->ipykernel<7.0.0,>=6.26.0->backbone-learn) (1.16.0)\n",
      "Requirement already satisfied: threadpoolctl>=2.0.0 in /Users/christosziakas/.pyenv/versions/3.9.7/lib/python3.9/site-packages (from scikit-learn<2.0.0,>=1.3.2->backbone-learn) (3.2.0)\n",
      "Requirement already satisfied: joblib>=1.1.1 in /Users/christosziakas/.pyenv/versions/3.9.7/lib/python3.9/site-packages (from scikit-learn<2.0.0,>=1.3.2->backbone-learn) (1.3.2)\n",
      "Requirement already satisfied: matplotlib!=3.6.1,>=3.3 in /Users/christosziakas/.pyenv/versions/3.9.7/lib/python3.9/site-packages (from seaborn<0.14.0,>=0.13.0->backbone-learn) (3.8.2)\n",
      "Requirement already satisfied: pandas>=1.2 in /Users/christosziakas/.pyenv/versions/3.9.7/lib/python3.9/site-packages (from seaborn<0.14.0,>=0.13.0->backbone-learn) (2.1.3)\n",
      "Requirement already satisfied: importlib-resources>=3.2.0 in /Users/christosziakas/.pyenv/versions/3.9.7/lib/python3.9/site-packages (from matplotlib!=3.6.1,>=3.3->seaborn<0.14.0,>=0.13.0->backbone-learn) (6.1.1)\n",
      "Requirement already satisfied: cycler>=0.10 in /Users/christosziakas/.pyenv/versions/3.9.7/lib/python3.9/site-packages (from matplotlib!=3.6.1,>=3.3->seaborn<0.14.0,>=0.13.0->backbone-learn) (0.12.1)\n",
      "Requirement already satisfied: pyparsing>=2.3.1 in /Users/christosziakas/.pyenv/versions/3.9.7/lib/python3.9/site-packages (from matplotlib!=3.6.1,>=3.3->seaborn<0.14.0,>=0.13.0->backbone-learn) (3.1.1)\n",
      "Requirement already satisfied: contourpy>=1.0.1 in /Users/christosziakas/.pyenv/versions/3.9.7/lib/python3.9/site-packages (from matplotlib!=3.6.1,>=3.3->seaborn<0.14.0,>=0.13.0->backbone-learn) (1.2.0)\n",
      "Requirement already satisfied: pillow>=8 in /Users/christosziakas/.pyenv/versions/3.9.7/lib/python3.9/site-packages (from matplotlib!=3.6.1,>=3.3->seaborn<0.14.0,>=0.13.0->backbone-learn) (10.1.0)\n",
      "Requirement already satisfied: fonttools>=4.22.0 in /Users/christosziakas/.pyenv/versions/3.9.7/lib/python3.9/site-packages (from matplotlib!=3.6.1,>=3.3->seaborn<0.14.0,>=0.13.0->backbone-learn) (4.44.3)\n",
      "Requirement already satisfied: kiwisolver>=1.3.1 in /Users/christosziakas/.pyenv/versions/3.9.7/lib/python3.9/site-packages (from matplotlib!=3.6.1,>=3.3->seaborn<0.14.0,>=0.13.0->backbone-learn) (1.4.5)\n",
      "Requirement already satisfied: tzdata>=2022.1 in /Users/christosziakas/.pyenv/versions/3.9.7/lib/python3.9/site-packages (from pandas>=1.2->seaborn<0.14.0,>=0.13.0->backbone-learn) (2023.3)\n",
      "Requirement already satisfied: pytz>=2020.1 in /Users/christosziakas/.pyenv/versions/3.9.7/lib/python3.9/site-packages (from pandas>=1.2->seaborn<0.14.0,>=0.13.0->backbone-learn) (2023.3.post1)\n",
      "Requirement already satisfied: filelock<4,>=3.12.2 in /Users/christosziakas/.pyenv/versions/3.9.7/lib/python3.9/site-packages (from virtualenv>=20.10.0->pre-commit<4.0.0,>=3.5.0->backbone-learn) (3.13.1)\n",
      "Requirement already satisfied: distlib<1,>=0.3.7 in /Users/christosziakas/.pyenv/versions/3.9.7/lib/python3.9/site-packages (from virtualenv>=20.10.0->pre-commit<4.0.0,>=3.5.0->backbone-learn) (0.3.7)\n",
      "Requirement already satisfied: jupyterlab-widgets~=3.0.9 in /Users/christosziakas/.pyenv/versions/3.9.7/lib/python3.9/site-packages (from ipywidgets->jupyter<2.0.0,>=1.0.0->backbone-learn) (3.0.9)\n",
      "Requirement already satisfied: widgetsnbextension~=4.0.9 in /Users/christosziakas/.pyenv/versions/3.9.7/lib/python3.9/site-packages (from ipywidgets->jupyter<2.0.0,>=1.0.0->backbone-learn) (4.0.9)\n",
      "Requirement already satisfied: bleach!=5.0.0 in /Users/christosziakas/.pyenv/versions/3.9.7/lib/python3.9/site-packages (from nbconvert->jupyter<2.0.0,>=1.0.0->backbone-learn) (6.1.0)\n",
      "Requirement already satisfied: jupyterlab-pygments in /Users/christosziakas/.pyenv/versions/3.9.7/lib/python3.9/site-packages (from nbconvert->jupyter<2.0.0,>=1.0.0->backbone-learn) (0.2.2)\n",
      "Requirement already satisfied: mistune<4,>=2.0.3 in /Users/christosziakas/.pyenv/versions/3.9.7/lib/python3.9/site-packages (from nbconvert->jupyter<2.0.0,>=1.0.0->backbone-learn) (3.0.2)\n",
      "Requirement already satisfied: defusedxml in /Users/christosziakas/.pyenv/versions/3.9.7/lib/python3.9/site-packages (from nbconvert->jupyter<2.0.0,>=1.0.0->backbone-learn) (0.7.1)\n",
      "Requirement already satisfied: nbformat>=5.7 in /Users/christosziakas/.pyenv/versions/3.9.7/lib/python3.9/site-packages (from nbconvert->jupyter<2.0.0,>=1.0.0->backbone-learn) (5.9.2)\n",
      "Requirement already satisfied: markupsafe>=2.0 in /Users/christosziakas/.pyenv/versions/3.9.7/lib/python3.9/site-packages (from nbconvert->jupyter<2.0.0,>=1.0.0->backbone-learn) (2.1.3)\n",
      "Requirement already satisfied: tinycss2 in /Users/christosziakas/.pyenv/versions/3.9.7/lib/python3.9/site-packages (from nbconvert->jupyter<2.0.0,>=1.0.0->backbone-learn) (1.2.1)\n",
      "Requirement already satisfied: nbclient>=0.5.0 in /Users/christosziakas/.pyenv/versions/3.9.7/lib/python3.9/site-packages (from nbconvert->jupyter<2.0.0,>=1.0.0->backbone-learn) (0.9.0)\n",
      "Requirement already satisfied: jinja2>=3.0 in /Users/christosziakas/.pyenv/versions/3.9.7/lib/python3.9/site-packages (from nbconvert->jupyter<2.0.0,>=1.0.0->backbone-learn) (3.1.2)\n",
      "Requirement already satisfied: pandocfilters>=1.4.1 in /Users/christosziakas/.pyenv/versions/3.9.7/lib/python3.9/site-packages (from nbconvert->jupyter<2.0.0,>=1.0.0->backbone-learn) (1.5.0)\n",
      "Requirement already satisfied: beautifulsoup4 in /Users/christosziakas/.pyenv/versions/3.9.7/lib/python3.9/site-packages (from nbconvert->jupyter<2.0.0,>=1.0.0->backbone-learn) (4.12.2)\n",
      "Requirement already satisfied: webencodings in /Users/christosziakas/.pyenv/versions/3.9.7/lib/python3.9/site-packages (from bleach!=5.0.0->nbconvert->jupyter<2.0.0,>=1.0.0->backbone-learn) (0.5.1)\n",
      "Requirement already satisfied: fastjsonschema in /Users/christosziakas/.pyenv/versions/3.9.7/lib/python3.9/site-packages (from nbformat>=5.7->nbconvert->jupyter<2.0.0,>=1.0.0->backbone-learn) (2.19.0)\n",
      "Requirement already satisfied: jsonschema>=2.6 in /Users/christosziakas/.pyenv/versions/3.9.7/lib/python3.9/site-packages (from nbformat>=5.7->nbconvert->jupyter<2.0.0,>=1.0.0->backbone-learn) (4.20.0)\n",
      "Requirement already satisfied: referencing>=0.28.4 in /Users/christosziakas/.pyenv/versions/3.9.7/lib/python3.9/site-packages (from jsonschema>=2.6->nbformat>=5.7->nbconvert->jupyter<2.0.0,>=1.0.0->backbone-learn) (0.31.0)\n",
      "Requirement already satisfied: attrs>=22.2.0 in /Users/christosziakas/.pyenv/versions/3.9.7/lib/python3.9/site-packages (from jsonschema>=2.6->nbformat>=5.7->nbconvert->jupyter<2.0.0,>=1.0.0->backbone-learn) (23.1.0)\n",
      "Requirement already satisfied: jsonschema-specifications>=2023.03.6 in /Users/christosziakas/.pyenv/versions/3.9.7/lib/python3.9/site-packages (from jsonschema>=2.6->nbformat>=5.7->nbconvert->jupyter<2.0.0,>=1.0.0->backbone-learn) (2023.11.1)\n",
      "Requirement already satisfied: rpds-py>=0.7.1 in /Users/christosziakas/.pyenv/versions/3.9.7/lib/python3.9/site-packages (from jsonschema>=2.6->nbformat>=5.7->nbconvert->jupyter<2.0.0,>=1.0.0->backbone-learn) (0.13.0)\n",
      "Requirement already satisfied: soupsieve>1.2 in /Users/christosziakas/.pyenv/versions/3.9.7/lib/python3.9/site-packages (from beautifulsoup4->nbconvert->jupyter<2.0.0,>=1.0.0->backbone-learn) (2.5)\n",
      "Requirement already satisfied: jupyterlab-server<3,>=2.22.1 in /Users/christosziakas/.pyenv/versions/3.9.7/lib/python3.9/site-packages (from notebook->jupyter<2.0.0,>=1.0.0->backbone-learn) (2.25.2)\n",
      "Requirement already satisfied: notebook-shim<0.3,>=0.2 in /Users/christosziakas/.pyenv/versions/3.9.7/lib/python3.9/site-packages (from notebook->jupyter<2.0.0,>=1.0.0->backbone-learn) (0.2.3)\n",
      "Requirement already satisfied: jupyterlab<5,>=4.0.2 in /Users/christosziakas/.pyenv/versions/3.9.7/lib/python3.9/site-packages (from notebook->jupyter<2.0.0,>=1.0.0->backbone-learn) (4.0.9)\n",
      "Requirement already satisfied: jupyter-server<3,>=2.4.0 in /Users/christosziakas/.pyenv/versions/3.9.7/lib/python3.9/site-packages (from notebook->jupyter<2.0.0,>=1.0.0->backbone-learn) (2.10.1)\n",
      "Requirement already satisfied: argon2-cffi in /Users/christosziakas/.pyenv/versions/3.9.7/lib/python3.9/site-packages (from jupyter-server<3,>=2.4.0->notebook->jupyter<2.0.0,>=1.0.0->backbone-learn) (23.1.0)\n",
      "Requirement already satisfied: jupyter-server-terminals in /Users/christosziakas/.pyenv/versions/3.9.7/lib/python3.9/site-packages (from jupyter-server<3,>=2.4.0->notebook->jupyter<2.0.0,>=1.0.0->backbone-learn) (0.4.4)\n",
      "Requirement already satisfied: websocket-client in /Users/christosziakas/.pyenv/versions/3.9.7/lib/python3.9/site-packages (from jupyter-server<3,>=2.4.0->notebook->jupyter<2.0.0,>=1.0.0->backbone-learn) (1.6.4)\n",
      "Requirement already satisfied: terminado>=0.8.3 in /Users/christosziakas/.pyenv/versions/3.9.7/lib/python3.9/site-packages (from jupyter-server<3,>=2.4.0->notebook->jupyter<2.0.0,>=1.0.0->backbone-learn) (0.18.0)\n",
      "Requirement already satisfied: anyio>=3.1.0 in /Users/christosziakas/.pyenv/versions/3.9.7/lib/python3.9/site-packages (from jupyter-server<3,>=2.4.0->notebook->jupyter<2.0.0,>=1.0.0->backbone-learn) (4.0.0)\n",
      "Requirement already satisfied: jupyter-events>=0.9.0 in /Users/christosziakas/.pyenv/versions/3.9.7/lib/python3.9/site-packages (from jupyter-server<3,>=2.4.0->notebook->jupyter<2.0.0,>=1.0.0->backbone-learn) (0.9.0)\n",
      "Requirement already satisfied: overrides in /Users/christosziakas/.pyenv/versions/3.9.7/lib/python3.9/site-packages (from jupyter-server<3,>=2.4.0->notebook->jupyter<2.0.0,>=1.0.0->backbone-learn) (7.4.0)\n",
      "Requirement already satisfied: send2trash>=1.8.2 in /Users/christosziakas/.pyenv/versions/3.9.7/lib/python3.9/site-packages (from jupyter-server<3,>=2.4.0->notebook->jupyter<2.0.0,>=1.0.0->backbone-learn) (1.8.2)\n",
      "Requirement already satisfied: prometheus-client in /Users/christosziakas/.pyenv/versions/3.9.7/lib/python3.9/site-packages (from jupyter-server<3,>=2.4.0->notebook->jupyter<2.0.0,>=1.0.0->backbone-learn) (0.18.0)\n",
      "Requirement already satisfied: sniffio>=1.1 in /Users/christosziakas/.pyenv/versions/3.9.7/lib/python3.9/site-packages (from anyio>=3.1.0->jupyter-server<3,>=2.4.0->notebook->jupyter<2.0.0,>=1.0.0->backbone-learn) (1.3.0)\n",
      "Requirement already satisfied: idna>=2.8 in /Users/christosziakas/.pyenv/versions/3.9.7/lib/python3.9/site-packages (from anyio>=3.1.0->jupyter-server<3,>=2.4.0->notebook->jupyter<2.0.0,>=1.0.0->backbone-learn) (3.4)\n",
      "Requirement already satisfied: python-json-logger>=2.0.4 in /Users/christosziakas/.pyenv/versions/3.9.7/lib/python3.9/site-packages (from jupyter-events>=0.9.0->jupyter-server<3,>=2.4.0->notebook->jupyter<2.0.0,>=1.0.0->backbone-learn) (2.0.7)\n",
      "Requirement already satisfied: rfc3339-validator in /Users/christosziakas/.pyenv/versions/3.9.7/lib/python3.9/site-packages (from jupyter-events>=0.9.0->jupyter-server<3,>=2.4.0->notebook->jupyter<2.0.0,>=1.0.0->backbone-learn) (0.1.4)\n",
      "Requirement already satisfied: rfc3986-validator>=0.1.1 in /Users/christosziakas/.pyenv/versions/3.9.7/lib/python3.9/site-packages (from jupyter-events>=0.9.0->jupyter-server<3,>=2.4.0->notebook->jupyter<2.0.0,>=1.0.0->backbone-learn) (0.1.1)\n",
      "Requirement already satisfied: fqdn in /Users/christosziakas/.pyenv/versions/3.9.7/lib/python3.9/site-packages (from jsonschema>=2.6->nbformat>=5.7->nbconvert->jupyter<2.0.0,>=1.0.0->backbone-learn) (1.5.1)\n",
      "Requirement already satisfied: webcolors>=1.11 in /Users/christosziakas/.pyenv/versions/3.9.7/lib/python3.9/site-packages (from jsonschema>=2.6->nbformat>=5.7->nbconvert->jupyter<2.0.0,>=1.0.0->backbone-learn) (1.13)\n",
      "Requirement already satisfied: jsonpointer>1.13 in /Users/christosziakas/.pyenv/versions/3.9.7/lib/python3.9/site-packages (from jsonschema>=2.6->nbformat>=5.7->nbconvert->jupyter<2.0.0,>=1.0.0->backbone-learn) (2.4)\n",
      "Requirement already satisfied: isoduration in /Users/christosziakas/.pyenv/versions/3.9.7/lib/python3.9/site-packages (from jsonschema>=2.6->nbformat>=5.7->nbconvert->jupyter<2.0.0,>=1.0.0->backbone-learn) (20.11.0)\n",
      "Requirement already satisfied: uri-template in /Users/christosziakas/.pyenv/versions/3.9.7/lib/python3.9/site-packages (from jsonschema>=2.6->nbformat>=5.7->nbconvert->jupyter<2.0.0,>=1.0.0->backbone-learn) (1.3.0)\n",
      "Requirement already satisfied: async-lru>=1.0.0 in /Users/christosziakas/.pyenv/versions/3.9.7/lib/python3.9/site-packages (from jupyterlab<5,>=4.0.2->notebook->jupyter<2.0.0,>=1.0.0->backbone-learn) (2.0.4)\n",
      "Requirement already satisfied: jupyter-lsp>=2.0.0 in /Users/christosziakas/.pyenv/versions/3.9.7/lib/python3.9/site-packages (from jupyterlab<5,>=4.0.2->notebook->jupyter<2.0.0,>=1.0.0->backbone-learn) (2.2.0)\n",
      "Requirement already satisfied: requests>=2.31 in /Users/christosziakas/.pyenv/versions/3.9.7/lib/python3.9/site-packages (from jupyterlab-server<3,>=2.22.1->notebook->jupyter<2.0.0,>=1.0.0->backbone-learn) (2.31.0)\n",
      "Requirement already satisfied: json5>=0.9.0 in /Users/christosziakas/.pyenv/versions/3.9.7/lib/python3.9/site-packages (from jupyterlab-server<3,>=2.22.1->notebook->jupyter<2.0.0,>=1.0.0->backbone-learn) (0.9.14)\n",
      "Requirement already satisfied: babel>=2.10 in /Users/christosziakas/.pyenv/versions/3.9.7/lib/python3.9/site-packages (from jupyterlab-server<3,>=2.22.1->notebook->jupyter<2.0.0,>=1.0.0->backbone-learn) (2.13.1)\n",
      "Requirement already satisfied: charset-normalizer<4,>=2 in /Users/christosziakas/.pyenv/versions/3.9.7/lib/python3.9/site-packages (from requests>=2.31->jupyterlab-server<3,>=2.22.1->notebook->jupyter<2.0.0,>=1.0.0->backbone-learn) (3.3.2)\n",
      "Requirement already satisfied: certifi>=2017.4.17 in /Users/christosziakas/.pyenv/versions/3.9.7/lib/python3.9/site-packages (from requests>=2.31->jupyterlab-server<3,>=2.22.1->notebook->jupyter<2.0.0,>=1.0.0->backbone-learn) (2023.11.17)\n",
      "Requirement already satisfied: urllib3<3,>=1.21.1 in /Users/christosziakas/.pyenv/versions/3.9.7/lib/python3.9/site-packages (from requests>=2.31->jupyterlab-server<3,>=2.22.1->notebook->jupyter<2.0.0,>=1.0.0->backbone-learn) (2.1.0)\n",
      "Requirement already satisfied: argon2-cffi-bindings in /Users/christosziakas/.pyenv/versions/3.9.7/lib/python3.9/site-packages (from argon2-cffi->jupyter-server<3,>=2.4.0->notebook->jupyter<2.0.0,>=1.0.0->backbone-learn) (21.2.0)\n",
      "Requirement already satisfied: cffi>=1.0.1 in /Users/christosziakas/.pyenv/versions/3.9.7/lib/python3.9/site-packages (from argon2-cffi-bindings->argon2-cffi->jupyter-server<3,>=2.4.0->notebook->jupyter<2.0.0,>=1.0.0->backbone-learn) (1.16.0)\n",
      "Requirement already satisfied: pycparser in /Users/christosziakas/.pyenv/versions/3.9.7/lib/python3.9/site-packages (from cffi>=1.0.1->argon2-cffi-bindings->argon2-cffi->jupyter-server<3,>=2.4.0->notebook->jupyter<2.0.0,>=1.0.0->backbone-learn) (2.21)\n",
      "Requirement already satisfied: arrow>=0.15.0 in /Users/christosziakas/.pyenv/versions/3.9.7/lib/python3.9/site-packages (from isoduration->jsonschema>=2.6->nbformat>=5.7->nbconvert->jupyter<2.0.0,>=1.0.0->backbone-learn) (1.3.0)\n",
      "Requirement already satisfied: types-python-dateutil>=2.8.10 in /Users/christosziakas/.pyenv/versions/3.9.7/lib/python3.9/site-packages (from arrow>=0.15.0->isoduration->jsonschema>=2.6->nbformat>=5.7->nbconvert->jupyter<2.0.0,>=1.0.0->backbone-learn) (2.8.19.14)\n",
      "Requirement already satisfied: qtpy>=2.4.0 in /Users/christosziakas/.pyenv/versions/3.9.7/lib/python3.9/site-packages (from qtconsole->jupyter<2.0.0,>=1.0.0->backbone-learn) (2.4.1)\n",
      "Requirement already satisfied: executing>=1.2.0 in /Users/christosziakas/.pyenv/versions/3.9.7/lib/python3.9/site-packages (from stack-data->ipython>=7.23.1->ipykernel<7.0.0,>=6.26.0->backbone-learn) (2.0.1)\n",
      "Requirement already satisfied: asttokens>=2.1.0 in /Users/christosziakas/.pyenv/versions/3.9.7/lib/python3.9/site-packages (from stack-data->ipython>=7.23.1->ipykernel<7.0.0,>=6.26.0->backbone-learn) (2.4.1)\n",
      "Requirement already satisfied: pure-eval in /Users/christosziakas/.pyenv/versions/3.9.7/lib/python3.9/site-packages (from stack-data->ipython>=7.23.1->ipykernel<7.0.0,>=6.26.0->backbone-learn) (0.2.2)\n",
      "\u001b[33mWARNING: You are using pip version 21.2.3; however, version 23.3.1 is available.\n",
      "You should consider upgrading via the '/Users/christosziakas/.pyenv/versions/3.9.7/bin/python3.9 -m pip install --upgrade pip' command.\u001b[0m\n",
      "Collecting odtlearn\n",
      "  Cloning https://github.com/D3M-Research-Group/odtlearn.git to /private/var/folders/3s/fj6w40551rx8ls24_r7pp17m0000gp/T/pip-install-pws5u0v2/odtlearn_bac0027ab26b46b8abdb0d031ea33d3c\n",
      "  Running command git clone -q https://github.com/D3M-Research-Group/odtlearn.git /private/var/folders/3s/fj6w40551rx8ls24_r7pp17m0000gp/T/pip-install-pws5u0v2/odtlearn_bac0027ab26b46b8abdb0d031ea33d3c\n",
      "  Resolved https://github.com/D3M-Research-Group/odtlearn.git to commit 5c743a3ab4a19dda123b84626fcef83913f530fe\n",
      "  Installing build dependencies ... \u001b[?25l"
     ]
    }
   ],
   "source": [
    "!pip install backbone-learn\n",
    "!pip install git+https://github.com/D3M-Research-Group/odtlearn.git#egg=odtlearn"
   ]
  },
  {
   "cell_type": "code",
   "execution_count": null,
   "metadata": {},
   "outputs": [
    {
     "name": "stdout",
     "output_type": "stream",
     "text": [
      "DYLD_LIBRARY_PATH: /Users/christosziakas/CBC/dist/lib\n",
      "PMIP_CBC_LIBRARY: /Users/christosziakas/CBC/dist/lib/libCbc.dylib\n"
     ]
    }
   ],
   "source": [
    "import os\n",
    "# Manually replace '~' with your actual home directory path\n",
    "home_directory = os.path.expanduser('~')\n",
    "os.environ['DYLD_LIBRARY_PATH'] = os.path.join(home_directory, 'CBC/dist/lib')\n",
    "os.environ['PMIP_CBC_LIBRARY'] = os.path.join(home_directory, 'CBC/dist/lib/libCbc.dylib')\n",
    "\n",
    "# Verify if the environment variables are set\n",
    "print(f\"DYLD_LIBRARY_PATH: {os.environ.get('DYLD_LIBRARY_PATH')}\")\n",
    "print(f\"PMIP_CBC_LIBRARY: {os.environ.get('PMIP_CBC_LIBRARY')}\")"
   ]
  },
  {
   "attachments": {},
   "cell_type": "markdown",
   "metadata": {},
   "source": [
    "### Load libraries"
   ]
  },
  {
   "cell_type": "code",
   "execution_count": null,
   "metadata": {},
   "outputs": [],
   "source": [
    "from sklearn.datasets import make_classification\n",
    "from backbone_learn.backbone.backbone_decision_tree import BackboneDecisionTree"
   ]
  },
  {
   "attachments": {},
   "cell_type": "markdown",
   "metadata": {},
   "source": [
    "### Generate synthetic data\n",
    "Note: FlowOCT supports only binary features. Follow the instructions described in ReadMe to replace the FlowOCT exact solver with your custom one in case you want to support continuous features.\n"
   ]
  },
  {
   "cell_type": "code",
   "execution_count": null,
   "metadata": {},
   "outputs": [],
   "source": [
    "# Generate synhetic data\n",
    "X, y = make_classification(n_samples=1000, n_features=50, n_classes=2, random_state=42)\n"
   ]
  },
  {
   "cell_type": "code",
   "execution_count": null,
   "metadata": {},
   "outputs": [
    {
     "name": "stderr",
     "output_type": "stream",
     "text": [
      "2023-11-19 04:20:48,312 - INFO - Screen selection started.\n",
      "2023-11-19 04:20:48,315 - INFO - Number of variables included in the heuristic solver: 25\n",
      "2023-11-19 04:20:48,315 - INFO - Backbone construction with heuristic solver started for iterations:1, subproblems:5 , and beta:0.5\n",
      "2023-11-19 04:20:48,316 - INFO - Iteration 1 started.\n"
     ]
    },
    {
     "name": "stdout",
     "output_type": "stream",
     "text": [
      "Fitting 5 folds for each of 12 candidates, totalling 60 fits\n",
      "Fitting 5 folds for each of 12 candidates, totalling 60 fits\n",
      "Fitting 5 folds for each of 12 candidates, totalling 60 fits\n",
      "Fitting 5 folds for each of 12 candidates, totalling 60 fits\n",
      "Fitting 5 folds for each of 12 candidates, totalling 60 fits\n"
     ]
    },
    {
     "name": "stderr",
     "output_type": "stream",
     "text": [
      "2023-11-19 04:20:49,949 - INFO - Iteration 1 completed.\n",
      "2023-11-19 04:20:49,950 - INFO - Backbone set idx: [ 2  3  4  9 10 11 12 13 15 16 18 20 21 35 37 38 42 43 44 47 49]\n",
      "2023-11-19 04:20:49,950 - INFO - Number of variables included in the exact solver: 21\n"
     ]
    },
    {
     "name": "stdout",
     "output_type": "stream",
     "text": [
      "Cbc0045I May be able to increase cutoff increment to 0.0999 - but we have lazy constraints\n",
      "Cbc0031I 15 added rows had average density of 66.866667\n",
      "Cbc0013I At root node, 15 cuts changed objective from 900 to 899.77386 in 10 passes\n",
      "Cbc0014I Cut generator 0 (LazyConstraints) - 2499 row cuts average 22.9 elements, 0 column cuts (0 active)  in 0.428 seconds - new frequency is 1\n",
      "Cbc0014I Cut generator 1 (Probing) - 0 row cuts average 0.0 elements, 0 column cuts (0 active)  in 0.005 seconds - new frequency is -100\n",
      "Cbc0014I Cut generator 2 (Gomory) - 128 row cuts average 106.4 elements, 0 column cuts (0 active)  in 0.002 seconds - new frequency is -100\n",
      "Cbc0014I Cut generator 3 (Knapsack) - 0 row cuts average 0.0 elements, 0 column cuts (0 active)  in 0.003 seconds - new frequency is -100\n",
      "Cbc0014I Cut generator 4 (MixedIntegerRounding2) - 0 row cuts average 0.0 elements, 0 column cuts (0 active)  in 0.001 seconds - new frequency is -100\n",
      "Cbc0014I Cut generator 7 (ZeroHalf) - 0 row cuts average 0.0 elements, 0 column cuts (0 active)  in 0.013 seconds - new frequency is -100\n",
      "Cbc0010I After 0 nodes, 1 on tree, -1e+50 best solution, best possible 899.77386 (0.54 seconds)\n",
      "Cbc0010I After 1 nodes, 2 on tree, -1e+50 best solution, best possible 899.77386 (1.45 seconds)\n",
      "Cbc0010I After 2 nodes, 3 on tree, -1e+50 best solution, best possible 899.77386 (2.55 seconds)\n",
      "Cbc0010I After 3 nodes, 4 on tree, -1e+50 best solution, best possible 899.77386 (3.80 seconds)\n",
      "Cbc0010I After 4 nodes, 5 on tree, -1e+50 best solution, best possible 899.77386 (5.34 seconds)\n",
      "Cbc0010I After 5 nodes, 6 on tree, -1e+50 best solution, best possible 899.77386 (7.50 seconds)\n",
      "Cbc0010I After 6 nodes, 7 on tree, -1e+50 best solution, best possible 899.77386 (9.60 seconds)\n",
      "Cbc0010I After 7 nodes, 8 on tree, -1e+50 best solution, best possible 899.77386 (10.43 seconds)\n",
      "Cbc0010I After 9 nodes, 10 on tree, -1e+50 best solution, best possible 899.77386 (12.68 seconds)\n",
      "Cbc0010I After 10 nodes, 11 on tree, -1e+50 best solution, best possible 899.77386 (14.28 seconds)\n",
      "Cbc0010I After 11 nodes, 12 on tree, -1e+50 best solution, best possible 899.77386 (15.72 seconds)\n",
      "Cbc0010I After 12 nodes, 13 on tree, -1e+50 best solution, best possible 899.77386 (17.95 seconds)\n",
      "Cbc0010I After 13 nodes, 14 on tree, -1e+50 best solution, best possible 899.77386 (19.08 seconds)\n",
      "Cbc0010I After 14 nodes, 15 on tree, -1e+50 best solution, best possible 899.77386 (19.86 seconds)\n",
      "Cbc0010I After 16 nodes, 17 on tree, -1e+50 best solution, best possible 899.77386 (20.68 seconds)\n",
      "Cbc0010I After 18 nodes, 19 on tree, -1e+50 best solution, best possible 899.77386 (21.43 seconds)\n",
      "Cbc0010I After 20 nodes, 21 on tree, -1e+50 best solution, best possible 899.77386 (22.18 seconds)\n",
      "Cbc0010I After 23 nodes, 24 on tree, -1e+50 best solution, best possible 899.77386 (23.20 seconds)\n",
      "Cbc0010I After 26 nodes, 27 on tree, -1e+50 best solution, best possible 899.77386 (24.19 seconds)\n",
      "Cbc0010I After 28 nodes, 29 on tree, -1e+50 best solution, best possible 899.77386 (24.90 seconds)\n",
      "Cbc0010I After 31 nodes, 32 on tree, -1e+50 best solution, best possible 899.77386 (25.89 seconds)\n",
      "Cbc0010I After 33 nodes, 34 on tree, -1e+50 best solution, best possible 899.77386 (27.09 seconds)\n",
      "Cbc0010I After 35 nodes, 36 on tree, -1e+50 best solution, best possible 899.77386 (28.06 seconds)\n",
      "Cbc0010I After 37 nodes, 38 on tree, -1e+50 best solution, best possible 899.77386 (29.05 seconds)\n",
      "Cbc0010I After 39 nodes, 40 on tree, -1e+50 best solution, best possible 899.77386 (30.02 seconds)\n",
      "Cbc0010I After 41 nodes, 42 on tree, -1e+50 best solution, best possible 899.77386 (30.78 seconds)\n",
      "Cbc0010I After 46 nodes, 47 on tree, -1e+50 best solution, best possible 899.77386 (31.60 seconds)\n",
      "Cbc0010I After 51 nodes, 52 on tree, -1e+50 best solution, best possible 899.77386 (32.44 seconds)\n",
      "Cbc0010I After 54 nodes, 55 on tree, -1e+50 best solution, best possible 899.77386 (33.24 seconds)\n",
      "Cbc0010I After 57 nodes, 58 on tree, -1e+50 best solution, best possible 899.77386 (34.08 seconds)\n",
      "Cbc0010I After 60 nodes, 61 on tree, -1e+50 best solution, best possible 899.77386 (35.10 seconds)\n",
      "Cbc0010I After 64 nodes, 65 on tree, -1e+50 best solution, best possible 899.77386 (35.93 seconds)\n",
      "Cbc0010I After 69 nodes, 70 on tree, -1e+50 best solution, best possible 899.77386 (36.75 seconds)\n",
      "Cbc0010I After 74 nodes, 75 on tree, -1e+50 best solution, best possible 899.77386 (37.57 seconds)\n",
      "Cbc0010I After 78 nodes, 79 on tree, -1e+50 best solution, best possible 899.77386 (38.94 seconds)\n",
      "Cbc0010I After 80 nodes, 80 on tree, -1e+50 best solution, best possible 899.77386 (40.53 seconds)\n",
      "Cbc0010I After 81 nodes, 80 on tree, -1e+50 best solution, best possible 899.77386 (42.28 seconds)\n",
      "Cbc0010I After 86 nodes, 83 on tree, -1e+50 best solution, best possible 899.77386 (44.07 seconds)\n",
      "Cbc0010I After 88 nodes, 83 on tree, -1e+50 best solution, best possible 899.77386 (45.93 seconds)\n",
      "Cbc0010I After 89 nodes, 84 on tree, -1e+50 best solution, best possible 899.77386 (47.30 seconds)\n",
      "Cbc0010I After 90 nodes, 84 on tree, -1e+50 best solution, best possible 899.77386 (48.19 seconds)\n",
      "Cbc0010I After 92 nodes, 85 on tree, -1e+50 best solution, best possible 899.77386 (49.62 seconds)\n",
      "Cbc0010I After 94 nodes, 86 on tree, -1e+50 best solution, best possible 899.77386 (50.73 seconds)\n",
      "Cbc0010I After 95 nodes, 86 on tree, -1e+50 best solution, best possible 899.77386 (51.84 seconds)\n",
      "Cbc0010I After 96 nodes, 87 on tree, -1e+50 best solution, best possible 899.77386 (53.18 seconds)\n",
      "Cbc0010I After 97 nodes, 87 on tree, -1e+50 best solution, best possible 899.77386 (53.95 seconds)\n",
      "Cbc0010I After 99 nodes, 88 on tree, -1e+50 best solution, best possible 899.77386 (55.39 seconds)\n",
      "Cbc0010I After 100 nodes, 89 on tree, -1e+50 best solution, best possible 899.77386 (56.22 seconds)\n",
      "Cbc0004I Integer solution of 598.2 found after 656 iterations and 101 nodes (56.75 seconds)\n",
      "Cbc0010I After 102 nodes, 86 on tree, 598.2 best solution, best possible 899.77386 (56.92 seconds)\n",
      "Cbc0010I After 107 nodes, 86 on tree, 598.2 best solution, best possible 899.77386 (57.77 seconds)\n",
      "Cbc0010I After 112 nodes, 86 on tree, 598.2 best solution, best possible 899.77386 (58.62 seconds)\n",
      "Cbc0010I After 117 nodes, 86 on tree, 598.2 best solution, best possible 899.77386 (59.48 seconds)\n",
      "Cbc0010I After 120 nodes, 86 on tree, 598.2 best solution, best possible 899.77386 (60.31 seconds)\n",
      "Cbc0010I After 124 nodes, 89 on tree, 598.2 best solution, best possible 899.77386 (61.01 seconds)\n",
      "Cbc0010I After 128 nodes, 89 on tree, 598.2 best solution, best possible 899.77386 (61.72 seconds)\n",
      "Cbc0010I After 131 nodes, 90 on tree, 598.2 best solution, best possible 899.77386 (62.59 seconds)\n",
      "Cbc0010I After 133 nodes, 90 on tree, 598.2 best solution, best possible 899.77386 (63.63 seconds)\n",
      "Cbc0010I After 136 nodes, 91 on tree, 598.2 best solution, best possible 899.77386 (64.40 seconds)\n",
      "Cbc0010I After 139 nodes, 92 on tree, 598.2 best solution, best possible 899.77386 (65.18 seconds)\n",
      "Cbc0010I After 142 nodes, 93 on tree, 598.2 best solution, best possible 899.77386 (65.89 seconds)\n",
      "Cbc0010I After 148 nodes, 96 on tree, 598.2 best solution, best possible 899.77386 (66.80 seconds)\n",
      "Cbc0010I After 152 nodes, 97 on tree, 598.2 best solution, best possible 899.77386 (67.66 seconds)\n",
      "Cbc0010I After 154 nodes, 98 on tree, 598.2 best solution, best possible 899.77386 (68.49 seconds)\n",
      "Cbc0010I After 156 nodes, 97 on tree, 598.2 best solution, best possible 899.77386 (69.24 seconds)\n",
      "Cbc0010I After 160 nodes, 97 on tree, 598.2 best solution, best possible 899.77386 (69.98 seconds)\n",
      "Cbc0010I After 163 nodes, 98 on tree, 598.2 best solution, best possible 899.77386 (70.99 seconds)\n",
      "Cbc0010I After 168 nodes, 99 on tree, 598.2 best solution, best possible 899.77386 (71.87 seconds)\n",
      "Cbc0010I After 172 nodes, 99 on tree, 598.2 best solution, best possible 899.77386 (72.62 seconds)\n",
      "Cbc0010I After 176 nodes, 99 on tree, 598.2 best solution, best possible 899.77386 (73.41 seconds)\n",
      "Cbc0010I After 180 nodes, 99 on tree, 598.2 best solution, best possible 899.77386 (74.18 seconds)\n",
      "Cbc0010I After 182 nodes, 100 on tree, 598.2 best solution, best possible 899.77386 (75.56 seconds)\n",
      "Cbc0010I After 185 nodes, 101 on tree, 598.2 best solution, best possible 899.77386 (76.32 seconds)\n",
      "Cbc0010I After 189 nodes, 102 on tree, 598.2 best solution, best possible 899.77386 (77.09 seconds)\n",
      "Cbc0010I After 193 nodes, 103 on tree, 598.2 best solution, best possible 899.77386 (77.89 seconds)\n",
      "Cbc0010I After 197 nodes, 105 on tree, 598.2 best solution, best possible 899.77386 (78.68 seconds)\n",
      "Cbc0010I After 200 nodes, 105 on tree, 598.2 best solution, best possible 899.77386 (79.68 seconds)\n",
      "Cbc0010I After 201 nodes, 106 on tree, 598.2 best solution, best possible 899.77386 (80.52 seconds)\n",
      "Cbc0010I After 202 nodes, 105 on tree, 598.2 best solution, best possible 899.77386 (81.22 seconds)\n",
      "Cbc0010I After 206 nodes, 106 on tree, 598.2 best solution, best possible 899.77386 (81.96 seconds)\n",
      "Cbc0010I After 210 nodes, 108 on tree, 598.2 best solution, best possible 899.77386 (82.83 seconds)\n",
      "Cbc0010I After 214 nodes, 109 on tree, 598.2 best solution, best possible 899.77386 (83.63 seconds)\n",
      "Cbc0010I After 218 nodes, 110 on tree, 598.2 best solution, best possible 899.77386 (84.42 seconds)\n",
      "Cbc0010I After 222 nodes, 112 on tree, 598.2 best solution, best possible 899.77386 (85.25 seconds)\n",
      "Cbc0010I After 226 nodes, 113 on tree, 598.2 best solution, best possible 899.77386 (86.01 seconds)\n",
      "Cbc0010I After 230 nodes, 114 on tree, 598.2 best solution, best possible 899.77386 (86.78 seconds)\n",
      "Cbc0010I After 233 nodes, 116 on tree, 598.2 best solution, best possible 899.77386 (87.85 seconds)\n",
      "Cbc0010I After 237 nodes, 117 on tree, 598.2 best solution, best possible 899.77386 (88.65 seconds)\n",
      "Cbc0010I After 239 nodes, 118 on tree, 598.2 best solution, best possible 899.77386 (89.53 seconds)\n",
      "Cbc0010I After 243 nodes, 119 on tree, 598.2 best solution, best possible 899.77386 (90.28 seconds)\n",
      "Cbc0010I After 247 nodes, 121 on tree, 598.2 best solution, best possible 899.77386 (91.06 seconds)\n",
      "Cbc0010I After 251 nodes, 123 on tree, 598.2 best solution, best possible 899.77386 (92.18 seconds)\n",
      "Cbc0010I After 254 nodes, 124 on tree, 598.2 best solution, best possible 899.77386 (93.10 seconds)\n",
      "Cbc0010I After 258 nodes, 127 on tree, 598.2 best solution, best possible 899.77386 (94.15 seconds)\n",
      "Cbc0010I After 260 nodes, 128 on tree, 598.2 best solution, best possible 899.77386 (94.95 seconds)\n",
      "Cbc0010I After 262 nodes, 129 on tree, 598.2 best solution, best possible 899.77386 (96.27 seconds)\n",
      "Cbc0010I After 264 nodes, 129 on tree, 598.2 best solution, best possible 899.77386 (97.63 seconds)\n",
      "Cbc0010I After 266 nodes, 130 on tree, 598.2 best solution, best possible 899.77386 (98.49 seconds)\n",
      "Cbc0010I After 270 nodes, 134 on tree, 598.2 best solution, best possible 899.77386 (99.28 seconds)\n"
     ]
    },
    {
     "name": "stderr",
     "output_type": "stream",
     "text": [
      "2023-11-19 04:22:30,184 - INFO - Exact problem solved.\n"
     ]
    },
    {
     "name": "stdout",
     "output_type": "stream",
     "text": [
      "Cbc0020I Exiting on maximum time\n",
      "Cbc0005I Partial search - best objective 598.2 (best possible 899.77386), took 1608 iterations and 272 nodes (100.14 seconds)\n",
      "Cbc0032I Strong branching done 932 times (11954 iterations), fathomed 0 nodes and fixed 0 variables\n",
      "Cbc0035I Maximum depth 81, 0 variables fixed on reduced cost\n"
     ]
    }
   ],
   "source": [
    "# Run backbone for decision tress\n",
    "backbone = BackboneDecisionTree(alpha=0.5, beta=0.5, num_subproblems=5, num_iterations=1, depth=3, time_limit=100, _lambda=0.1, num_threads=None, obj_mode=\"acc\")\n",
    "backbone.fit(X, y)"
   ]
  },
  {
   "cell_type": "code",
   "execution_count": null,
   "metadata": {},
   "outputs": [],
   "source": [
    "y_pred = backbone.predict(X)"
   ]
  }
 ],
 "metadata": {
  "kernelspec": {
   "display_name": "backbone-XyLFsdvc-py3.9",
   "language": "python",
   "name": "python3"
  },
  "language_info": {
   "codemirror_mode": {
    "name": "ipython",
    "version": 3
   },
   "file_extension": ".py",
   "mimetype": "text/x-python",
   "name": "python",
   "nbconvert_exporter": "python",
   "pygments_lexer": "ipython3",
   "version": "3.9.7"
  },
  "orig_nbformat": 4
 },
 "nbformat": 4,
 "nbformat_minor": 2
}
