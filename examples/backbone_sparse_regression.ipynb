{
 "cells": [
  {
   "cell_type": "code",
   "execution_count": 2,
   "metadata": {},
   "outputs": [
    {
     "name": "stdout",
     "output_type": "stream",
     "text": [
      "Requirement already satisfied: backbone-learn in /Users/christosziakas/.pyenv/versions/3.9.7/lib/python3.9/site-packages (0.1.0)\n",
      "Requirement already satisfied: pulp<3.0.0,>=2.7.0 in /Users/christosziakas/.pyenv/versions/3.9.7/lib/python3.9/site-packages (from backbone-learn) (2.7.0)\n",
      "Requirement already satisfied: l0bnb<2.0.0,>=1.0.0 in /Users/christosziakas/.pyenv/versions/3.9.7/lib/python3.9/site-packages (from backbone-learn) (1.0.0)\n",
      "Requirement already satisfied: pytest<8.0.0,>=7.4.3 in /Users/christosziakas/.pyenv/versions/3.9.7/lib/python3.9/site-packages (from backbone-learn) (7.4.3)\n",
      "Requirement already satisfied: pre-commit<4.0.0,>=3.5.0 in /Users/christosziakas/.pyenv/versions/3.9.7/lib/python3.9/site-packages (from backbone-learn) (3.5.0)\n",
      "Requirement already satisfied: ipykernel<7.0.0,>=6.26.0 in /Users/christosziakas/.pyenv/versions/3.9.7/lib/python3.9/site-packages (from backbone-learn) (6.26.0)\n",
      "Requirement already satisfied: scikit-learn<2.0.0,>=1.3.2 in /Users/christosziakas/.pyenv/versions/3.9.7/lib/python3.9/site-packages (from backbone-learn) (1.3.2)\n",
      "Requirement already satisfied: numpy<2.0.0,>=1.26.1 in /Users/christosziakas/.pyenv/versions/3.9.7/lib/python3.9/site-packages (from backbone-learn) (1.26.2)\n",
      "Requirement already satisfied: jupyter<2.0.0,>=1.0.0 in /Users/christosziakas/.pyenv/versions/3.9.7/lib/python3.9/site-packages (from backbone-learn) (1.0.0)\n",
      "Requirement already satisfied: seaborn<0.14.0,>=0.13.0 in /Users/christosziakas/.pyenv/versions/3.9.7/lib/python3.9/site-packages (from backbone-learn) (0.13.0)\n",
      "Requirement already satisfied: jupyter-core!=5.0.*,>=4.12 in /Users/christosziakas/.pyenv/versions/3.9.7/lib/python3.9/site-packages (from ipykernel<7.0.0,>=6.26.0->backbone-learn) (5.3.1)\n",
      "Requirement already satisfied: tornado>=6.1 in /Users/christosziakas/.pyenv/versions/3.9.7/lib/python3.9/site-packages (from ipykernel<7.0.0,>=6.26.0->backbone-learn) (6.3.2)\n",
      "Requirement already satisfied: debugpy>=1.6.5 in /Users/christosziakas/.pyenv/versions/3.9.7/lib/python3.9/site-packages (from ipykernel<7.0.0,>=6.26.0->backbone-learn) (1.6.7)\n",
      "Requirement already satisfied: traitlets>=5.4.0 in /Users/christosziakas/.pyenv/versions/3.9.7/lib/python3.9/site-packages (from ipykernel<7.0.0,>=6.26.0->backbone-learn) (5.9.0)\n",
      "Requirement already satisfied: ipython>=7.23.1 in /Users/christosziakas/.pyenv/versions/3.9.7/lib/python3.9/site-packages (from ipykernel<7.0.0,>=6.26.0->backbone-learn) (8.14.0)\n",
      "Requirement already satisfied: appnope in /Users/christosziakas/.pyenv/versions/3.9.7/lib/python3.9/site-packages (from ipykernel<7.0.0,>=6.26.0->backbone-learn) (0.1.3)\n",
      "Requirement already satisfied: comm>=0.1.1 in /Users/christosziakas/.pyenv/versions/3.9.7/lib/python3.9/site-packages (from ipykernel<7.0.0,>=6.26.0->backbone-learn) (0.1.3)\n",
      "Requirement already satisfied: packaging in /Users/christosziakas/.pyenv/versions/3.9.7/lib/python3.9/site-packages (from ipykernel<7.0.0,>=6.26.0->backbone-learn) (23.1)\n",
      "Requirement already satisfied: matplotlib-inline>=0.1 in /Users/christosziakas/.pyenv/versions/3.9.7/lib/python3.9/site-packages (from ipykernel<7.0.0,>=6.26.0->backbone-learn) (0.1.6)\n",
      "Requirement already satisfied: psutil in /Users/christosziakas/.pyenv/versions/3.9.7/lib/python3.9/site-packages (from ipykernel<7.0.0,>=6.26.0->backbone-learn) (5.9.5)\n",
      "Requirement already satisfied: pyzmq>=20 in /Users/christosziakas/.pyenv/versions/3.9.7/lib/python3.9/site-packages (from ipykernel<7.0.0,>=6.26.0->backbone-learn) (25.1.0)\n",
      "Requirement already satisfied: jupyter-client>=6.1.12 in /Users/christosziakas/.pyenv/versions/3.9.7/lib/python3.9/site-packages (from ipykernel<7.0.0,>=6.26.0->backbone-learn) (8.3.0)\n",
      "Requirement already satisfied: nest-asyncio in /Users/christosziakas/.pyenv/versions/3.9.7/lib/python3.9/site-packages (from ipykernel<7.0.0,>=6.26.0->backbone-learn) (1.5.6)\n",
      "Requirement already satisfied: pexpect>4.3 in /Users/christosziakas/.pyenv/versions/3.9.7/lib/python3.9/site-packages (from ipython>=7.23.1->ipykernel<7.0.0,>=6.26.0->backbone-learn) (4.8.0)\n",
      "Requirement already satisfied: backcall in /Users/christosziakas/.pyenv/versions/3.9.7/lib/python3.9/site-packages (from ipython>=7.23.1->ipykernel<7.0.0,>=6.26.0->backbone-learn) (0.2.0)\n",
      "Requirement already satisfied: jedi>=0.16 in /Users/christosziakas/.pyenv/versions/3.9.7/lib/python3.9/site-packages (from ipython>=7.23.1->ipykernel<7.0.0,>=6.26.0->backbone-learn) (0.18.2)\n",
      "Requirement already satisfied: typing-extensions in /Users/christosziakas/.pyenv/versions/3.9.7/lib/python3.9/site-packages (from ipython>=7.23.1->ipykernel<7.0.0,>=6.26.0->backbone-learn) (4.6.3)\n",
      "Requirement already satisfied: prompt-toolkit!=3.0.37,<3.1.0,>=3.0.30 in /Users/christosziakas/.pyenv/versions/3.9.7/lib/python3.9/site-packages (from ipython>=7.23.1->ipykernel<7.0.0,>=6.26.0->backbone-learn) (3.0.38)\n",
      "Requirement already satisfied: pickleshare in /Users/christosziakas/.pyenv/versions/3.9.7/lib/python3.9/site-packages (from ipython>=7.23.1->ipykernel<7.0.0,>=6.26.0->backbone-learn) (0.7.5)\n",
      "Requirement already satisfied: stack-data in /Users/christosziakas/.pyenv/versions/3.9.7/lib/python3.9/site-packages (from ipython>=7.23.1->ipykernel<7.0.0,>=6.26.0->backbone-learn) (0.6.2)\n",
      "Requirement already satisfied: decorator in /Users/christosziakas/.pyenv/versions/3.9.7/lib/python3.9/site-packages (from ipython>=7.23.1->ipykernel<7.0.0,>=6.26.0->backbone-learn) (5.1.1)\n",
      "Requirement already satisfied: pygments>=2.4.0 in /Users/christosziakas/.pyenv/versions/3.9.7/lib/python3.9/site-packages (from ipython>=7.23.1->ipykernel<7.0.0,>=6.26.0->backbone-learn) (2.16.1)\n",
      "Requirement already satisfied: parso<0.9.0,>=0.8.0 in /Users/christosziakas/.pyenv/versions/3.9.7/lib/python3.9/site-packages (from jedi>=0.16->ipython>=7.23.1->ipykernel<7.0.0,>=6.26.0->backbone-learn) (0.8.3)\n",
      "Requirement already satisfied: nbconvert in /Users/christosziakas/.pyenv/versions/3.9.7/lib/python3.9/site-packages (from jupyter<2.0.0,>=1.0.0->backbone-learn) (7.11.0)\n",
      "Requirement already satisfied: qtconsole in /Users/christosziakas/.pyenv/versions/3.9.7/lib/python3.9/site-packages (from jupyter<2.0.0,>=1.0.0->backbone-learn) (5.5.1)\n",
      "Requirement already satisfied: ipywidgets in /Users/christosziakas/.pyenv/versions/3.9.7/lib/python3.9/site-packages (from jupyter<2.0.0,>=1.0.0->backbone-learn) (8.0.7)\n",
      "Requirement already satisfied: jupyter-console in /Users/christosziakas/.pyenv/versions/3.9.7/lib/python3.9/site-packages (from jupyter<2.0.0,>=1.0.0->backbone-learn) (6.6.3)\n",
      "Requirement already satisfied: notebook in /Users/christosziakas/.pyenv/versions/3.9.7/lib/python3.9/site-packages (from jupyter<2.0.0,>=1.0.0->backbone-learn) (7.0.6)\n",
      "Requirement already satisfied: importlib-metadata>=4.8.3 in /Users/christosziakas/.pyenv/versions/3.9.7/lib/python3.9/site-packages (from jupyter-client>=6.1.12->ipykernel<7.0.0,>=6.26.0->backbone-learn) (6.8.0)\n",
      "Requirement already satisfied: python-dateutil>=2.8.2 in /Users/christosziakas/.pyenv/versions/3.9.7/lib/python3.9/site-packages (from jupyter-client>=6.1.12->ipykernel<7.0.0,>=6.26.0->backbone-learn) (2.8.2)\n",
      "Requirement already satisfied: zipp>=0.5 in /Users/christosziakas/.pyenv/versions/3.9.7/lib/python3.9/site-packages (from importlib-metadata>=4.8.3->jupyter-client>=6.1.12->ipykernel<7.0.0,>=6.26.0->backbone-learn) (3.16.2)\n",
      "Requirement already satisfied: platformdirs>=2.5 in /Users/christosziakas/.pyenv/versions/3.9.7/lib/python3.9/site-packages (from jupyter-core!=5.0.*,>=4.12->ipykernel<7.0.0,>=6.26.0->backbone-learn) (3.11.0)\n",
      "Requirement already satisfied: scipy>=1.4.1 in /Users/christosziakas/.pyenv/versions/3.9.7/lib/python3.9/site-packages (from l0bnb<2.0.0,>=1.0.0->backbone-learn) (1.11.2)\n",
      "Requirement already satisfied: numba>=0.53.1 in /Users/christosziakas/.pyenv/versions/3.9.7/lib/python3.9/site-packages (from l0bnb<2.0.0,>=1.0.0->backbone-learn) (0.58.1)\n",
      "Requirement already satisfied: llvmlite<0.42,>=0.41.0dev0 in /Users/christosziakas/.pyenv/versions/3.9.7/lib/python3.9/site-packages (from numba>=0.53.1->l0bnb<2.0.0,>=1.0.0->backbone-learn) (0.41.1)\n",
      "Requirement already satisfied: ptyprocess>=0.5 in /Users/christosziakas/.pyenv/versions/3.9.7/lib/python3.9/site-packages (from pexpect>4.3->ipython>=7.23.1->ipykernel<7.0.0,>=6.26.0->backbone-learn) (0.7.0)\n",
      "Requirement already satisfied: nodeenv>=0.11.1 in /Users/christosziakas/.pyenv/versions/3.9.7/lib/python3.9/site-packages (from pre-commit<4.0.0,>=3.5.0->backbone-learn) (1.8.0)\n",
      "Requirement already satisfied: pyyaml>=5.1 in /Users/christosziakas/.pyenv/versions/3.9.7/lib/python3.9/site-packages (from pre-commit<4.0.0,>=3.5.0->backbone-learn) (6.0)\n",
      "Requirement already satisfied: virtualenv>=20.10.0 in /Users/christosziakas/.pyenv/versions/3.9.7/lib/python3.9/site-packages (from pre-commit<4.0.0,>=3.5.0->backbone-learn) (20.24.6)\n",
      "Requirement already satisfied: cfgv>=2.0.0 in /Users/christosziakas/.pyenv/versions/3.9.7/lib/python3.9/site-packages (from pre-commit<4.0.0,>=3.5.0->backbone-learn) (3.4.0)\n",
      "Requirement already satisfied: identify>=1.0.0 in /Users/christosziakas/.pyenv/versions/3.9.7/lib/python3.9/site-packages (from pre-commit<4.0.0,>=3.5.0->backbone-learn) (2.5.30)\n",
      "Requirement already satisfied: setuptools in /Users/christosziakas/.pyenv/versions/3.9.7/lib/python3.9/site-packages (from nodeenv>=0.11.1->pre-commit<4.0.0,>=3.5.0->backbone-learn) (57.4.0)\n",
      "Requirement already satisfied: wcwidth in /Users/christosziakas/.pyenv/versions/3.9.7/lib/python3.9/site-packages (from prompt-toolkit!=3.0.37,<3.1.0,>=3.0.30->ipython>=7.23.1->ipykernel<7.0.0,>=6.26.0->backbone-learn) (0.2.6)\n",
      "Requirement already satisfied: iniconfig in /Users/christosziakas/.pyenv/versions/3.9.7/lib/python3.9/site-packages (from pytest<8.0.0,>=7.4.3->backbone-learn) (2.0.0)\n",
      "Requirement already satisfied: exceptiongroup>=1.0.0rc8 in /Users/christosziakas/.pyenv/versions/3.9.7/lib/python3.9/site-packages (from pytest<8.0.0,>=7.4.3->backbone-learn) (1.1.3)\n",
      "Requirement already satisfied: pluggy<2.0,>=0.12 in /Users/christosziakas/.pyenv/versions/3.9.7/lib/python3.9/site-packages (from pytest<8.0.0,>=7.4.3->backbone-learn) (1.2.0)\n",
      "Requirement already satisfied: tomli>=1.0.0 in /Users/christosziakas/.pyenv/versions/3.9.7/lib/python3.9/site-packages (from pytest<8.0.0,>=7.4.3->backbone-learn) (2.0.1)\n",
      "Requirement already satisfied: six>=1.5 in /Users/christosziakas/.pyenv/versions/3.9.7/lib/python3.9/site-packages (from python-dateutil>=2.8.2->jupyter-client>=6.1.12->ipykernel<7.0.0,>=6.26.0->backbone-learn) (1.16.0)\n",
      "Requirement already satisfied: joblib>=1.1.1 in /Users/christosziakas/.pyenv/versions/3.9.7/lib/python3.9/site-packages (from scikit-learn<2.0.0,>=1.3.2->backbone-learn) (1.3.2)\n",
      "Requirement already satisfied: threadpoolctl>=2.0.0 in /Users/christosziakas/.pyenv/versions/3.9.7/lib/python3.9/site-packages (from scikit-learn<2.0.0,>=1.3.2->backbone-learn) (3.2.0)\n",
      "Requirement already satisfied: pandas>=1.2 in /Users/christosziakas/.pyenv/versions/3.9.7/lib/python3.9/site-packages (from seaborn<0.14.0,>=0.13.0->backbone-learn) (2.1.0)\n",
      "Requirement already satisfied: matplotlib!=3.6.1,>=3.3 in /Users/christosziakas/.pyenv/versions/3.9.7/lib/python3.9/site-packages (from seaborn<0.14.0,>=0.13.0->backbone-learn) (3.8.2)\n",
      "Requirement already satisfied: fonttools>=4.22.0 in /Users/christosziakas/.pyenv/versions/3.9.7/lib/python3.9/site-packages (from matplotlib!=3.6.1,>=3.3->seaborn<0.14.0,>=0.13.0->backbone-learn) (4.44.3)\n",
      "Requirement already satisfied: kiwisolver>=1.3.1 in /Users/christosziakas/.pyenv/versions/3.9.7/lib/python3.9/site-packages (from matplotlib!=3.6.1,>=3.3->seaborn<0.14.0,>=0.13.0->backbone-learn) (1.4.5)\n",
      "Requirement already satisfied: contourpy>=1.0.1 in /Users/christosziakas/.pyenv/versions/3.9.7/lib/python3.9/site-packages (from matplotlib!=3.6.1,>=3.3->seaborn<0.14.0,>=0.13.0->backbone-learn) (1.1.0)\n",
      "Requirement already satisfied: pyparsing>=2.3.1 in /Users/christosziakas/.pyenv/versions/3.9.7/lib/python3.9/site-packages (from matplotlib!=3.6.1,>=3.3->seaborn<0.14.0,>=0.13.0->backbone-learn) (3.1.1)\n",
      "Requirement already satisfied: importlib-resources>=3.2.0 in /Users/christosziakas/.pyenv/versions/3.9.7/lib/python3.9/site-packages (from matplotlib!=3.6.1,>=3.3->seaborn<0.14.0,>=0.13.0->backbone-learn) (6.1.1)\n",
      "Requirement already satisfied: cycler>=0.10 in /Users/christosziakas/.pyenv/versions/3.9.7/lib/python3.9/site-packages (from matplotlib!=3.6.1,>=3.3->seaborn<0.14.0,>=0.13.0->backbone-learn) (0.12.1)\n",
      "Requirement already satisfied: pillow>=8 in /Users/christosziakas/.pyenv/versions/3.9.7/lib/python3.9/site-packages (from matplotlib!=3.6.1,>=3.3->seaborn<0.14.0,>=0.13.0->backbone-learn) (9.5.0)\n",
      "Requirement already satisfied: pytz>=2020.1 in /Users/christosziakas/.pyenv/versions/3.9.7/lib/python3.9/site-packages (from pandas>=1.2->seaborn<0.14.0,>=0.13.0->backbone-learn) (2023.3)\n",
      "Requirement already satisfied: tzdata>=2022.1 in /Users/christosziakas/.pyenv/versions/3.9.7/lib/python3.9/site-packages (from pandas>=1.2->seaborn<0.14.0,>=0.13.0->backbone-learn) (2023.3)\n",
      "Requirement already satisfied: distlib<1,>=0.3.7 in /Users/christosziakas/.pyenv/versions/3.9.7/lib/python3.9/site-packages (from virtualenv>=20.10.0->pre-commit<4.0.0,>=3.5.0->backbone-learn) (0.3.7)\n",
      "Requirement already satisfied: filelock<4,>=3.12.2 in /Users/christosziakas/.pyenv/versions/3.9.7/lib/python3.9/site-packages (from virtualenv>=20.10.0->pre-commit<4.0.0,>=3.5.0->backbone-learn) (3.12.2)\n",
      "Requirement already satisfied: jupyterlab-widgets~=3.0.7 in /Users/christosziakas/.pyenv/versions/3.9.7/lib/python3.9/site-packages (from ipywidgets->jupyter<2.0.0,>=1.0.0->backbone-learn) (3.0.8)\n",
      "Requirement already satisfied: widgetsnbextension~=4.0.7 in /Users/christosziakas/.pyenv/versions/3.9.7/lib/python3.9/site-packages (from ipywidgets->jupyter<2.0.0,>=1.0.0->backbone-learn) (4.0.8)\n",
      "Requirement already satisfied: nbclient>=0.5.0 in /Users/christosziakas/.pyenv/versions/3.9.7/lib/python3.9/site-packages (from nbconvert->jupyter<2.0.0,>=1.0.0->backbone-learn) (0.9.0)\n",
      "Requirement already satisfied: tinycss2 in /Users/christosziakas/.pyenv/versions/3.9.7/lib/python3.9/site-packages (from nbconvert->jupyter<2.0.0,>=1.0.0->backbone-learn) (1.2.1)\n",
      "Requirement already satisfied: defusedxml in /Users/christosziakas/.pyenv/versions/3.9.7/lib/python3.9/site-packages (from nbconvert->jupyter<2.0.0,>=1.0.0->backbone-learn) (0.7.1)\n",
      "Requirement already satisfied: jinja2>=3.0 in /Users/christosziakas/.pyenv/versions/3.9.7/lib/python3.9/site-packages (from nbconvert->jupyter<2.0.0,>=1.0.0->backbone-learn) (3.1.2)\n",
      "Requirement already satisfied: pandocfilters>=1.4.1 in /Users/christosziakas/.pyenv/versions/3.9.7/lib/python3.9/site-packages (from nbconvert->jupyter<2.0.0,>=1.0.0->backbone-learn) (1.5.0)\n",
      "Requirement already satisfied: markupsafe>=2.0 in /Users/christosziakas/.pyenv/versions/3.9.7/lib/python3.9/site-packages (from nbconvert->jupyter<2.0.0,>=1.0.0->backbone-learn) (2.1.3)\n",
      "Requirement already satisfied: bleach!=5.0.0 in /Users/christosziakas/.pyenv/versions/3.9.7/lib/python3.9/site-packages (from nbconvert->jupyter<2.0.0,>=1.0.0->backbone-learn) (6.0.0)\n",
      "Requirement already satisfied: beautifulsoup4 in /Users/christosziakas/.pyenv/versions/3.9.7/lib/python3.9/site-packages (from nbconvert->jupyter<2.0.0,>=1.0.0->backbone-learn) (4.12.2)\n",
      "Requirement already satisfied: jupyterlab-pygments in /Users/christosziakas/.pyenv/versions/3.9.7/lib/python3.9/site-packages (from nbconvert->jupyter<2.0.0,>=1.0.0->backbone-learn) (0.2.2)\n",
      "Requirement already satisfied: mistune<4,>=2.0.3 in /Users/christosziakas/.pyenv/versions/3.9.7/lib/python3.9/site-packages (from nbconvert->jupyter<2.0.0,>=1.0.0->backbone-learn) (3.0.2)\n",
      "Requirement already satisfied: nbformat>=5.7 in /Users/christosziakas/.pyenv/versions/3.9.7/lib/python3.9/site-packages (from nbconvert->jupyter<2.0.0,>=1.0.0->backbone-learn) (5.9.2)\n",
      "Requirement already satisfied: webencodings in /Users/christosziakas/.pyenv/versions/3.9.7/lib/python3.9/site-packages (from bleach!=5.0.0->nbconvert->jupyter<2.0.0,>=1.0.0->backbone-learn) (0.5.1)\n",
      "Requirement already satisfied: fastjsonschema in /Users/christosziakas/.pyenv/versions/3.9.7/lib/python3.9/site-packages (from nbformat>=5.7->nbconvert->jupyter<2.0.0,>=1.0.0->backbone-learn) (2.19.0)\n",
      "Requirement already satisfied: jsonschema>=2.6 in /Users/christosziakas/.pyenv/versions/3.9.7/lib/python3.9/site-packages (from nbformat>=5.7->nbconvert->jupyter<2.0.0,>=1.0.0->backbone-learn) (4.20.0)\n",
      "Requirement already satisfied: attrs>=22.2.0 in /Users/christosziakas/.pyenv/versions/3.9.7/lib/python3.9/site-packages (from jsonschema>=2.6->nbformat>=5.7->nbconvert->jupyter<2.0.0,>=1.0.0->backbone-learn) (23.1.0)\n",
      "Requirement already satisfied: referencing>=0.28.4 in /Users/christosziakas/.pyenv/versions/3.9.7/lib/python3.9/site-packages (from jsonschema>=2.6->nbformat>=5.7->nbconvert->jupyter<2.0.0,>=1.0.0->backbone-learn) (0.31.0)\n",
      "Requirement already satisfied: rpds-py>=0.7.1 in /Users/christosziakas/.pyenv/versions/3.9.7/lib/python3.9/site-packages (from jsonschema>=2.6->nbformat>=5.7->nbconvert->jupyter<2.0.0,>=1.0.0->backbone-learn) (0.13.0)\n",
      "Requirement already satisfied: jsonschema-specifications>=2023.03.6 in /Users/christosziakas/.pyenv/versions/3.9.7/lib/python3.9/site-packages (from jsonschema>=2.6->nbformat>=5.7->nbconvert->jupyter<2.0.0,>=1.0.0->backbone-learn) (2023.11.1)\n",
      "Requirement already satisfied: soupsieve>1.2 in /Users/christosziakas/.pyenv/versions/3.9.7/lib/python3.9/site-packages (from beautifulsoup4->nbconvert->jupyter<2.0.0,>=1.0.0->backbone-learn) (2.5)\n",
      "Requirement already satisfied: jupyterlab-server<3,>=2.22.1 in /Users/christosziakas/.pyenv/versions/3.9.7/lib/python3.9/site-packages (from notebook->jupyter<2.0.0,>=1.0.0->backbone-learn) (2.25.2)\n",
      "Requirement already satisfied: jupyterlab<5,>=4.0.2 in /Users/christosziakas/.pyenv/versions/3.9.7/lib/python3.9/site-packages (from notebook->jupyter<2.0.0,>=1.0.0->backbone-learn) (4.0.9)\n",
      "Requirement already satisfied: jupyter-server<3,>=2.4.0 in /Users/christosziakas/.pyenv/versions/3.9.7/lib/python3.9/site-packages (from notebook->jupyter<2.0.0,>=1.0.0->backbone-learn) (2.10.1)\n",
      "Requirement already satisfied: notebook-shim<0.3,>=0.2 in /Users/christosziakas/.pyenv/versions/3.9.7/lib/python3.9/site-packages (from notebook->jupyter<2.0.0,>=1.0.0->backbone-learn) (0.2.3)\n",
      "Requirement already satisfied: overrides in /Users/christosziakas/.pyenv/versions/3.9.7/lib/python3.9/site-packages (from jupyter-server<3,>=2.4.0->notebook->jupyter<2.0.0,>=1.0.0->backbone-learn) (7.4.0)\n",
      "Requirement already satisfied: jupyter-server-terminals in /Users/christosziakas/.pyenv/versions/3.9.7/lib/python3.9/site-packages (from jupyter-server<3,>=2.4.0->notebook->jupyter<2.0.0,>=1.0.0->backbone-learn) (0.4.4)\n",
      "Requirement already satisfied: terminado>=0.8.3 in /Users/christosziakas/.pyenv/versions/3.9.7/lib/python3.9/site-packages (from jupyter-server<3,>=2.4.0->notebook->jupyter<2.0.0,>=1.0.0->backbone-learn) (0.18.0)\n",
      "Requirement already satisfied: websocket-client in /Users/christosziakas/.pyenv/versions/3.9.7/lib/python3.9/site-packages (from jupyter-server<3,>=2.4.0->notebook->jupyter<2.0.0,>=1.0.0->backbone-learn) (1.6.4)\n",
      "Requirement already satisfied: prometheus-client in /Users/christosziakas/.pyenv/versions/3.9.7/lib/python3.9/site-packages (from jupyter-server<3,>=2.4.0->notebook->jupyter<2.0.0,>=1.0.0->backbone-learn) (0.18.0)\n",
      "Requirement already satisfied: jupyter-events>=0.9.0 in /Users/christosziakas/.pyenv/versions/3.9.7/lib/python3.9/site-packages (from jupyter-server<3,>=2.4.0->notebook->jupyter<2.0.0,>=1.0.0->backbone-learn) (0.9.0)\n",
      "Requirement already satisfied: anyio>=3.1.0 in /Users/christosziakas/.pyenv/versions/3.9.7/lib/python3.9/site-packages (from jupyter-server<3,>=2.4.0->notebook->jupyter<2.0.0,>=1.0.0->backbone-learn) (3.7.1)\n",
      "Requirement already satisfied: send2trash>=1.8.2 in /Users/christosziakas/.pyenv/versions/3.9.7/lib/python3.9/site-packages (from jupyter-server<3,>=2.4.0->notebook->jupyter<2.0.0,>=1.0.0->backbone-learn) (1.8.2)\n",
      "Requirement already satisfied: argon2-cffi in /Users/christosziakas/.pyenv/versions/3.9.7/lib/python3.9/site-packages (from jupyter-server<3,>=2.4.0->notebook->jupyter<2.0.0,>=1.0.0->backbone-learn) (23.1.0)\n",
      "Requirement already satisfied: idna>=2.8 in /Users/christosziakas/.pyenv/versions/3.9.7/lib/python3.9/site-packages (from anyio>=3.1.0->jupyter-server<3,>=2.4.0->notebook->jupyter<2.0.0,>=1.0.0->backbone-learn) (3.4)\n",
      "Requirement already satisfied: sniffio>=1.1 in /Users/christosziakas/.pyenv/versions/3.9.7/lib/python3.9/site-packages (from anyio>=3.1.0->jupyter-server<3,>=2.4.0->notebook->jupyter<2.0.0,>=1.0.0->backbone-learn) (1.3.0)\n",
      "Requirement already satisfied: python-json-logger>=2.0.4 in /Users/christosziakas/.pyenv/versions/3.9.7/lib/python3.9/site-packages (from jupyter-events>=0.9.0->jupyter-server<3,>=2.4.0->notebook->jupyter<2.0.0,>=1.0.0->backbone-learn) (2.0.7)\n",
      "Requirement already satisfied: rfc3339-validator in /Users/christosziakas/.pyenv/versions/3.9.7/lib/python3.9/site-packages (from jupyter-events>=0.9.0->jupyter-server<3,>=2.4.0->notebook->jupyter<2.0.0,>=1.0.0->backbone-learn) (0.1.4)\n",
      "Requirement already satisfied: rfc3986-validator>=0.1.1 in /Users/christosziakas/.pyenv/versions/3.9.7/lib/python3.9/site-packages (from jupyter-events>=0.9.0->jupyter-server<3,>=2.4.0->notebook->jupyter<2.0.0,>=1.0.0->backbone-learn) (0.1.1)\n",
      "Requirement already satisfied: jsonpointer>1.13 in /Users/christosziakas/.pyenv/versions/3.9.7/lib/python3.9/site-packages (from jsonschema>=2.6->nbformat>=5.7->nbconvert->jupyter<2.0.0,>=1.0.0->backbone-learn) (2.4)\n",
      "Requirement already satisfied: uri-template in /Users/christosziakas/.pyenv/versions/3.9.7/lib/python3.9/site-packages (from jsonschema>=2.6->nbformat>=5.7->nbconvert->jupyter<2.0.0,>=1.0.0->backbone-learn) (1.3.0)\n",
      "Requirement already satisfied: webcolors>=1.11 in /Users/christosziakas/.pyenv/versions/3.9.7/lib/python3.9/site-packages (from jsonschema>=2.6->nbformat>=5.7->nbconvert->jupyter<2.0.0,>=1.0.0->backbone-learn) (1.13)\n",
      "Requirement already satisfied: isoduration in /Users/christosziakas/.pyenv/versions/3.9.7/lib/python3.9/site-packages (from jsonschema>=2.6->nbformat>=5.7->nbconvert->jupyter<2.0.0,>=1.0.0->backbone-learn) (20.11.0)\n",
      "Requirement already satisfied: fqdn in /Users/christosziakas/.pyenv/versions/3.9.7/lib/python3.9/site-packages (from jsonschema>=2.6->nbformat>=5.7->nbconvert->jupyter<2.0.0,>=1.0.0->backbone-learn) (1.5.1)\n",
      "Requirement already satisfied: jupyter-lsp>=2.0.0 in /Users/christosziakas/.pyenv/versions/3.9.7/lib/python3.9/site-packages (from jupyterlab<5,>=4.0.2->notebook->jupyter<2.0.0,>=1.0.0->backbone-learn) (2.2.0)\n",
      "Requirement already satisfied: async-lru>=1.0.0 in /Users/christosziakas/.pyenv/versions/3.9.7/lib/python3.9/site-packages (from jupyterlab<5,>=4.0.2->notebook->jupyter<2.0.0,>=1.0.0->backbone-learn) (2.0.4)\n",
      "Requirement already satisfied: json5>=0.9.0 in /Users/christosziakas/.pyenv/versions/3.9.7/lib/python3.9/site-packages (from jupyterlab-server<3,>=2.22.1->notebook->jupyter<2.0.0,>=1.0.0->backbone-learn) (0.9.14)\n",
      "Requirement already satisfied: babel>=2.10 in /Users/christosziakas/.pyenv/versions/3.9.7/lib/python3.9/site-packages (from jupyterlab-server<3,>=2.22.1->notebook->jupyter<2.0.0,>=1.0.0->backbone-learn) (2.13.1)\n",
      "Requirement already satisfied: requests>=2.31 in /Users/christosziakas/.pyenv/versions/3.9.7/lib/python3.9/site-packages (from jupyterlab-server<3,>=2.22.1->notebook->jupyter<2.0.0,>=1.0.0->backbone-learn) (2.31.0)\n",
      "Requirement already satisfied: charset-normalizer<4,>=2 in /Users/christosziakas/.pyenv/versions/3.9.7/lib/python3.9/site-packages (from requests>=2.31->jupyterlab-server<3,>=2.22.1->notebook->jupyter<2.0.0,>=1.0.0->backbone-learn) (3.2.0)\n",
      "Requirement already satisfied: urllib3<3,>=1.21.1 in /Users/christosziakas/.pyenv/versions/3.9.7/lib/python3.9/site-packages (from requests>=2.31->jupyterlab-server<3,>=2.22.1->notebook->jupyter<2.0.0,>=1.0.0->backbone-learn) (1.26.17)\n",
      "Requirement already satisfied: certifi>=2017.4.17 in /Users/christosziakas/.pyenv/versions/3.9.7/lib/python3.9/site-packages (from requests>=2.31->jupyterlab-server<3,>=2.22.1->notebook->jupyter<2.0.0,>=1.0.0->backbone-learn) (2023.7.22)\n",
      "Requirement already satisfied: argon2-cffi-bindings in /Users/christosziakas/.pyenv/versions/3.9.7/lib/python3.9/site-packages (from argon2-cffi->jupyter-server<3,>=2.4.0->notebook->jupyter<2.0.0,>=1.0.0->backbone-learn) (21.2.0)\n",
      "Requirement already satisfied: cffi>=1.0.1 in /Users/christosziakas/.pyenv/versions/3.9.7/lib/python3.9/site-packages (from argon2-cffi-bindings->argon2-cffi->jupyter-server<3,>=2.4.0->notebook->jupyter<2.0.0,>=1.0.0->backbone-learn) (1.15.1)\n",
      "Requirement already satisfied: pycparser in /Users/christosziakas/.pyenv/versions/3.9.7/lib/python3.9/site-packages (from cffi>=1.0.1->argon2-cffi-bindings->argon2-cffi->jupyter-server<3,>=2.4.0->notebook->jupyter<2.0.0,>=1.0.0->backbone-learn) (2.21)\n",
      "Requirement already satisfied: arrow>=0.15.0 in /Users/christosziakas/.pyenv/versions/3.9.7/lib/python3.9/site-packages (from isoduration->jsonschema>=2.6->nbformat>=5.7->nbconvert->jupyter<2.0.0,>=1.0.0->backbone-learn) (1.3.0)\n",
      "Requirement already satisfied: types-python-dateutil>=2.8.10 in /Users/christosziakas/.pyenv/versions/3.9.7/lib/python3.9/site-packages (from arrow>=0.15.0->isoduration->jsonschema>=2.6->nbformat>=5.7->nbconvert->jupyter<2.0.0,>=1.0.0->backbone-learn) (2.8.19.14)\n",
      "Requirement already satisfied: qtpy>=2.4.0 in /Users/christosziakas/.pyenv/versions/3.9.7/lib/python3.9/site-packages (from qtconsole->jupyter<2.0.0,>=1.0.0->backbone-learn) (2.4.1)\n",
      "Requirement already satisfied: pure-eval in /Users/christosziakas/.pyenv/versions/3.9.7/lib/python3.9/site-packages (from stack-data->ipython>=7.23.1->ipykernel<7.0.0,>=6.26.0->backbone-learn) (0.2.2)\n",
      "Requirement already satisfied: asttokens>=2.1.0 in /Users/christosziakas/.pyenv/versions/3.9.7/lib/python3.9/site-packages (from stack-data->ipython>=7.23.1->ipykernel<7.0.0,>=6.26.0->backbone-learn) (2.2.1)\n",
      "Requirement already satisfied: executing>=1.2.0 in /Users/christosziakas/.pyenv/versions/3.9.7/lib/python3.9/site-packages (from stack-data->ipython>=7.23.1->ipykernel<7.0.0,>=6.26.0->backbone-learn) (1.2.0)\n",
      "\u001b[33mWARNING: You are using pip version 21.2.3; however, version 23.3.1 is available.\n",
      "You should consider upgrading via the '/Users/christosziakas/.pyenv/versions/3.9.7/bin/python3.9 -m pip install --upgrade pip' command.\u001b[0m\n"
     ]
    }
   ],
   "source": [
    "!pip install backbone-learn"
   ]
  },
  {
   "cell_type": "code",
   "execution_count": 3,
   "metadata": {},
   "outputs": [],
   "source": [
    "from sklearn.datasets import make_regression\n",
    "from backbone_learn.backbone.backbone_sparse_regression import BackboneSparseRegression\n",
    "    \n",
    "X, y = make_regression(\n",
    "        n_samples=1000, n_features=500, n_informative=5, noise=0.1, random_state=42\n",
    ")"
   ]
  },
  {
   "cell_type": "code",
   "execution_count": 4,
   "metadata": {},
   "outputs": [
    {
     "name": "stderr",
     "output_type": "stream",
     "text": [
      "2023-11-19 04:15:18,567 - INFO - Screen selection started.\n",
      "2023-11-19 04:15:18,585 - INFO - Number of variables included in the heuristic solver: 250\n",
      "2023-11-19 04:15:18,586 - INFO - Backbone construction with heuristic solver started for iterations:1, subproblems:5 , and beta:0.5\n",
      "2023-11-19 04:15:18,587 - INFO - Iteration 1 started.\n",
      "2023-11-19 04:15:22,955 - INFO - Iteration 1 completed.\n",
      "2023-11-19 04:15:22,968 - INFO - Backbone set idx: [  6   7  41  51  65  66  84  87 100 116 117 166 169 174 188 199 214 236\n",
      " 250 255 269 287 329 340 349 351 355 402 408 414 416 422 438 487]\n",
      "2023-11-19 04:15:22,990 - INFO - Number of variables included in the exact solver: 34\n"
     ]
    },
    {
     "name": "stdout",
     "output_type": "stream",
     "text": [
      "Preprocessing Data.\n",
      "BnB Started.\n"
     ]
    },
    {
     "name": "stderr",
     "output_type": "stream",
     "text": [
      "/Users/christosziakas/.pyenv/versions/3.9.7/lib/python3.9/site-packages/numba/core/ir_utils.py:2172: NumbaPendingDeprecationWarning: \n",
      "Encountered the use of a type that is scheduled for deprecation: type 'reflected set' found for argument 'support' of function 'cd_loop'.\n",
      "\n",
      "For more information visit https://numba.readthedocs.io/en/stable/reference/deprecation.html#deprecation-of-reflection-for-list-and-set-types\n",
      "\n",
      "File \"../../../.pyenv/versions/3.9.7/lib/python3.9/site-packages/l0bnb/relaxation/_coordinate_descent.py\", line 10:\n",
      "@njit(cache=True)\n",
      "def cd_loop(x, beta, index_map, l2, _ratio, threshold, m, xi_xi, zlb, zub,\n",
      "^\n",
      "\n",
      "  warnings.warn(NumbaPendingDeprecationWarning(msg, loc=loc))\n",
      "/Users/christosziakas/.pyenv/versions/3.9.7/lib/python3.9/site-packages/l0bnb/relaxation/_coordinate_descent.py:25: NumbaPerformanceWarning: np.dot() is faster on contiguous arrays, called on (Array(float64, 1, 'C', False, aligned=True), Array(float64, 1, 'A', False, aligned=True))\n",
      "  ri_xi = dot_product(r, x_i)\n",
      "/Users/christosziakas/.pyenv/versions/3.9.7/lib/python3.9/site-packages/numba/core/ir_utils.py:2172: NumbaPendingDeprecationWarning: \n",
      "Encountered the use of a type that is scheduled for deprecation: type 'reflected set' found for argument 'support' of function 'cd_loop'.\n",
      "\n",
      "For more information visit https://numba.readthedocs.io/en/stable/reference/deprecation.html#deprecation-of-reflection-for-list-and-set-types\n",
      "\n",
      "File \"../../../.pyenv/versions/3.9.7/lib/python3.9/site-packages/l0bnb/relaxation/_coordinate_descent.py\", line 10:\n",
      "@njit(cache=True)\n",
      "def cd_loop(x, beta, index_map, l2, _ratio, threshold, m, xi_xi, zlb, zub,\n",
      "^\n",
      "\n",
      "  warnings.warn(NumbaPendingDeprecationWarning(msg, loc=loc))\n"
     ]
    },
    {
     "name": "stdout",
     "output_type": "stream",
     "text": [
      "Iteration: 1. Number of non-zeros:  1\n",
      "Iteration: 2. Number of non-zeros:  1\n",
      "Iteration: 3. Number of non-zeros:  2\n",
      "Iteration: 4. Number of non-zeros:  3\n",
      "Iteration: 5. Number of non-zeros:  4\n",
      "Iteration: 6. Number of non-zeros:  5\n",
      "Iteration: 7. Number of non-zeros:  5\n",
      "Iteration: 8. Number of non-zeros:  5\n",
      "Iteration: 9. Number of non-zeros:  5\n",
      "Iteration: 10. Number of non-zeros:  5\n",
      "Iteration: 11. Number of non-zeros:  5\n",
      "Iteration: 12. Number of non-zeros:  5\n",
      "Iteration: 13. Number of non-zeros:  5\n",
      "Iteration: 14. Number of non-zeros:  5\n",
      "Iteration: 15. Number of non-zeros:  5\n",
      "Iteration: 16. Number of non-zeros:  5\n",
      "Iteration: 17. Number of non-zeros:  5\n",
      "Iteration: 18. Number of non-zeros:  5\n",
      "Iteration: 19. Number of non-zeros:  5\n",
      "Iteration: 20. Number of non-zeros:  5\n",
      "Iteration: 21. Number of non-zeros:  5\n",
      "Iteration: 22. Number of non-zeros:  5\n",
      "Iteration: 23. Number of non-zeros:  5\n",
      "Iteration: 24. Number of non-zeros:  5\n",
      "Iteration: 25. Number of non-zeros:  5\n",
      "Iteration: 26. Number of non-zeros:  5\n",
      "Iteration: 27. Number of non-zeros:  5\n",
      "Iteration: 28. Number of non-zeros:  5\n"
     ]
    },
    {
     "name": "stderr",
     "output_type": "stream",
     "text": [
      "2023-11-19 04:15:39,973 - INFO - Exact problem solved.\n"
     ]
    },
    {
     "name": "stdout",
     "output_type": "stream",
     "text": [
      "Iteration: 29. Number of non-zeros:  34\n"
     ]
    }
   ],
   "source": [
    "backbone = BackboneSparseRegression(alpha=0.5, beta=0.5, num_subproblems=5, num_iterations= 1, lambda_2 = 0.001, max_nonzeros= 10)\n",
    "backbone.fit(X, y)"
   ]
  },
  {
   "cell_type": "code",
   "execution_count": 5,
   "metadata": {},
   "outputs": [],
   "source": [
    "y_pred = backbone.predict(X)"
   ]
  },
  {
   "cell_type": "code",
   "execution_count": null,
   "metadata": {},
   "outputs": [],
   "source": []
  }
 ],
 "metadata": {
  "kernelspec": {
   "display_name": "backbone-XyLFsdvc-py3.9",
   "language": "python",
   "name": "python3"
  },
  "language_info": {
   "codemirror_mode": {
    "name": "ipython",
    "version": 3
   },
   "file_extension": ".py",
   "mimetype": "text/x-python",
   "name": "python",
   "nbconvert_exporter": "python",
   "pygments_lexer": "ipython3",
   "version": "3.9.7"
  },
  "orig_nbformat": 4
 },
 "nbformat": 4,
 "nbformat_minor": 2
}
